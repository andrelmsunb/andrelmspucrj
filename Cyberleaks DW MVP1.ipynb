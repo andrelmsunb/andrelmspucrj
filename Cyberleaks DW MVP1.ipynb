{
 "cells": [
  {
   "cell_type": "markdown",
   "metadata": {
    "application/vnd.databricks.v1+cell": {
     "cellMetadata": {
      "byteLimit": 2048000,
      "rowLimit": 10000
     },
     "inputWidgets": {},
     "nuid": "e4933d52-52f3-492c-98eb-08b99f4f78d3",
     "showTitle": false,
     "tableResultSettingsMap": {},
     "title": ""
    }
   },
   "source": [
    "# CyberLeaks DW (MVP)\n",
    "\n",
    "_Autor:_ André Serrano"
   ]
  },
  {
   "cell_type": "markdown",
   "metadata": {
    "application/vnd.databricks.v1+cell": {
     "cellMetadata": {
      "byteLimit": 2048000,
      "rowLimit": 10000
     },
     "inputWidgets": {},
     "nuid": "6609acc8-c876-48ec-8ff6-475e6fec3f72",
     "showTitle": false,
     "tableResultSettingsMap": {},
     "title": ""
    }
   },
   "source": [
    "## 1. Descrição\n",
    "\n",
    "O CyberLeaks DW é uma solução de Data Warehouse desenvolvida para analisar, monitorar e detectar padrões em vazamentos de dados. Utilizando um modelo estrela, a plataforma estrutura informações sobre violações de segurança, permitindo consultas avançadas e insights estratégicos para mitigar riscos cibernéticos."
   ]
  },
  {
   "cell_type": "markdown",
   "metadata": {
    "application/vnd.databricks.v1+cell": {
     "cellMetadata": {
      "byteLimit": 2048000,
      "rowLimit": 10000
     },
     "inputWidgets": {},
     "nuid": "cda135e6-560f-4414-9114-eecf4990ac6e",
     "showTitle": false,
     "tableResultSettingsMap": {},
     "title": ""
    }
   },
   "source": [
    "## 2. Objetivo\n",
    "\n",
    "O CyberLeaks DW resolve esses desafios ao estruturar os dados sobre vazamentos em um Data Warehouse, facilitando a análise por meio de consultas SQL otimizadas e integração com ferramentas de visualização de dados. A solução inclui:\n",
    "- Coleta e armazenamento de dados do Kaggle.\n",
    "- Modelo estrela para organizar as informações e permitir consultas eficientes.\n",
    "- Pipeline ETL para extração, transformação e carga dos dados.\n",
    "- Análises e insights sobre frequência, setores afetados e métodos de ataque."
   ]
  },
  {
   "cell_type": "markdown",
   "metadata": {
    "application/vnd.databricks.v1+cell": {
     "cellMetadata": {
      "byteLimit": 2048000,
      "rowLimit": 10000
     },
     "inputWidgets": {},
     "nuid": "34210a16-23ae-4e67-b32e-993a92dd6a95",
     "showTitle": false,
     "tableResultSettingsMap": {},
     "title": ""
    }
   },
   "source": [
    "## 3. Implementação\n",
    "\n",
    "A implementação visa criar uma estrutura robusta para análise de vazamentos de dados, utilizando um Data Warehouse baseado no modelo estrela. Esse processo permitirá consultas otimizadas, análises preditivas e identificação de padrões de ataques cibernéticos.\n",
    "\n",
    "A seguir mostraremos a implementação e no final apresentaremos respostas de algumas perguntas interessantes para temática."
   ]
  },
  {
   "cell_type": "markdown",
   "metadata": {
    "application/vnd.databricks.v1+cell": {
     "cellMetadata": {
      "byteLimit": 2048000,
      "rowLimit": 10000
     },
     "inputWidgets": {},
     "nuid": "511dd002-1560-455d-880d-eda2a53faade",
     "showTitle": false,
     "tableResultSettingsMap": {},
     "title": ""
    }
   },
   "source": [
    "### 3.1. Base de dados (Kaggle)\n",
    "\n",
    "A base de dados utilizada foi obtida no Kaggle, a partir do dataset \"Data Breaches - A Comprehensive List\", disponível em:\n",
    "\n",
    "[Kaggle: Data Breaches - A Comprehensive List](https://www.kaggle.com/datasets/thedevastator/data-breaches-a-comprehensive-list)\n",
    "\n",
    "Esse conjunto de dados fornece um histórico detalhado sobre vazamentos de dados, abrangendo diversas organizações e setores, permitindo análises sobre a frequência, magnitude e causas desses incidentes ao longo dos anos.\n",
    "\n",
    "O dataset contém informações estruturadas sobre vazamentos de dados ocorridos desde o ano 2004, abrangendo os seguintes atributos:\n",
    "\n",
    "| **Atributo**            | **Descrição** |\n",
    "|-------------------------|--------------|\n",
    "| `Entity`               | Nome da organização que sofreu o vazamento de dados. |\n",
    "| `Year`                 | Ano em que o vazamento ocorreu. |\n",
    "| `Records`              | Número de registros comprometidos. |\n",
    "| `Organization type`    | Setor da organização (ex: Tecnologia, Saúde, Governo, Educação). |\n",
    "| `Method`               | Método pelo qual os dados foram vazados (ex: hacking, erro humano, malware). |\n",
    "| `Sources`              | Fonte da informação sobre o vazamento (artigos, relatórios, investigações públicas). |"
   ]
  },
  {
   "cell_type": "code",
   "execution_count": 0,
   "metadata": {
    "application/vnd.databricks.v1+cell": {
     "cellMetadata": {
      "byteLimit": 2048000,
      "rowLimit": 10000
     },
     "inputWidgets": {},
     "nuid": "4e7c8c49-95c0-4dbd-b347-1c0701f4474f",
     "showTitle": false,
     "tableResultSettingsMap": {},
     "title": ""
    }
   },
   "outputs": [
    {
     "output_type": "stream",
     "name": "stdout",
     "output_type": "stream",
     "text": [
      "Python interpreter will be restarted.\nPython interpreter will be restarted.\n"
     ]
    }
   ],
   "source": [
    "# Instalando os pacote kaggle para baixar o dataset pela API\n",
    "%pip install kaggle -q"
   ]
  },
  {
   "cell_type": "code",
   "execution_count": 0,
   "metadata": {
    "application/vnd.databricks.v1+cell": {
     "cellMetadata": {
      "byteLimit": 2048000,
      "rowLimit": 10000
     },
     "inputWidgets": {},
     "nuid": "f6cacf36-e97c-4638-8f1d-799f3886cb5c",
     "showTitle": false,
     "tableResultSettingsMap": {},
     "title": ""
    }
   },
   "outputs": [],
   "source": [
    "import json\n",
    "import os\n",
    "\n",
    "# Função de autenticação na plataforma Kaggle\n",
    "def kaggle_auth_setup(kaggle_auth):\n",
    "    try:\n",
    "        # Cria o diretório \"~/.kaggle\"\n",
    "        os.makedirs(os.path.expanduser(\"~/.kaggle\"), exist_ok=True)\n",
    "        output_file = os.path.expanduser(\"~/.kaggle/kaggle.json\")\n",
    "\n",
    "        # Cria o arquivo \"kaggle.json\" com as credenciais\n",
    "        with open(output_file, \"w\") as file:\n",
    "            json.dump(json.loads(kaggle_auth), file, indent=4)\n",
    "        \n",
    "        os.chmod(output_file, 0o600)  # Define permissões seguras\n",
    "        print(\"Autenticação Kaggle configurada com sucesso!\")\n",
    "    \n",
    "    except Exception as e:\n",
    "        print(f\"Erro na autenticação: {e}\")"
   ]
  },
  {
   "cell_type": "code",
   "execution_count": 0,
   "metadata": {
    "application/vnd.databricks.v1+cell": {
     "cellMetadata": {
      "byteLimit": 2048000,
      "rowLimit": 10000
     },
     "inputWidgets": {},
     "nuid": "6153e09a-f510-4b9d-8819-658b1f8e0ecd",
     "showTitle": false,
     "tableResultSettingsMap": {},
     "title": ""
    }
   },
   "outputs": [
    {
     "output_type": "stream",
     "name": "stdout",
     "output_type": "stream",
     "text": [
      "Autenticação Kaggle configurada com sucesso!\n"
     ]
    }
   ],
   "source": [
    "# Realiza a autenticação com as credenciais informadas (Token API)\n",
    "kaggle_auth_setup('{\"username\":\"andreserrano\",\"key\":\"XXXXXXX\"}')"
   ]
  },
  {
   "cell_type": "code",
   "execution_count": 0,
   "metadata": {
    "application/vnd.databricks.v1+cell": {
     "cellMetadata": {
      "byteLimit": 2048000,
      "rowLimit": 10000
     },
     "inputWidgets": {},
     "nuid": "d7782620-23d7-40b0-b55b-06a1bd03aa0d",
     "showTitle": false,
     "tableResultSettingsMap": {},
     "title": ""
    }
   },
   "outputs": [
    {
     "output_type": "stream",
     "name": "stdout",
     "output_type": "stream",
     "text": [
      "{\r\n    \"username\": \"andreserrano\",\r\n    \"key\": \"XXXXXXX\"\r\n}"
     ]
    }
   ],
   "source": [
    "# Visualizando o json criado\n",
    "!cat ~/.kaggle/kaggle.json"
   ]
  },
  {
   "cell_type": "code",
   "execution_count": 0,
   "metadata": {
    "application/vnd.databricks.v1+cell": {
     "cellMetadata": {
      "byteLimit": 2048000,
      "rowLimit": 10000
     },
     "inputWidgets": {},
     "nuid": "50cfdc9d-4a1c-481d-9560-fcb1df4aaf2e",
     "showTitle": false,
     "tableResultSettingsMap": {},
     "title": ""
    }
   },
   "outputs": [
    {
     "output_type": "stream",
     "name": "stdout",
     "output_type": "stream",
     "text": [
      "Dataset URL: https://www.kaggle.com/datasets/thedevastator/data-breaches-a-comprehensive-list\r\nLicense(s): CC0-1.0\r\n"
     ]
    }
   ],
   "source": [
    "# Realizando o download do dataset data-breaches-a-comprehensive-list\n",
    "!kaggle datasets download -d thedevastator/data-breaches-a-comprehensive-list"
   ]
  },
  {
   "cell_type": "code",
   "execution_count": 0,
   "metadata": {
    "application/vnd.databricks.v1+cell": {
     "cellMetadata": {
      "byteLimit": 2048000,
      "rowLimit": 10000
     },
     "inputWidgets": {},
     "nuid": "70550890-3d68-44c4-a388-b064dae0ce6e",
     "showTitle": false,
     "tableResultSettingsMap": {},
     "title": ""
    }
   },
   "outputs": [
    {
     "output_type": "stream",
     "name": "stdout",
     "output_type": "stream",
     "text": [
      "Out[5]: [FileInfo(path='file:/databricks/driver/preload_class.lst', name='preload_class.lst', size=1306936, modificationTime=1742827285593),\n FileInfo(path='file:/databricks/driver/azure/', name='azure/', size=4096, modificationTime=1742827285575),\n FileInfo(path='file:/databricks/driver/hadoop_accessed_config.lst', name='hadoop_accessed_config.lst', size=2755, modificationTime=1742827285580),\n FileInfo(path='file:/databricks/driver/conf/', name='conf/', size=4096, modificationTime=1742827284779),\n FileInfo(path='file:/databricks/driver/eventlogs/', name='eventlogs/', size=4096, modificationTime=1742838345495),\n FileInfo(path='file:/databricks/driver/data-breaches-a-comprehensive-list.zip', name='data-breaches-a-comprehensive-list.zip', size=9067, modificationTime=1668096970000),\n FileInfo(path='file:/databricks/driver/logs/', name='logs/', size=4096, modificationTime=1742838360620)]"
     ]
    }
   ],
   "source": [
    "# Listando os arquivos para verificar se o download foi realizado com sucesso (data-breaches-a-comprehensive-list.zip)\n",
    "dbutils.fs.ls('file:/databricks/driver')"
   ]
  },
  {
   "cell_type": "code",
   "execution_count": 0,
   "metadata": {
    "application/vnd.databricks.v1+cell": {
     "cellMetadata": {
      "byteLimit": 2048000,
      "rowLimit": 10000
     },
     "inputWidgets": {},
     "nuid": "4f0fbc0b-449e-4449-a004-7aae1aa26214",
     "showTitle": false,
     "tableResultSettingsMap": {},
     "title": ""
    }
   },
   "outputs": [
    {
     "output_type": "stream",
     "name": "stdout",
     "output_type": "stream",
     "text": [
      "Archive:  /databricks/driver/data-breaches-a-comprehensive-list.zip\r\n  inflating: df_1.csv                \r\n"
     ]
    }
   ],
   "source": [
    "# Descompactando o arquivo data-breaches-a-comprehensive-list.zip\n",
    "!unzip /databricks/driver/data-breaches-a-comprehensive-list.zip"
   ]
  },
  {
   "cell_type": "code",
   "execution_count": 0,
   "metadata": {
    "application/vnd.databricks.v1+cell": {
     "cellMetadata": {
      "byteLimit": 2048000,
      "rowLimit": 10000
     },
     "inputWidgets": {},
     "nuid": "22a3fc53-24ec-4217-8923-2b7e70141b17",
     "showTitle": false,
     "tableResultSettingsMap": {},
     "title": ""
    }
   },
   "outputs": [
    {
     "output_type": "stream",
     "name": "stdout",
     "output_type": "stream",
     "text": [
      "Out[7]: [FileInfo(path='file:/databricks/driver/preload_class.lst', name='preload_class.lst', size=1306936, modificationTime=1742827285593),\n FileInfo(path='file:/databricks/driver/azure/', name='azure/', size=4096, modificationTime=1742827285575),\n FileInfo(path='file:/databricks/driver/hadoop_accessed_config.lst', name='hadoop_accessed_config.lst', size=2755, modificationTime=1742827285580),\n FileInfo(path='file:/databricks/driver/conf/', name='conf/', size=4096, modificationTime=1742827284779),\n FileInfo(path='file:/databricks/driver/eventlogs/', name='eventlogs/', size=4096, modificationTime=1742838345495),\n FileInfo(path='file:/databricks/driver/df_1.csv', name='df_1.csv', size=23269, modificationTime=1668096968000),\n FileInfo(path='file:/databricks/driver/data-breaches-a-comprehensive-list.zip', name='data-breaches-a-comprehensive-list.zip', size=9067, modificationTime=1668096970000),\n FileInfo(path='file:/databricks/driver/logs/', name='logs/', size=4096, modificationTime=1742838360620)]"
     ]
    }
   ],
   "source": [
    "\n",
    "# Listando os arquivos\n",
    "dbutils.fs.ls('file:/databricks/driver')"
   ]
  },
  {
   "cell_type": "code",
   "execution_count": 0,
   "metadata": {
    "application/vnd.databricks.v1+cell": {
     "cellMetadata": {
      "byteLimit": 2048000,
      "rowLimit": 10000
     },
     "inputWidgets": {},
     "nuid": "371b9c51-82bb-4970-a97b-b5672dffda1a",
     "showTitle": false,
     "tableResultSettingsMap": {},
     "title": ""
    }
   },
   "outputs": [
    {
     "output_type": "stream",
     "name": "stdout",
     "output_type": "stream",
     "text": [
      "Out[8]: True"
     ]
    }
   ],
   "source": [
    "# Renomea e move o dataset df_1.csv para data-breaches-a-comprehensive-list.csv\n",
    "dbutils.fs.mv('file:/databricks/driver/df_1.csv', 'dbfs:/Filestore/data-breaches-a-comprehensive-list.csv', recurse=True)"
   ]
  },
  {
   "cell_type": "code",
   "execution_count": 0,
   "metadata": {
    "application/vnd.databricks.v1+cell": {
     "cellMetadata": {
      "byteLimit": 2048000,
      "rowLimit": 10000
     },
     "inputWidgets": {},
     "nuid": "5b6aad1f-a3e4-4389-8567-d0cee602edbc",
     "showTitle": false,
     "tableResultSettingsMap": {},
     "title": ""
    }
   },
   "outputs": [
    {
     "output_type": "stream",
     "name": "stdout",
     "output_type": "stream",
     "text": [
      "Out[9]: [FileInfo(path='dbfs:/Filestore/data-breaches-a-comprehensive-list.csv', name='data-breaches-a-comprehensive-list.csv', size=23269, modificationTime=1742838500000)]"
     ]
    }
   ],
   "source": [
    "# Lista o arquivo para verificar se foi renomeado o CSV\n",
    "dbutils.fs.ls('dbfs:/Filestore')"
   ]
  },
  {
   "cell_type": "markdown",
   "metadata": {
    "application/vnd.databricks.v1+cell": {
     "cellMetadata": {
      "byteLimit": 2048000,
      "rowLimit": 10000
     },
     "inputWidgets": {},
     "nuid": "55a6c4cc-4a96-4ce0-a587-7fb96de4cf2a",
     "showTitle": false,
     "tableResultSettingsMap": {},
     "title": ""
    }
   },
   "source": [
    "\n",
    "### 3.2. Coleta\n",
    "\n",
    "A coleta de dados foi realizada a partir do dataset \"Data Breaches - A Comprehensive List\", disponível no Kaggle. Esse conjunto de dados foi baixado e armazenado na nuvem, garantindo acessibilidade para processamento e análise. Durante essa etapa, os dados passaram por um processo de verificação para assegurar sua integridade, incluindo a remoção de duplicatas, a conversão de tipos de dados e o tratamento de valores ausentes. Caso necessário, futuras expansões poderão incluir a extração de novas fontes de dados, como relatórios de segurança pública e bases de dados governamentais sobre incidentes de vazamento."
   ]
  },
  {
   "cell_type": "code",
   "execution_count": 0,
   "metadata": {
    "application/vnd.databricks.v1+cell": {
     "cellMetadata": {
      "byteLimit": 2048000,
      "rowLimit": 10000
     },
     "inputWidgets": {},
     "nuid": "e2f020b9-abc3-4a13-ae5f-9d0ef3f896cb",
     "showTitle": false,
     "tableResultSettingsMap": {},
     "title": ""
    }
   },
   "outputs": [
    {
     "output_type": "stream",
     "name": "stdout",
     "output_type": "stream",
     "text": [
      "root\n |-- _c0: integer (nullable = true)\n |-- Entity: string (nullable = true)\n |-- Year: integer (nullable = true)\n |-- Records: long (nullable = true)\n |-- Organization_Type: string (nullable = true)\n |-- Method_Name: string (nullable = true)\n |-- Source_Details: string (nullable = true)\n\n+---+--------------------+----+---------+-----------------+-------------------+--------------+\n|_c0|              Entity|Year|  Records|Organization_Type|        Method_Name|Source_Details|\n+---+--------------------+----+---------+-----------------+-------------------+--------------+\n|  5|Advocate Medical ...|2017|  4000000|       healthcare|lost / stolen media|      [13][14]|\n|  4|          Adobe Inc.|2019|  7500000|             tech|      poor security|      [11][12]|\n|  3|Adobe Systems Inc...|2013|152000000|             tech|             hacked|          [10]|\n|  1|               500px|2020| 14870304|social networking|             hacked|           [7]|\n|  0|21st Century Onco...|2016|  2200000|       healthcare|             hacked|        [5][6]|\n+---+--------------------+----+---------+-----------------+-------------------+--------------+\nonly showing top 5 rows\n\n"
     ]
    }
   ],
   "source": [
    "from pyspark.sql import SparkSession\n",
    "from pyspark.sql.functions import col\n",
    "\n",
    "# Criar sessão Spark\n",
    "spark = SparkSession.builder.appName(\"CyberLeaks_Coleta\").getOrCreate()\n",
    "\n",
    "# oletar os dados do arquivo CSV\n",
    "df_spark = spark.read.csv(\n",
    "    'dbfs:/Filestore/data-breaches-a-comprehensive-list.csv', \n",
    "    header=True, \n",
    "    inferSchema=True  # Permite inferir automaticamente os tipos de dados\n",
    ")\n",
    "\n",
    "# Renomear colunas para padronização e evitar espaços\n",
    "df_spark = df_spark.withColumnRenamed(\"Organization type\", \"Organization_Type\") \\\n",
    "                   .withColumnRenamed(\"Method\", \"Method_Name\") \\\n",
    "                   .withColumnRenamed(\"Sources\", \"Source_Details\")\n",
    "\n",
    "# Remover registros duplicados\n",
    "df_spark = df_spark.dropDuplicates()\n",
    "\n",
    "# Remover registros com valores ausentes\n",
    "df_spark = df_spark.dropna()\n",
    "\n",
    "# Converter tipos de dados\n",
    "df_spark = df_spark.withColumn(\"Year\", col(\"Year\").cast(\"int\"))\n",
    "df_spark = df_spark.withColumn(\"Records\", col(\"Records\").cast(\"bigint\"))\n",
    "\n",
    "# Verificar estrutura dos dados\n",
    "df_spark.printSchema()  # Exibe os tipos de dados inferidos\n",
    "\n",
    "# Exibir uma amostra dos dados coletados\n",
    "df_spark.show(5)"
   ]
  },
  {
   "cell_type": "markdown",
   "metadata": {
    "application/vnd.databricks.v1+cell": {
     "cellMetadata": {
      "byteLimit": 2048000,
      "rowLimit": 10000
     },
     "inputWidgets": {},
     "nuid": "7524a4a5-c5f6-41ef-8584-34b26392da98",
     "showTitle": false,
     "tableResultSettingsMap": {},
     "title": ""
    }
   },
   "source": [
    "### 3.3. Modelagem\n",
    "\n",
    "A etapa de Modelagem foi estruturada utilizando um **modelo estrela**, garantindo um armazenamento eficiente e otimizado para consultas analíticas. A modelagem foi definida com uma **tabela fato** (`fatos_ocorrencias`), que centraliza os registros de vazamentos de dados, e **quatro tabelas dimensão** (`dim_entidade`, `dim_organizacao`, `dim_metodo`, `dim_fonte`), que armazenam informações categóricas essenciais para análise. Essa abordagem facilita a realização de consultas rápidas e permite explorar as relações entre **empresas afetadas, setores vulneráveis, métodos de ataque e fontes de informação**. A definição dos atributos e relacionamentos foi documentada no **Dicionário de Dados**, garantindo padronização e transparência na estrutura do Data Warehouse.\n",
    "\n",
    "\n",
    "![Diagrama DW](files/shared_uploads/guibispo@gmail.com/DW_Violacoes_Seguranca.png)\n",
    "\n",
    "\n",
    "#### Tabela Fato: `fatos_ocorrencias`\n",
    "| **Atributo**       | **Tipo**    | **Descrição** |\n",
    "|--------------------|------------|--------------|\n",
    "| `Entity_ID`       | INT        | Identificador da entidade afetada pelo vazamento (FK). |\n",
    "| `Year`            | INT        | Ano em que ocorreu o vazamento. |\n",
    "| `Records`         | BIGINT     | Número de registros comprometidos. |\n",
    "| `Method_ID`       | INT        | Identificador do método utilizado no vazamento (FK). |\n",
    "| `Organization_ID` | INT        | Identificador do setor da organização afetada (FK). |\n",
    "| `Source_ID`       | INT        | Identificador da fonte da informação sobre o vazamento (FK). |\n",
    "\n",
    "---\n",
    "\n",
    "#### Tabela Dimensão: `dim_entidade`\n",
    "| **Atributo**    | **Tipo**  | **Descrição** |\n",
    "|---------------|----------|--------------|\n",
    "| `Entity_ID`   | INT      | Identificador único da entidade (PK). |\n",
    "| `Entity_Name` | STRING   | Nome da organização afetada pelo vazamento. |\n",
    "\n",
    "---\n",
    "\n",
    "#### Tabela Dimensão: `dim_organizacao`\n",
    "| **Atributo**        | **Tipo**  | **Descrição** |\n",
    "|--------------------|----------|--------------|\n",
    "| `Organization_ID`  | INT      | Identificador único do setor (PK). |\n",
    "| `Organization_Type` | STRING   | Tipo de organização (ex: Governo, Saúde, Tecnologia). |\n",
    "\n",
    "---\n",
    "\n",
    "#### Tabela Dimensão: `dim_metodo`\n",
    "| **Atributo**    | **Tipo**  | **Descrição** |\n",
    "|---------------|----------|--------------|\n",
    "| `Method_ID`   | INT      | Identificador único do método de ataque (PK). |\n",
    "| `Method_Name` | STRING   | Nome do método de ataque (ex: Hacking, Erro Humano). |\n",
    "\n",
    "---\n",
    "\n",
    "#### Tabela Dimensão: `dim_fonte`\n",
    "| **Atributo**       | **Tipo**  | **Descrição** |\n",
    "|-------------------|----------|--------------|\n",
    "| `Source_ID`      | INT      | Identificador único da fonte (PK). |\n",
    "| `Source_Details` | STRING   | Descrição da fonte da informação sobre o vazamento. |\n",
    "\n"
   ]
  },
  {
   "cell_type": "markdown",
   "metadata": {
    "application/vnd.databricks.v1+cell": {
     "cellMetadata": {
      "byteLimit": 2048000,
      "rowLimit": 10000
     },
     "inputWidgets": {},
     "nuid": "af817197-5bb1-48a9-ae49-b0d754df9793",
     "showTitle": false,
     "tableResultSettingsMap": {},
     "title": ""
    }
   },
   "source": [
    "### 3.4. ETL (Extração, Transformação e Carga)\n",
    "\n",
    "A etapa de ETL (Extração, Transformação e Carga) tem como objetivo estruturar os dados coletados e prepará-los para análises eficientes dentro do Data Warehouse. Inicialmente, os dados passam por uma fase de transformação, onde são aplicadas conversões de tipos para garantir consistência e integridade. Em seguida, as tabelas dimensão são criadas, removendo duplicatas e gerando identificadores únicos para cada entidade, organização, método de ataque e fonte de informação. A tabela fato é então construída, associando os registros de vazamentos de dados com as tabelas dimensão, permitindo a realização de consultas otimizadas. Por fim, as tabelas processadas são armazenadas no formato Parquet, garantindo um acesso rápido e eficiente dentro do ambiente Databricks."
   ]
  },
  {
   "cell_type": "code",
   "execution_count": 0,
   "metadata": {
    "application/vnd.databricks.v1+cell": {
     "cellMetadata": {
      "byteLimit": 2048000,
      "rowLimit": 10000
     },
     "inputWidgets": {},
     "nuid": "216e1688-4031-47c6-b205-903813187bf1",
     "showTitle": false,
     "tableResultSettingsMap": {},
     "title": ""
    }
   },
   "outputs": [
    {
     "output_type": "stream",
     "name": "stdout",
     "output_type": "stream",
     "text": [
      "ETL finalizado com sucesso!\n"
     ]
    }
   ],
   "source": [
    "from pyspark.sql.functions import monotonically_increasing_id\n",
    "\n",
    "# Criar sessão Spark para o processo ETL\n",
    "spark = SparkSession.builder.appName(\"CyberLeaks_ETL\").getOrCreate()\n",
    "\n",
    "# Corrigir tipos de dados\n",
    "df_spark = df_spark.withColumn(\"Year\", col(\"Year\").cast(\"int\"))\n",
    "df_spark = df_spark.withColumn(\"Records\", col(\"Records\").cast(\"bigint\"))\n",
    "\n",
    "# Criar tabelas dimensão (removendo duplicatas e gerando IDs únicos)\n",
    "dim_entidade = df_spark.select(col(\"Entity\").alias(\"Entity_Name\")).distinct() \\\n",
    "    .withColumn(\"Entity_ID\", monotonically_increasing_id())\n",
    "\n",
    "dim_organizacao = df_spark.select(\"Organization_Type\").distinct() \\\n",
    "    .withColumn(\"Organization_ID\", monotonically_increasing_id())\n",
    "\n",
    "dim_metodo = df_spark.select(\"Method_Name\").distinct() \\\n",
    "    .withColumn(\"Method_ID\", monotonically_increasing_id())\n",
    "\n",
    "dim_fonte = df_spark.select(\"Source_Details\").distinct() \\\n",
    "    .withColumn(\"Source_ID\", monotonically_increasing_id())\n",
    "\n",
    "# Criar a tabela fato associando IDs das dimensões\n",
    "fatos_ocorrencias = df_spark \\\n",
    "    .join(dim_entidade, df_spark[\"Entity\"] == dim_entidade[\"Entity_Name\"], \"left\") \\\n",
    "    .join(dim_organizacao, df_spark[\"Organization_Type\"] == dim_organizacao[\"Organization_Type\"], \"left\") \\\n",
    "    .join(dim_metodo, df_spark[\"Method_Name\"] == dim_metodo[\"Method_Name\"], \"left\") \\\n",
    "    .join(dim_fonte, df_spark[\"Source_Details\"] == dim_fonte[\"Source_Details\"], \"left\") \\\n",
    "    .select(\n",
    "        col(\"Entity_ID\"), \n",
    "        col(\"Year\"), \n",
    "        col(\"Records\"), \n",
    "        col(\"Method_ID\"), \n",
    "        col(\"Organization_ID\"), \n",
    "        col(\"Source_ID\")\n",
    "    )\n",
    "\n",
    "# Criar tabelas temporárias no Spark SQL para análises futuras\n",
    "dim_entidade.createOrReplaceTempView(\"dim_entidade\")\n",
    "dim_organizacao.createOrReplaceTempView(\"dim_organizacao\")\n",
    "dim_metodo.createOrReplaceTempView(\"dim_metodo\")\n",
    "dim_fonte.createOrReplaceTempView(\"dim_fonte\")\n",
    "fatos_ocorrencias.createOrReplaceTempView(\"fatos_ocorrencias\")\n",
    "\n",
    "# Salvar tabelas como Parquet para otimização no Databricks\n",
    "dim_entidade.write.mode(\"overwrite\").parquet(\"dbfs:/mnt/data/dim_entidade\")\n",
    "dim_organizacao.write.mode(\"overwrite\").parquet(\"dbfs:/mnt/data/dim_organizacao\")\n",
    "dim_metodo.write.mode(\"overwrite\").parquet(\"dbfs:/mnt/data/dim_metodo\")\n",
    "dim_fonte.write.mode(\"overwrite\").parquet(\"dbfs:/mnt/data/dim_fonte\")\n",
    "fatos_ocorrencias.write.mode(\"overwrite\").parquet(\"dbfs:/mnt/data/fatos_ocorrencias\")\n",
    "\n",
    "print(\"ETL finalizado com sucesso!\")"
   ]
  },
  {
   "cell_type": "markdown",
   "metadata": {
    "application/vnd.databricks.v1+cell": {
     "cellMetadata": {
      "byteLimit": 2048000,
      "rowLimit": 10000
     },
     "inputWidgets": {},
     "nuid": "67b5da0b-4b2e-4504-8a53-78f88048127b",
     "showTitle": false,
     "tableResultSettingsMap": {},
     "title": ""
    }
   },
   "source": [
    "\n",
    "#### 3.5. Análise\n",
    "\n",
    "A etapa de **Análise** consiste na execução de **consultas SQL** para extrair insights estratégicos sobre vazamentos de dados. As consultas são formuladas para responder a perguntas-chave, como **quais setores são mais vulneráveis**, **quais métodos de ataque são mais frequentes**, **quais empresas tiveram os maiores vazamentos** e **como esses incidentes evoluíram ao longo do tempo**. Utilizando a estrutura do **modelo estrela**, é possível explorar os dados de maneira eficiente, combinando a tabela fato (`fatos_ocorrencias`) com as tabelas dimensão (`dim_entidade`, `dim_organizacao`, `dim_metodo` e `dim_fonte`). Os resultados dessas análises permitem identificar padrões, avaliar riscos e contribuir para estratégias de mitigação de vazamentos de dados.\n"
   ]
  },
  {
   "cell_type": "code",
   "execution_count": 0,
   "metadata": {
    "application/vnd.databricks.v1+cell": {
     "cellMetadata": {
      "byteLimit": 2048000,
      "implicitDf": true,
      "rowLimit": 10000
     },
     "inputWidgets": {},
     "nuid": "1c17f1d9-277b-43f9-84c6-93e3169faf93",
     "showTitle": false,
     "tableResultSettingsMap": {},
     "title": ""
    }
   },
   "outputs": [
    {
     "output_type": "display_data",
     "data": {
      "text/html": [
       "<style scoped>\n",
       "  .table-result-container {\n",
       "    max-height: 300px;\n",
       "    overflow: auto;\n",
       "  }\n",
       "  table, th, td {\n",
       "    border: 1px solid black;\n",
       "    border-collapse: collapse;\n",
       "  }\n",
       "  th, td {\n",
       "    padding: 5px;\n",
       "  }\n",
       "  th {\n",
       "    text-align: left;\n",
       "  }\n",
       "</style><div class='table-result-container'><table class='table-result'><thead style='background-color: white'><tr><th>Year</th><th>total_records</th></tr></thead><tbody><tr><td>2019</td><td>3724900831</td></tr></tbody></table></div>"
      ]
     },
     "metadata": {
      "application/vnd.databricks.v1+output": {
       "addedWidgets": {},
       "aggData": [],
       "aggError": "",
       "aggOverflow": false,
       "aggSchema": [],
       "aggSeriesLimitReached": false,
       "aggType": "",
       "arguments": {},
       "columnCustomDisplayInfos": {},
       "data": [
        [
         2019,
         3724900831
        ]
       ],
       "datasetInfos": [],
       "dbfsResultPath": null,
       "isJsonSchema": true,
       "metadata": {},
       "overflow": false,
       "plotOptions": {
        "customPlotOptions": {},
        "displayType": "table",
        "pivotAggregation": null,
        "pivotColumns": null,
        "xColumns": null,
        "yColumns": null
       },
       "removedWidgets": [],
       "schema": [
        {
         "metadata": "{}",
         "name": "Year",
         "type": "\"integer\""
        },
        {
         "metadata": "{}",
         "name": "total_records",
         "type": "\"long\""
        }
       ],
       "type": "table"
      }
     },
     "output_type": "display_data"
    }
   ],
   "source": [
    "%sql\n",
    "-- 1. Qual foi o ano com o maior número de registros vazados?\n",
    "SELECT Year, SUM(Records) AS total_records\n",
    "FROM fatos_ocorrencias\n",
    "GROUP BY Year\n",
    "ORDER BY total_records DESC\n",
    "LIMIT 1;"
   ]
  },
  {
   "cell_type": "code",
   "execution_count": 0,
   "metadata": {
    "application/vnd.databricks.v1+cell": {
     "cellMetadata": {
      "byteLimit": 2048000,
      "implicitDf": true,
      "rowLimit": 10000
     },
     "inputWidgets": {},
     "nuid": "4942b448-8fe1-4653-b5a7-1c03b970d290",
     "showTitle": false,
     "tableResultSettingsMap": {},
     "title": ""
    }
   },
   "outputs": [
    {
     "output_type": "display_data",
     "data": {
      "text/html": [
       "<style scoped>\n",
       "  .table-result-container {\n",
       "    max-height: 300px;\n",
       "    overflow: auto;\n",
       "  }\n",
       "  table, th, td {\n",
       "    border: 1px solid black;\n",
       "    border-collapse: collapse;\n",
       "  }\n",
       "  th, td {\n",
       "    padding: 5px;\n",
       "  }\n",
       "  th {\n",
       "    text-align: left;\n",
       "  }\n",
       "</style><div class='table-result-container'><table class='table-result'><thead style='background-color: white'><tr><th>Year</th><th>total_records</th></tr></thead><tbody><tr><td>null</td><td>2363000</td></tr><tr><td>2004</td><td>92510000</td></tr><tr><td>2005</td><td>46825000</td></tr><tr><td>2006</td><td>71260000</td></tr><tr><td>2007</td><td>153286405</td></tr><tr><td>2008</td><td>69066500</td></tr><tr><td>2009</td><td>255467987</td></tr><tr><td>2010</td><td>15980476</td></tr><tr><td>2011</td><td>227788137</td></tr><tr><td>2012</td><td>428839635</td></tr><tr><td>2013</td><td>3469434877</td></tr><tr><td>2014</td><td>850978000</td></tr><tr><td>2015</td><td>201654459</td></tr><tr><td>2016</td><td>485563111</td></tr><tr><td>2017</td><td>254766877</td></tr><tr><td>2018</td><td>1529849832</td></tr><tr><td>2019</td><td>3724900831</td></tr><tr><td>2020</td><td>1251422083</td></tr><tr><td>2021</td><td>61396266</td></tr><tr><td>2022</td><td>9958922</td></tr></tbody></table></div>"
      ]
     },
     "metadata": {
      "application/vnd.databricks.v1+output": {
       "addedWidgets": {},
       "aggData": [],
       "aggError": "",
       "aggOverflow": false,
       "aggSchema": [],
       "aggSeriesLimitReached": false,
       "aggType": "",
       "arguments": {},
       "columnCustomDisplayInfos": {},
       "data": [
        [
         null,
         2363000
        ],
        [
         2004,
         92510000
        ],
        [
         2005,
         46825000
        ],
        [
         2006,
         71260000
        ],
        [
         2007,
         153286405
        ],
        [
         2008,
         69066500
        ],
        [
         2009,
         255467987
        ],
        [
         2010,
         15980476
        ],
        [
         2011,
         227788137
        ],
        [
         2012,
         428839635
        ],
        [
         2013,
         3469434877
        ],
        [
         2014,
         850978000
        ],
        [
         2015,
         201654459
        ],
        [
         2016,
         485563111
        ],
        [
         2017,
         254766877
        ],
        [
         2018,
         1529849832
        ],
        [
         2019,
         3724900831
        ],
        [
         2020,
         1251422083
        ],
        [
         2021,
         61396266
        ],
        [
         2022,
         9958922
        ]
       ],
       "datasetInfos": [],
       "dbfsResultPath": null,
       "isJsonSchema": true,
       "metadata": {},
       "overflow": false,
       "plotOptions": {
        "customPlotOptions": {},
        "displayType": "table",
        "pivotAggregation": null,
        "pivotColumns": null,
        "xColumns": null,
        "yColumns": null
       },
       "removedWidgets": [],
       "schema": [
        {
         "metadata": "{}",
         "name": "Year",
         "type": "\"integer\""
        },
        {
         "metadata": "{}",
         "name": "total_records",
         "type": "\"long\""
        }
       ],
       "type": "table"
      }
     },
     "output_type": "display_data"
    }
   ],
   "source": [
    "%sql\n",
    "-- 2. Qual a tendência de vazamentos ao longo dos anos?\n",
    "SELECT Year, SUM(Records) AS total_records\n",
    "FROM fatos_ocorrencias\n",
    "GROUP BY Year\n",
    "ORDER BY Year ASC;\n"
   ]
  },
  {
   "cell_type": "code",
   "execution_count": 0,
   "metadata": {
    "application/vnd.databricks.v1+cell": {
     "cellMetadata": {
      "byteLimit": 2048000,
      "implicitDf": true,
      "rowLimit": 10000
     },
     "inputWidgets": {},
     "nuid": "0670eb64-1a48-4954-8bc4-432f0b5033a2",
     "showTitle": false,
     "tableResultSettingsMap": {},
     "title": ""
    }
   },
   "outputs": [
    {
     "output_type": "display_data",
     "data": {
      "text/html": [
       "<style scoped>\n",
       "  .table-result-container {\n",
       "    max-height: 300px;\n",
       "    overflow: auto;\n",
       "  }\n",
       "  table, th, td {\n",
       "    border: 1px solid black;\n",
       "    border-collapse: collapse;\n",
       "  }\n",
       "  th, td {\n",
       "    padding: 5px;\n",
       "  }\n",
       "  th {\n",
       "    text-align: left;\n",
       "  }\n",
       "</style><div class='table-result-container'><table class='table-result'><thead style='background-color: white'><tr><th>Entity_Name</th><th>total_records</th></tr></thead><tbody><tr><td>Yahoo</td><td>3500000000</td></tr><tr><td>First American Corporation</td><td>885000000</td></tr><tr><td>Facebook</td><td>864500000</td></tr><tr><td>Marriott International</td><td>505200000</td></tr><tr><td>MongoDB</td><td>477000000</td></tr></tbody></table></div>"
      ]
     },
     "metadata": {
      "application/vnd.databricks.v1+output": {
       "addedWidgets": {},
       "aggData": [],
       "aggError": "",
       "aggOverflow": false,
       "aggSchema": [],
       "aggSeriesLimitReached": false,
       "aggType": "",
       "arguments": {},
       "columnCustomDisplayInfos": {},
       "data": [
        [
         "Yahoo",
         3500000000
        ],
        [
         "First American Corporation",
         885000000
        ],
        [
         "Facebook",
         864500000
        ],
        [
         "Marriott International",
         505200000
        ],
        [
         "MongoDB",
         477000000
        ]
       ],
       "datasetInfos": [],
       "dbfsResultPath": null,
       "isJsonSchema": true,
       "metadata": {},
       "overflow": false,
       "plotOptions": {
        "customPlotOptions": {},
        "displayType": "table",
        "pivotAggregation": null,
        "pivotColumns": null,
        "xColumns": null,
        "yColumns": null
       },
       "removedWidgets": [],
       "schema": [
        {
         "metadata": "{}",
         "name": "Entity_Name",
         "type": "\"string\""
        },
        {
         "metadata": "{}",
         "name": "total_records",
         "type": "\"long\""
        }
       ],
       "type": "table"
      }
     },
     "output_type": "display_data"
    }
   ],
   "source": [
    "%sql\n",
    "-- 3. Quais são as 5 empresas mais afetadas por vazamentos de dados?\n",
    "SELECT e.Entity_Name, SUM(f.Records) AS total_records\n",
    "FROM fatos_ocorrencias f\n",
    "JOIN dim_entidade e ON f.Entity_ID = e.Entity_ID\n",
    "GROUP BY e.Entity_Name\n",
    "ORDER BY total_records DESC\n",
    "LIMIT 5;\n"
   ]
  },
  {
   "cell_type": "code",
   "execution_count": 0,
   "metadata": {
    "application/vnd.databricks.v1+cell": {
     "cellMetadata": {
      "byteLimit": 2048000,
      "implicitDf": true,
      "rowLimit": 10000
     },
     "inputWidgets": {},
     "nuid": "e0a5b808-ae1b-44f5-8a84-18068c56defd",
     "showTitle": false,
     "tableResultSettingsMap": {},
     "title": ""
    }
   },
   "outputs": [
    {
     "output_type": "display_data",
     "data": {
      "text/html": [
       "<style scoped>\n",
       "  .table-result-container {\n",
       "    max-height: 300px;\n",
       "    overflow: auto;\n",
       "  }\n",
       "  table, th, td {\n",
       "    border: 1px solid black;\n",
       "    border-collapse: collapse;\n",
       "  }\n",
       "  th, td {\n",
       "    padding: 5px;\n",
       "  }\n",
       "  th {\n",
       "    text-align: left;\n",
       "  }\n",
       "</style><div class='table-result-container'><table class='table-result'><thead style='background-color: white'><tr><th>Organization_Type</th><th>total_records</th></tr></thead><tbody><tr><td>web</td><td>5203695724</td></tr><tr><td>social network</td><td>1238000000</td></tr><tr><td>tech</td><td>1000898000</td></tr><tr><td>financial service company</td><td>885000000</td></tr><tr><td>financial</td><td>818597083</td></tr><tr><td>hotel</td><td>505563000</td></tr><tr><td>retail</td><td>372140740</td></tr><tr><td>data broker</td><td>340000000</td></tr><tr><td>telecommunications</td><td>320000000</td></tr><tr><td>Telephone directory</td><td>299055000</td></tr><tr><td>personal and demographic data about residents and their properties of US</td><td>201000000</td></tr><tr><td>gaming</td><td>172623989</td></tr><tr><td>healthcare</td><td>171142570</td></tr><tr><td>financial, credit reporting</td><td>163119000</td></tr><tr><td>messaging app</td><td>162000000</td></tr><tr><td>Consumer Goods</td><td>150000000</td></tr><tr><td>government</td><td>147350860</td></tr><tr><td>market analysis</td><td>120000000</td></tr><tr><td>Question & Answer</td><td>100000000</td></tr><tr><td>local search</td><td>100000000</td></tr><tr><td>genealogy</td><td>92283889</td></tr><tr><td>military</td><td>77448000</td></tr><tr><td>transport</td><td>66972000</td></tr><tr><td>background check</td><td>56000000</td></tr><tr><td>telecoms</td><td>50637000</td></tr><tr><td>social media</td><td>46000000</td></tr><tr><td>telecom</td><td>45000000</td></tr><tr><td>online marketing</td><td>38000000</td></tr><tr><td>educational services</td><td>35040000</td></tr><tr><td>web, gaming</td><td>32000000</td></tr><tr><td>government, military</td><td>26500000</td></tr><tr><td>ticket distribution</td><td>26151608</td></tr><tr><td>tech, web</td><td>22000000</td></tr><tr><td>QR code payment</td><td>20076016</td></tr><tr><td>social networking</td><td>14870304</td></tr><tr><td>energy</td><td>14310000</td></tr><tr><td>tech, retail</td><td>12567232</td></tr><tr><td>Clinical Laboratory</td><td>11900000</td></tr><tr><td>government, healthcare</td><td>9037378</td></tr><tr><td>academic</td><td>7140540</td></tr><tr><td>various</td><td>6400000</td></tr><tr><td>military, healthcare</td><td>4901432</td></tr><tr><td>web, tech</td><td>4700000</td></tr><tr><td>restaurant</td><td>2000000</td></tr><tr><td>media</td><td>1700000</td></tr><tr><td>online shopping</td><td>1648922</td></tr><tr><td>government, database</td><td>1500000</td></tr><tr><td>special public corporation</td><td>1250000</td></tr><tr><td>hosting provider</td><td>1107034</td></tr><tr><td>mobile carrier</td><td>900000</td></tr><tr><td>humanitarian</td><td>515000</td></tr><tr><td>shopping</td><td>510000</td></tr><tr><td>health</td><td>500000</td></tr><tr><td>publisher (magazine)</td><td>380000</td></tr><tr><td>phone accessories</td><td>377428</td></tr><tr><td>game</td><td>350000</td></tr><tr><td>web, military</td><td>163792</td></tr><tr><td>fashion</td><td>123857</td></tr><tr><td>banking</td><td>90000</td></tr><tr><td>advertising</td><td>75000</td></tr><tr><td>dating</td><td>null</td></tr><tr><td>software</td><td>null</td></tr><tr><td>consulting, accounting</td><td>null</td></tr><tr><td>Network Monitoring</td><td>null</td></tr><tr><td>gambling</td><td>null</td></tr><tr><td>arts group</td><td>null</td></tr><tr><td>information technology</td><td>null</td></tr><tr><td>Information Security</td><td>null</td></tr></tbody></table></div>"
      ]
     },
     "metadata": {
      "application/vnd.databricks.v1+output": {
       "addedWidgets": {},
       "aggData": [],
       "aggError": "",
       "aggOverflow": false,
       "aggSchema": [],
       "aggSeriesLimitReached": false,
       "aggType": "",
       "arguments": {},
       "columnCustomDisplayInfos": {},
       "data": [
        [
         "web",
         5203695724
        ],
        [
         "social network",
         1238000000
        ],
        [
         "tech",
         1000898000
        ],
        [
         "financial service company",
         885000000
        ],
        [
         "financial",
         818597083
        ],
        [
         "hotel",
         505563000
        ],
        [
         "retail",
         372140740
        ],
        [
         "data broker",
         340000000
        ],
        [
         "telecommunications",
         320000000
        ],
        [
         "Telephone directory",
         299055000
        ],
        [
         "personal and demographic data about residents and their properties of US",
         201000000
        ],
        [
         "gaming",
         172623989
        ],
        [
         "healthcare",
         171142570
        ],
        [
         "financial, credit reporting",
         163119000
        ],
        [
         "messaging app",
         162000000
        ],
        [
         "Consumer Goods",
         150000000
        ],
        [
         "government",
         147350860
        ],
        [
         "market analysis",
         120000000
        ],
        [
         "Question & Answer",
         100000000
        ],
        [
         "local search",
         100000000
        ],
        [
         "genealogy",
         92283889
        ],
        [
         "military",
         77448000
        ],
        [
         "transport",
         66972000
        ],
        [
         "background check",
         56000000
        ],
        [
         "telecoms",
         50637000
        ],
        [
         "social media",
         46000000
        ],
        [
         "telecom",
         45000000
        ],
        [
         "online marketing",
         38000000
        ],
        [
         "educational services",
         35040000
        ],
        [
         "web, gaming",
         32000000
        ],
        [
         "government, military",
         26500000
        ],
        [
         "ticket distribution",
         26151608
        ],
        [
         "tech, web",
         22000000
        ],
        [
         "QR code payment",
         20076016
        ],
        [
         "social networking",
         14870304
        ],
        [
         "energy",
         14310000
        ],
        [
         "tech, retail",
         12567232
        ],
        [
         "Clinical Laboratory",
         11900000
        ],
        [
         "government, healthcare",
         9037378
        ],
        [
         "academic",
         7140540
        ],
        [
         "various",
         6400000
        ],
        [
         "military, healthcare",
         4901432
        ],
        [
         "web, tech",
         4700000
        ],
        [
         "restaurant",
         2000000
        ],
        [
         "media",
         1700000
        ],
        [
         "online shopping",
         1648922
        ],
        [
         "government, database",
         1500000
        ],
        [
         "special public corporation",
         1250000
        ],
        [
         "hosting provider",
         1107034
        ],
        [
         "mobile carrier",
         900000
        ],
        [
         "humanitarian",
         515000
        ],
        [
         "shopping",
         510000
        ],
        [
         "health",
         500000
        ],
        [
         "publisher (magazine)",
         380000
        ],
        [
         "phone accessories",
         377428
        ],
        [
         "game",
         350000
        ],
        [
         "web, military",
         163792
        ],
        [
         "fashion",
         123857
        ],
        [
         "banking",
         90000
        ],
        [
         "advertising",
         75000
        ],
        [
         "dating",
         null
        ],
        [
         "software",
         null
        ],
        [
         "consulting, accounting",
         null
        ],
        [
         "Network Monitoring",
         null
        ],
        [
         "gambling",
         null
        ],
        [
         "arts group",
         null
        ],
        [
         "information technology",
         null
        ],
        [
         "Information Security",
         null
        ]
       ],
       "datasetInfos": [],
       "dbfsResultPath": null,
       "isJsonSchema": true,
       "metadata": {},
       "overflow": false,
       "plotOptions": {
        "customPlotOptions": {},
        "displayType": "table",
        "pivotAggregation": null,
        "pivotColumns": null,
        "xColumns": null,
        "yColumns": null
       },
       "removedWidgets": [],
       "schema": [
        {
         "metadata": "{}",
         "name": "Organization_Type",
         "type": "\"string\""
        },
        {
         "metadata": "{}",
         "name": "total_records",
         "type": "\"long\""
        }
       ],
       "type": "table"
      }
     },
     "output_type": "display_data"
    }
   ],
   "source": [
    "%sql\n",
    "-- 4. Quais setores tiveram mais vazamentos de dados?\n",
    "SELECT o.Organization_Type, SUM(f.Records) AS total_records\n",
    "FROM fatos_ocorrencias f\n",
    "JOIN dim_organizacao o ON f.Organization_ID = o.Organization_ID\n",
    "GROUP BY o.Organization_Type\n",
    "ORDER BY total_records DESC;\n"
   ]
  },
  {
   "cell_type": "code",
   "execution_count": 0,
   "metadata": {
    "application/vnd.databricks.v1+cell": {
     "cellMetadata": {
      "byteLimit": 2048000,
      "implicitDf": true,
      "rowLimit": 10000
     },
     "inputWidgets": {},
     "nuid": "bd09c81e-7c89-4462-bc00-7bc626c1b119",
     "showTitle": false,
     "tableResultSettingsMap": {},
     "title": ""
    }
   },
   "outputs": [
    {
     "output_type": "display_data",
     "data": {
      "text/html": [
       "<style scoped>\n",
       "  .table-result-container {\n",
       "    max-height: 300px;\n",
       "    overflow: auto;\n",
       "  }\n",
       "  table, th, td {\n",
       "    border: 1px solid black;\n",
       "    border-collapse: collapse;\n",
       "  }\n",
       "  th, td {\n",
       "    padding: 5px;\n",
       "  }\n",
       "  th {\n",
       "    text-align: left;\n",
       "  }\n",
       "</style><div class='table-result-container'><table class='table-result'><thead style='background-color: white'><tr><th>Year</th><th>Organization_Type</th><th>total_records</th></tr></thead><tbody><tr><td>null</td><td>restaurant</td><td>2000000</td></tr><tr><td>null</td><td>hotel</td><td>363000</td></tr><tr><td>null</td><td>transport</td><td>null</td></tr><tr><td>2004</td><td>web</td><td>92000000</td></tr><tr><td>2004</td><td>shopping</td><td>510000</td></tr><tr><td>2005</td><td>financial</td><td>45425000</td></tr><tr><td>2005</td><td>retail</td><td>1400000</td></tr><tr><td>2006</td><td>government, military</td><td>26500000</td></tr><tr><td>2006</td><td>telecoms</td><td>21000000</td></tr><tr><td>2006</td><td>web</td><td>20000000</td></tr><tr><td>2006</td><td>financial</td><td>3560000</td></tr><tr><td>2006</td><td>tech, retail</td><td>200000</td></tr><tr><td>2007</td><td>retail</td><td>107637405</td></tr><tr><td>2007</td><td>government</td><td>28089000</td></tr><tr><td>2007</td><td>financial</td><td>15800000</td></tr><tr><td>2007</td><td>web</td><td>1600000</td></tr><tr><td>2007</td><td>healthcare</td><td>160000</td></tr><tr><td>2008</td><td>financial</td><td>22000000</td></tr><tr><td>2008</td><td>web</td><td>18000000</td></tr><tr><td>2008</td><td>government</td><td>13384500</td></tr><tr><td>2008</td><td>energy</td><td>11100000</td></tr><tr><td>2008</td><td>academic</td><td>4372000</td></tr><tr><td>2008</td><td>telecoms</td><td>113000</td></tr><tr><td>2008</td><td>retail</td><td>97000</td></tr><tr><td>2009</td><td>financial</td><td>135000000</td></tr><tr><td>2009</td><td>military</td><td>76203000</td></tr><tr><td>2009</td><td>web, gaming</td><td>32000000</td></tr><tr><td>2009</td><td>government, healthcare</td><td>8257378</td></tr><tr><td>2009</td><td>healthcare</td><td>3274609</td></tr><tr><td>2009</td><td>tech</td><td>573000</td></tr><tr><td>2009</td><td>academic</td><td>160000</td></tr><tr><td>2010</td><td>financial</td><td>6300000</td></tr><tr><td>2010</td><td>healthcare</td><td>4060476</td></tr><tr><td>2010</td><td>web</td><td>3800000</td></tr><tr><td>2010</td><td>academic</td><td>803000</td></tr><tr><td>2010</td><td>government</td><td>643000</td></tr><tr><td>2010</td><td>military</td><td>260000</td></tr><tr><td>2010</td><td>telecoms</td><td>114000</td></tr><tr><td>2011</td><td>gaming</td><td>103090755</td></tr><tr><td>2011</td><td>web</td><td>93262000</td></tr><tr><td>2011</td><td>healthcare</td><td>16815406</td></tr><tr><td>2011</td><td>military, healthcare</td><td>4901432</td></tr><tr><td>2011</td><td>government</td><td>4013461</td></tr><tr><td>2011</td><td>financial</td><td>2894083</td></tr><tr><td>2011</td><td>media</td><td>1270000</td></tr><tr><td>2011</td><td>military</td><td>985000</td></tr><tr><td>2011</td><td>retail</td><td>483000</td></tr><tr><td>2011</td><td>academic</td><td>73000</td></tr><tr><td>2012</td><td>web</td><td>207685944</td></tr><tr><td>2012</td><td>financial</td><td>170260000</td></tr><tr><td>2012</td><td>government</td><td>18734899</td></tr><tr><td>2012</td><td>gaming</td><td>14000000</td></tr><tr><td>2012</td><td>telecoms</td><td>8700000</td></tr><tr><td>2012</td><td>healthcare</td><td>6715000</td></tr><tr><td>2012</td><td>energy</td><td>1800000</td></tr><tr><td>2012</td><td>government, healthcare</td><td>780000</td></tr><tr><td>2012</td><td>web, military</td><td>163792</td></tr><tr><td>2012</td><td>retail</td><td>null</td></tr><tr><td>2013</td><td>web</td><td>3167219298</td></tr><tr><td>2013</td><td>tech</td><td>156000000</td></tr><tr><td>2013</td><td>retail</td><td>110000000</td></tr><tr><td>2013</td><td>tech, web</td><td>22000000</td></tr><tr><td>2013</td><td>social network</td><td>6000000</td></tr><tr><td>2013</td><td>web, tech</td><td>4700000</td></tr><tr><td>2013</td><td>telecoms</td><td>2170000</td></tr><tr><td>2013</td><td>healthcare</td><td>444579</td></tr><tr><td>2013</td><td>government</td><td>276000</td></tr><tr><td>2013</td><td>gaming</td><td>240000</td></tr><tr><td>2013</td><td>financial</td><td>150000</td></tr><tr><td>2013</td><td>academic</td><td>125000</td></tr><tr><td>2013</td><td>energy</td><td>110000</td></tr><tr><td>2014</td><td>web</td><td>653936000</td></tr><tr><td>2014</td><td>financial</td><td>96000000</td></tr><tr><td>2014</td><td>retail</td><td>60100000</td></tr><tr><td>2014</td><td>educational services</td><td>35040000</td></tr><tr><td>2014</td><td>healthcare</td><td>4500000</td></tr><tr><td>2014</td><td>tech</td><td>1050000</td></tr><tr><td>2014</td><td>academic</td><td>300000</td></tr><tr><td>2014</td><td>transport</td><td>52000</td></tr><tr><td>2014</td><td>hotel</td><td>null</td></tr><tr><td>2014</td><td>media</td><td>null</td></tr><tr><td>2015</td><td>healthcare</td><td>110500000</td></tr><tr><td>2015</td><td>web</td><td>40354459</td></tr><tr><td>2015</td><td>government</td><td>22180000</td></tr><tr><td>2015</td><td>telecoms</td><td>15000000</td></tr><tr><td>2015</td><td>retail</td><td>6550000</td></tr><tr><td>2015</td><td>financial</td><td>5320000</td></tr><tr><td>2015</td><td>special public corporation</td><td>1250000</td></tr><tr><td>2015</td><td>tech</td><td>500000</td></tr><tr><td>2015</td><td>hotel</td><td>null</td></tr><tr><td>2015</td><td>restaurant</td><td>null</td></tr><tr><td>2016</td><td>web</td><td>459653411</td></tr><tr><td>2016</td><td>retail</td><td>20000000</td></tr><tr><td>2016</td><td>healthcare</td><td>2206700</td></tr><tr><td>2016</td><td>telecoms</td><td>1540000</td></tr><tr><td>2016</td><td>gaming</td><td>1500000</td></tr><tr><td>2016</td><td>media</td><td>430000</td></tr><tr><td>2016</td><td>academic</td><td>143000</td></tr><tr><td>2016</td><td>financial</td><td>60000</td></tr><tr><td>2016</td><td>government</td><td>30000</td></tr><tr><td>2016</td><td>tech</td><td>null</td></tr><tr><td>2016</td><td>hotel</td><td>null</td></tr><tr><td>2016</td><td>telecom</td><td>null</td></tr><tr><td>2017</td><td>financial, credit reporting</td><td>163119000</td></tr><tr><td>2017</td><td>transport</td><td>57000000</td></tr><tr><td>2017</td><td>web</td><td>28722877</td></tr><tr><td>2017</td><td>healthcare</td><td>4025000</td></tr><tr><td>2017</td><td>telecoms</td><td>1900000</td></tr><tr><td>2017</td><td>consulting, accounting</td><td>null</td></tr><tr><td>2017</td><td>military</td><td>null</td></tr><tr><td>2018</td><td>hotel</td><td>500000000</td></tr><tr><td>2018</td><td>data broker</td><td>340000000</td></tr><tr><td>2018</td><td>messaging app</td><td>162000000</td></tr><tr><td>2018</td><td>Consumer Goods</td><td>150000000</td></tr><tr><td>2018</td><td>Question & Answer</td><td>100000000</td></tr><tr><td>2018</td><td>genealogy</td><td>92283889</td></tr><tr><td>2018</td><td>government</td><td>60000000</td></tr><tr><td>2018</td><td>social network</td><td>50500000</td></tr><tr><td>2018</td><td>retail</td><td>28517244</td></tr><tr><td>2018</td><td>ticket distribution</td><td>26151608</td></tr><tr><td>2018</td><td>transport</td><td>9920000</td></tr><tr><td>2018</td><td>gaming</td><td>7633234</td></tr><tr><td>2018</td><td>government, database</td><td>1500000</td></tr><tr><td>2018</td><td>web</td><td>880000</td></tr><tr><td>2018</td><td>fashion</td><td>123857</td></tr><tr><td>2018</td><td>telecoms</td><td>100000</td></tr><tr><td>2018</td><td>banking</td><td>90000</td></tr><tr><td>2018</td><td>healthcare</td><td>75000</td></tr><tr><td>2018</td><td>advertising</td><td>75000</td></tr><tr><td>2018</td><td>tech</td><td>null</td></tr><tr><td>2019</td><td>social network</td><td>981500000</td></tr><tr><td>2019</td><td>financial service company</td><td>885000000</td></tr><tr><td>2019</td><td>tech</td><td>842500000</td></tr><tr><td>2019</td><td>telecommunications</td><td>320000000</td></tr><tr><td>2019</td><td>Telephone directory</td><td>299055000</td></tr><tr><td>2019</td><td>web</td><td>144900000</td></tr><tr><td>2019</td><td>financial</td><td>115798000</td></tr><tr><td>2019</td><td>local search</td><td>100000000</td></tr><tr><td>2019</td><td>healthcare</td><td>15822200</td></tr><tr><td>2019</td><td>Clinical Laboratory</td><td>11900000</td></tr><tr><td>2019</td><td>retail</td><td>7261091</td></tr><tr><td>2019</td><td>academic</td><td>1164540</td></tr><tr><td>2019</td><td>government</td><td>null</td></tr><tr><td>2019</td><td>arts group</td><td>null</td></tr><tr><td>2020</td><td>web</td><td>271381735</td></tr><tr><td>2020</td><td>personal and demographic data about residents and their properties of US</td><td>201000000</td></tr><tr><td>2020</td><td>financial</td><td>200030000</td></tr><tr><td>2020</td><td>social network</td><td>200000000</td></tr><tr><td>2020</td><td>market analysis</td><td>120000000</td></tr><tr><td>2020</td><td>background check</td><td>56000000</td></tr><tr><td>2020</td><td>gaming</td><td>46160000</td></tr><tr><td>2020</td><td>social media</td><td>46000000</td></tr><tr><td>2020</td><td>online marketing</td><td>38000000</td></tr><tr><td>2020</td><td>retail</td><td>30000000</td></tr><tr><td>2020</td><td>QR code payment</td><td>20076016</td></tr><tr><td>2020</td><td>social networking</td><td>14870304</td></tr><tr><td>2020</td><td>hotel</td><td>5200000</td></tr><tr><td>2020</td><td>mobile carrier</td><td>900000</td></tr><tr><td>2020</td><td>healthcare</td><td>696600</td></tr><tr><td>2020</td><td>publisher (magazine)</td><td>380000</td></tr><tr><td>2020</td><td>phone accessories</td><td>377428</td></tr><tr><td>2020</td><td>game</td><td>350000</td></tr><tr><td>2020</td><td>gambling</td><td>null</td></tr><tr><td>2020</td><td>Network Monitoring</td><td>null</td></tr><tr><td>2020</td><td>tech</td><td>null</td></tr><tr><td>2020</td><td>Information Security</td><td>null</td></tr><tr><td>2020</td><td>information technology</td><td>null</td></tr><tr><td>2020</td><td>government, military</td><td>null</td></tr><tr><td>2021</td><td>telecom</td><td>45000000</td></tr><tr><td>2021</td><td>tech, retail</td><td>12367232</td></tr><tr><td>2021</td><td>healthcare</td><td>1847000</td></tr><tr><td>2021</td><td>hosting provider</td><td>1107034</td></tr><tr><td>2021</td><td>health</td><td>500000</td></tr><tr><td>2021</td><td>web</td><td>300000</td></tr><tr><td>2021</td><td>tech</td><td>275000</td></tr><tr><td>2021</td><td>dating</td><td>null</td></tr><tr><td>2021</td><td>software</td><td>null</td></tr><tr><td>2022</td><td>various</td><td>6400000</td></tr><tr><td>2022</td><td>online shopping</td><td>1648922</td></tr><tr><td>2022</td><td>energy</td><td>1300000</td></tr><tr><td>2022</td><td>humanitarian</td><td>515000</td></tr><tr><td>2022</td><td>retail</td><td>95000</td></tr></tbody></table></div>"
      ]
     },
     "metadata": {
      "application/vnd.databricks.v1+output": {
       "addedWidgets": {},
       "aggData": [],
       "aggError": "",
       "aggOverflow": false,
       "aggSchema": [],
       "aggSeriesLimitReached": false,
       "aggType": "",
       "arguments": {},
       "columnCustomDisplayInfos": {},
       "data": [
        [
         null,
         "restaurant",
         2000000
        ],
        [
         null,
         "hotel",
         363000
        ],
        [
         null,
         "transport",
         null
        ],
        [
         2004,
         "web",
         92000000
        ],
        [
         2004,
         "shopping",
         510000
        ],
        [
         2005,
         "financial",
         45425000
        ],
        [
         2005,
         "retail",
         1400000
        ],
        [
         2006,
         "government, military",
         26500000
        ],
        [
         2006,
         "telecoms",
         21000000
        ],
        [
         2006,
         "web",
         20000000
        ],
        [
         2006,
         "financial",
         3560000
        ],
        [
         2006,
         "tech, retail",
         200000
        ],
        [
         2007,
         "retail",
         107637405
        ],
        [
         2007,
         "government",
         28089000
        ],
        [
         2007,
         "financial",
         15800000
        ],
        [
         2007,
         "web",
         1600000
        ],
        [
         2007,
         "healthcare",
         160000
        ],
        [
         2008,
         "financial",
         22000000
        ],
        [
         2008,
         "web",
         18000000
        ],
        [
         2008,
         "government",
         13384500
        ],
        [
         2008,
         "energy",
         11100000
        ],
        [
         2008,
         "academic",
         4372000
        ],
        [
         2008,
         "telecoms",
         113000
        ],
        [
         2008,
         "retail",
         97000
        ],
        [
         2009,
         "financial",
         135000000
        ],
        [
         2009,
         "military",
         76203000
        ],
        [
         2009,
         "web, gaming",
         32000000
        ],
        [
         2009,
         "government, healthcare",
         8257378
        ],
        [
         2009,
         "healthcare",
         3274609
        ],
        [
         2009,
         "tech",
         573000
        ],
        [
         2009,
         "academic",
         160000
        ],
        [
         2010,
         "financial",
         6300000
        ],
        [
         2010,
         "healthcare",
         4060476
        ],
        [
         2010,
         "web",
         3800000
        ],
        [
         2010,
         "academic",
         803000
        ],
        [
         2010,
         "government",
         643000
        ],
        [
         2010,
         "military",
         260000
        ],
        [
         2010,
         "telecoms",
         114000
        ],
        [
         2011,
         "gaming",
         103090755
        ],
        [
         2011,
         "web",
         93262000
        ],
        [
         2011,
         "healthcare",
         16815406
        ],
        [
         2011,
         "military, healthcare",
         4901432
        ],
        [
         2011,
         "government",
         4013461
        ],
        [
         2011,
         "financial",
         2894083
        ],
        [
         2011,
         "media",
         1270000
        ],
        [
         2011,
         "military",
         985000
        ],
        [
         2011,
         "retail",
         483000
        ],
        [
         2011,
         "academic",
         73000
        ],
        [
         2012,
         "web",
         207685944
        ],
        [
         2012,
         "financial",
         170260000
        ],
        [
         2012,
         "government",
         18734899
        ],
        [
         2012,
         "gaming",
         14000000
        ],
        [
         2012,
         "telecoms",
         8700000
        ],
        [
         2012,
         "healthcare",
         6715000
        ],
        [
         2012,
         "energy",
         1800000
        ],
        [
         2012,
         "government, healthcare",
         780000
        ],
        [
         2012,
         "web, military",
         163792
        ],
        [
         2012,
         "retail",
         null
        ],
        [
         2013,
         "web",
         3167219298
        ],
        [
         2013,
         "tech",
         156000000
        ],
        [
         2013,
         "retail",
         110000000
        ],
        [
         2013,
         "tech, web",
         22000000
        ],
        [
         2013,
         "social network",
         6000000
        ],
        [
         2013,
         "web, tech",
         4700000
        ],
        [
         2013,
         "telecoms",
         2170000
        ],
        [
         2013,
         "healthcare",
         444579
        ],
        [
         2013,
         "government",
         276000
        ],
        [
         2013,
         "gaming",
         240000
        ],
        [
         2013,
         "financial",
         150000
        ],
        [
         2013,
         "academic",
         125000
        ],
        [
         2013,
         "energy",
         110000
        ],
        [
         2014,
         "web",
         653936000
        ],
        [
         2014,
         "financial",
         96000000
        ],
        [
         2014,
         "retail",
         60100000
        ],
        [
         2014,
         "educational services",
         35040000
        ],
        [
         2014,
         "healthcare",
         4500000
        ],
        [
         2014,
         "tech",
         1050000
        ],
        [
         2014,
         "academic",
         300000
        ],
        [
         2014,
         "transport",
         52000
        ],
        [
         2014,
         "hotel",
         null
        ],
        [
         2014,
         "media",
         null
        ],
        [
         2015,
         "healthcare",
         110500000
        ],
        [
         2015,
         "web",
         40354459
        ],
        [
         2015,
         "government",
         22180000
        ],
        [
         2015,
         "telecoms",
         15000000
        ],
        [
         2015,
         "retail",
         6550000
        ],
        [
         2015,
         "financial",
         5320000
        ],
        [
         2015,
         "special public corporation",
         1250000
        ],
        [
         2015,
         "tech",
         500000
        ],
        [
         2015,
         "hotel",
         null
        ],
        [
         2015,
         "restaurant",
         null
        ],
        [
         2016,
         "web",
         459653411
        ],
        [
         2016,
         "retail",
         20000000
        ],
        [
         2016,
         "healthcare",
         2206700
        ],
        [
         2016,
         "telecoms",
         1540000
        ],
        [
         2016,
         "gaming",
         1500000
        ],
        [
         2016,
         "media",
         430000
        ],
        [
         2016,
         "academic",
         143000
        ],
        [
         2016,
         "financial",
         60000
        ],
        [
         2016,
         "government",
         30000
        ],
        [
         2016,
         "tech",
         null
        ],
        [
         2016,
         "hotel",
         null
        ],
        [
         2016,
         "telecom",
         null
        ],
        [
         2017,
         "financial, credit reporting",
         163119000
        ],
        [
         2017,
         "transport",
         57000000
        ],
        [
         2017,
         "web",
         28722877
        ],
        [
         2017,
         "healthcare",
         4025000
        ],
        [
         2017,
         "telecoms",
         1900000
        ],
        [
         2017,
         "consulting, accounting",
         null
        ],
        [
         2017,
         "military",
         null
        ],
        [
         2018,
         "hotel",
         500000000
        ],
        [
         2018,
         "data broker",
         340000000
        ],
        [
         2018,
         "messaging app",
         162000000
        ],
        [
         2018,
         "Consumer Goods",
         150000000
        ],
        [
         2018,
         "Question & Answer",
         100000000
        ],
        [
         2018,
         "genealogy",
         92283889
        ],
        [
         2018,
         "government",
         60000000
        ],
        [
         2018,
         "social network",
         50500000
        ],
        [
         2018,
         "retail",
         28517244
        ],
        [
         2018,
         "ticket distribution",
         26151608
        ],
        [
         2018,
         "transport",
         9920000
        ],
        [
         2018,
         "gaming",
         7633234
        ],
        [
         2018,
         "government, database",
         1500000
        ],
        [
         2018,
         "web",
         880000
        ],
        [
         2018,
         "fashion",
         123857
        ],
        [
         2018,
         "telecoms",
         100000
        ],
        [
         2018,
         "banking",
         90000
        ],
        [
         2018,
         "healthcare",
         75000
        ],
        [
         2018,
         "advertising",
         75000
        ],
        [
         2018,
         "tech",
         null
        ],
        [
         2019,
         "social network",
         981500000
        ],
        [
         2019,
         "financial service company",
         885000000
        ],
        [
         2019,
         "tech",
         842500000
        ],
        [
         2019,
         "telecommunications",
         320000000
        ],
        [
         2019,
         "Telephone directory",
         299055000
        ],
        [
         2019,
         "web",
         144900000
        ],
        [
         2019,
         "financial",
         115798000
        ],
        [
         2019,
         "local search",
         100000000
        ],
        [
         2019,
         "healthcare",
         15822200
        ],
        [
         2019,
         "Clinical Laboratory",
         11900000
        ],
        [
         2019,
         "retail",
         7261091
        ],
        [
         2019,
         "academic",
         1164540
        ],
        [
         2019,
         "government",
         null
        ],
        [
         2019,
         "arts group",
         null
        ],
        [
         2020,
         "web",
         271381735
        ],
        [
         2020,
         "personal and demographic data about residents and their properties of US",
         201000000
        ],
        [
         2020,
         "financial",
         200030000
        ],
        [
         2020,
         "social network",
         200000000
        ],
        [
         2020,
         "market analysis",
         120000000
        ],
        [
         2020,
         "background check",
         56000000
        ],
        [
         2020,
         "gaming",
         46160000
        ],
        [
         2020,
         "social media",
         46000000
        ],
        [
         2020,
         "online marketing",
         38000000
        ],
        [
         2020,
         "retail",
         30000000
        ],
        [
         2020,
         "QR code payment",
         20076016
        ],
        [
         2020,
         "social networking",
         14870304
        ],
        [
         2020,
         "hotel",
         5200000
        ],
        [
         2020,
         "mobile carrier",
         900000
        ],
        [
         2020,
         "healthcare",
         696600
        ],
        [
         2020,
         "publisher (magazine)",
         380000
        ],
        [
         2020,
         "phone accessories",
         377428
        ],
        [
         2020,
         "game",
         350000
        ],
        [
         2020,
         "gambling",
         null
        ],
        [
         2020,
         "Network Monitoring",
         null
        ],
        [
         2020,
         "tech",
         null
        ],
        [
         2020,
         "Information Security",
         null
        ],
        [
         2020,
         "information technology",
         null
        ],
        [
         2020,
         "government, military",
         null
        ],
        [
         2021,
         "telecom",
         45000000
        ],
        [
         2021,
         "tech, retail",
         12367232
        ],
        [
         2021,
         "healthcare",
         1847000
        ],
        [
         2021,
         "hosting provider",
         1107034
        ],
        [
         2021,
         "health",
         500000
        ],
        [
         2021,
         "web",
         300000
        ],
        [
         2021,
         "tech",
         275000
        ],
        [
         2021,
         "dating",
         null
        ],
        [
         2021,
         "software",
         null
        ],
        [
         2022,
         "various",
         6400000
        ],
        [
         2022,
         "online shopping",
         1648922
        ],
        [
         2022,
         "energy",
         1300000
        ],
        [
         2022,
         "humanitarian",
         515000
        ],
        [
         2022,
         "retail",
         95000
        ]
       ],
       "datasetInfos": [],
       "dbfsResultPath": null,
       "isJsonSchema": true,
       "metadata": {},
       "overflow": false,
       "plotOptions": {
        "customPlotOptions": {},
        "displayType": "table",
        "pivotAggregation": null,
        "pivotColumns": null,
        "xColumns": null,
        "yColumns": null
       },
       "removedWidgets": [],
       "schema": [
        {
         "metadata": "{}",
         "name": "Year",
         "type": "\"integer\""
        },
        {
         "metadata": "{}",
         "name": "Organization_Type",
         "type": "\"string\""
        },
        {
         "metadata": "{}",
         "name": "total_records",
         "type": "\"long\""
        }
       ],
       "type": "table"
      }
     },
     "output_type": "display_data"
    }
   ],
   "source": [
    "%sql\n",
    "-- 5. Qual setor foi mais afetado a cada ano?\n",
    "SELECT Year, o.Organization_Type, SUM(Records) AS total_records\n",
    "FROM fatos_ocorrencias f\n",
    "JOIN dim_organizacao o ON f.Organization_ID = o.Organization_ID\n",
    "GROUP BY Year, o.Organization_Type\n",
    "ORDER BY Year, total_records DESC;\n"
   ]
  },
  {
   "cell_type": "code",
   "execution_count": 0,
   "metadata": {
    "application/vnd.databricks.v1+cell": {
     "cellMetadata": {
      "byteLimit": 2048000,
      "implicitDf": true,
      "rowLimit": 10000
     },
     "inputWidgets": {},
     "nuid": "abb64f34-1fb9-4546-88a5-7f3e62a0bd39",
     "showTitle": false,
     "tableResultSettingsMap": {},
     "title": ""
    }
   },
   "outputs": [
    {
     "output_type": "display_data",
     "data": {
      "text/html": [
       "<style scoped>\n",
       "  .table-result-container {\n",
       "    max-height: 300px;\n",
       "    overflow: auto;\n",
       "  }\n",
       "  table, th, td {\n",
       "    border: 1px solid black;\n",
       "    border-collapse: collapse;\n",
       "  }\n",
       "  th, td {\n",
       "    padding: 5px;\n",
       "  }\n",
       "  th {\n",
       "    text-align: left;\n",
       "  }\n",
       "</style><div class='table-result-container'><table class='table-result'><thead style='background-color: white'><tr><th>Method_Name</th><th>ocorrencias</th><th>total_records</th></tr></thead><tbody><tr><td>hacked</td><td>190</td><td>7349780062</td></tr><tr><td>poor security</td><td>43</td><td>3610143028</td></tr><tr><td>unknown</td><td>7</td><td>448233889</td></tr><tr><td>poor security / hacked</td><td>1</td><td>412214295</td></tr><tr><td>accidentally published</td><td>20</td><td>269917485</td></tr><tr><td>data exposed by misconfiguration</td><td>1</td><td>250000000</td></tr><tr><td>Poor security</td><td>1</td><td>201000000</td></tr><tr><td>lost / stolen media</td><td>33</td><td>170434536</td></tr><tr><td>unsecured S3 bucket</td><td>1</td><td>106000000</td></tr><tr><td>unprotected api</td><td>1</td><td>100000000</td></tr><tr><td>inside job, hacked</td><td>1</td><td>92000000</td></tr><tr><td>inside job</td><td>19</td><td>76426105</td></tr><tr><td>lost / stolen computer</td><td>16</td><td>41397666</td></tr><tr><td>publicly accessible Amazon Web Services (AWS) server</td><td>1</td><td>38000000</td></tr><tr><td>improper setting, hacked</td><td>2</td><td>21457751</td></tr><tr><td>social engineering</td><td>1</td><td>6054459</td></tr><tr><td>poor security/inside job</td><td>2</td><td>5214200</td></tr><tr><td>ransomware hacked</td><td>1</td><td>1648922</td></tr><tr><td>accidentally uploaded</td><td>1</td><td>1500000</td></tr><tr><td>intentionally lost</td><td>1</td><td>960000</td></tr><tr><td>accidentally exposed</td><td>1</td><td>900000</td></tr><tr><td>rogue contractor</td><td>1</td><td>30000</td></tr><tr><td>hacked/misconfiguration</td><td>1</td><td>null</td></tr><tr><td>zero-day vulnerabilities</td><td>1</td><td>null</td></tr></tbody></table></div>"
      ]
     },
     "metadata": {
      "application/vnd.databricks.v1+output": {
       "addedWidgets": {},
       "aggData": [],
       "aggError": "",
       "aggOverflow": false,
       "aggSchema": [],
       "aggSeriesLimitReached": false,
       "aggType": "",
       "arguments": {},
       "columnCustomDisplayInfos": {},
       "data": [
        [
         "hacked",
         190,
         7349780062
        ],
        [
         "poor security",
         43,
         3610143028
        ],
        [
         "unknown",
         7,
         448233889
        ],
        [
         "poor security / hacked",
         1,
         412214295
        ],
        [
         "accidentally published",
         20,
         269917485
        ],
        [
         "data exposed by misconfiguration",
         1,
         250000000
        ],
        [
         "Poor security",
         1,
         201000000
        ],
        [
         "lost / stolen media",
         33,
         170434536
        ],
        [
         "unsecured S3 bucket",
         1,
         106000000
        ],
        [
         "unprotected api",
         1,
         100000000
        ],
        [
         "inside job, hacked",
         1,
         92000000
        ],
        [
         "inside job",
         19,
         76426105
        ],
        [
         "lost / stolen computer",
         16,
         41397666
        ],
        [
         "publicly accessible Amazon Web Services (AWS) server",
         1,
         38000000
        ],
        [
         "improper setting, hacked",
         2,
         21457751
        ],
        [
         "social engineering",
         1,
         6054459
        ],
        [
         "poor security/inside job",
         2,
         5214200
        ],
        [
         "ransomware hacked",
         1,
         1648922
        ],
        [
         "accidentally uploaded",
         1,
         1500000
        ],
        [
         "intentionally lost",
         1,
         960000
        ],
        [
         "accidentally exposed",
         1,
         900000
        ],
        [
         "rogue contractor",
         1,
         30000
        ],
        [
         "hacked/misconfiguration",
         1,
         null
        ],
        [
         "zero-day vulnerabilities",
         1,
         null
        ]
       ],
       "datasetInfos": [],
       "dbfsResultPath": null,
       "isJsonSchema": true,
       "metadata": {},
       "overflow": false,
       "plotOptions": {
        "customPlotOptions": {},
        "displayType": "table",
        "pivotAggregation": null,
        "pivotColumns": null,
        "xColumns": null,
        "yColumns": null
       },
       "removedWidgets": [],
       "schema": [
        {
         "metadata": "{}",
         "name": "Method_Name",
         "type": "\"string\""
        },
        {
         "metadata": "{}",
         "name": "ocorrencias",
         "type": "\"long\""
        },
        {
         "metadata": "{}",
         "name": "total_records",
         "type": "\"long\""
        }
       ],
       "type": "table"
      }
     },
     "output_type": "display_data"
    }
   ],
   "source": [
    "%sql\n",
    "-- 6. Quais são os métodos de ataque mais comuns?\n",
    "SELECT m.Method_Name, COUNT(*) AS ocorrencias, SUM(f.Records) AS total_records\n",
    "FROM fatos_ocorrencias f\n",
    "JOIN dim_metodo m ON f.Method_ID = m.Method_ID\n",
    "GROUP BY m.Method_Name\n",
    "ORDER BY total_records DESC;\n"
   ]
  },
  {
   "cell_type": "code",
   "execution_count": 0,
   "metadata": {
    "application/vnd.databricks.v1+cell": {
     "cellMetadata": {
      "byteLimit": 2048000,
      "implicitDf": true,
      "rowLimit": 10000
     },
     "inputWidgets": {},
     "nuid": "c10123d4-89eb-4280-a352-06b743968d9f",
     "showTitle": false,
     "tableResultSettingsMap": {},
     "title": ""
    }
   },
   "outputs": [
    {
     "output_type": "display_data",
     "data": {
      "text/html": [
       "<style scoped>\n",
       "  .table-result-container {\n",
       "    max-height: 300px;\n",
       "    overflow: auto;\n",
       "  }\n",
       "  table, th, td {\n",
       "    border: 1px solid black;\n",
       "    border-collapse: collapse;\n",
       "  }\n",
       "  th, td {\n",
       "    padding: 5px;\n",
       "  }\n",
       "  th {\n",
       "    text-align: left;\n",
       "  }\n",
       "</style><div class='table-result-container'><table class='table-result'><thead style='background-color: white'><tr><th>Year</th><th>Method_Name</th><th>ocorrencias</th><th>total_records</th></tr></thead><tbody><tr><td>null</td><td>hacked</td><td>3</td><td>2363000</td></tr><tr><td>2004</td><td>inside job, hacked</td><td>1</td><td>92000000</td></tr><tr><td>2004</td><td>inside job</td><td>1</td><td>510000</td></tr><tr><td>2005</td><td>hacked</td><td>2</td><td>41400000</td></tr><tr><td>2005</td><td>lost / stolen media</td><td>3</td><td>5300000</td></tr><tr><td>2005</td><td>poor security</td><td>1</td><td>125000</td></tr><tr><td>2006</td><td>lost / stolen computer</td><td>1</td><td>26500000</td></tr><tr><td>2006</td><td>accidentally published</td><td>1</td><td>20000000</td></tr><tr><td>2006</td><td>lost / stolen media</td><td>2</td><td>17200000</td></tr><tr><td>2006</td><td>hacked</td><td>1</td><td>4000000</td></tr><tr><td>2006</td><td>inside job</td><td>1</td><td>2600000</td></tr><tr><td>2006</td><td>intentionally lost</td><td>1</td><td>960000</td></tr><tr><td>2007</td><td>hacked</td><td>4</td><td>106100000</td></tr><tr><td>2007</td><td>lost / stolen media</td><td>3</td><td>28160000</td></tr><tr><td>2007</td><td>inside job</td><td>4</td><td>18226405</td></tr><tr><td>2007</td><td>lost / stolen computer</td><td>1</td><td>800000</td></tr><tr><td>2008</td><td>hacked</td><td>3</td><td>27500000</td></tr><tr><td>2008</td><td>lost / stolen media</td><td>5</td><td>16534500</td></tr><tr><td>2008</td><td>accidentally published</td><td>3</td><td>11550000</td></tr><tr><td>2008</td><td>inside job</td><td>1</td><td>11100000</td></tr><tr><td>2008</td><td>lost / stolen computer</td><td>4</td><td>2382000</td></tr><tr><td>2009</td><td>hacked</td><td>7</td><td>176521778</td></tr><tr><td>2009</td><td>lost / stolen media</td><td>4</td><td>77595209</td></tr><tr><td>2009</td><td>lost / stolen computer</td><td>2</td><td>1351000</td></tr><tr><td>2010</td><td>lost / stolen media</td><td>7</td><td>9108606</td></tr><tr><td>2010</td><td>hacked</td><td>7</td><td>5820400</td></tr><tr><td>2010</td><td>inside job</td><td>3</td><td>903000</td></tr><tr><td>2010</td><td>lost / stolen computer</td><td>1</td><td>105470</td></tr><tr><td>2010</td><td>accidentally published</td><td>1</td><td>43000</td></tr><tr><td>2011</td><td>hacked</td><td>17</td><td>198735838</td></tr><tr><td>2011</td><td>lost / stolen media</td><td>5</td><td>11391642</td></tr><tr><td>2011</td><td>lost / stolen computer</td><td>4</td><td>10059196</td></tr><tr><td>2011</td><td>accidentally published</td><td>4</td><td>4608461</td></tr><tr><td>2011</td><td>inside job</td><td>1</td><td>2500000</td></tr><tr><td>2011</td><td>poor security</td><td>3</td><td>493000</td></tr><tr><td>2012</td><td>hacked</td><td>15</td><td>404440843</td></tr><tr><td>2012</td><td>accidentally published</td><td>4</td><td>15083792</td></tr><tr><td>2012</td><td>inside job</td><td>2</td><td>8200000</td></tr><tr><td>2012</td><td>lost / stolen media</td><td>1</td><td>800000</td></tr><tr><td>2012</td><td>poor security</td><td>1</td><td>315000</td></tr><tr><td>2013</td><td>hacked</td><td>21</td><td>3460570298</td></tr><tr><td>2013</td><td>accidentally published</td><td>2</td><td>6170000</td></tr><tr><td>2013</td><td>inside job</td><td>1</td><td>2000000</td></tr><tr><td>2013</td><td>lost / stolen media</td><td>1</td><td>344579</td></tr><tr><td>2013</td><td>lost / stolen computer</td><td>2</td><td>200000</td></tr><tr><td>2013</td><td>poor security</td><td>1</td><td>150000</td></tr><tr><td>2014</td><td>hacked</td><td>21</td><td>830800000</td></tr><tr><td>2014</td><td>inside job</td><td>1</td><td>20000000</td></tr><tr><td>2014</td><td>poor security</td><td>3</td><td>178000</td></tr><tr><td>2015</td><td>hacked</td><td>24</td><td>194420000</td></tr><tr><td>2015</td><td>social engineering</td><td>1</td><td>6054459</td></tr><tr><td>2015</td><td>inside job</td><td>1</td><td>680000</td></tr><tr><td>2015</td><td>poor security</td><td>1</td><td>500000</td></tr><tr><td>2015</td><td>accidentally published</td><td>1</td><td>null</td></tr><tr><td>2016</td><td>poor security / hacked</td><td>1</td><td>412214295</td></tr><tr><td>2016</td><td>hacked</td><td>15</td><td>73312116</td></tr><tr><td>2016</td><td>poor security</td><td>1</td><td>30000</td></tr><tr><td>2016</td><td>inside job</td><td>2</td><td>6700</td></tr><tr><td>2016</td><td>lost / stolen computer</td><td>1</td><td>null</td></tr><tr><td>2017</td><td>poor security</td><td>3</td><td>165019000</td></tr><tr><td>2017</td><td>hacked</td><td>4</td><td>85747877</td></tr><tr><td>2017</td><td>lost / stolen media</td><td>2</td><td>4000000</td></tr><tr><td>2018</td><td>hacked</td><td>17</td><td>986975943</td></tr><tr><td>2018</td><td>poor security</td><td>6</td><td>450590000</td></tr><tr><td>2018</td><td>unknown</td><td>1</td><td>92283889</td></tr><tr><td>2019</td><td>poor security</td><td>11</td><td>2617208000</td></tr><tr><td>2019</td><td>hacked</td><td>10</td><td>341423631</td></tr><tr><td>2019</td><td>unknown</td><td>1</td><td>299055000</td></tr><tr><td>2019</td><td>data exposed by misconfiguration</td><td>1</td><td>250000000</td></tr><tr><td>2019</td><td>unsecured S3 bucket</td><td>1</td><td>106000000</td></tr><tr><td>2019</td><td>unprotected api</td><td>1</td><td>100000000</td></tr><tr><td>2019</td><td>inside job</td><td>1</td><td>9700000</td></tr><tr><td>2019</td><td>accidentally uploaded</td><td>1</td><td>1500000</td></tr><tr><td>2019</td><td>poor security/inside job</td><td>1</td><td>14200</td></tr><tr><td>2019</td><td>accidentally published</td><td>1</td><td>null</td></tr><tr><td>2020</td><td>poor security</td><td>7</td><td>366944028</td></tr><tr><td>2020</td><td>hacked</td><td>13</td><td>361510304</td></tr><tr><td>2020</td><td>Poor security</td><td>1</td><td>201000000</td></tr><tr><td>2020</td><td>accidentally published</td><td>1</td><td>200000000</td></tr><tr><td>2020</td><td>unknown</td><td>3</td><td>56380000</td></tr><tr><td>2020</td><td>publicly accessible Amazon Web Services (AWS) server</td><td>1</td><td>38000000</td></tr><tr><td>2020</td><td>improper setting, hacked</td><td>2</td><td>21457751</td></tr><tr><td>2020</td><td>poor security/inside job</td><td>1</td><td>5200000</td></tr><tr><td>2020</td><td>accidentally exposed</td><td>1</td><td>900000</td></tr><tr><td>2020</td><td>rogue contractor</td><td>1</td><td>30000</td></tr><tr><td>2021</td><td>hacked</td><td>6</td><td>48138034</td></tr><tr><td>2021</td><td>accidentally published</td><td>1</td><td>12367232</td></tr><tr><td>2021</td><td>poor security</td><td>3</td><td>891000</td></tr><tr><td>2021</td><td>hacked/misconfiguration</td><td>1</td><td>null</td></tr><tr><td>2021</td><td>unknown</td><td>1</td><td>null</td></tr><tr><td>2021</td><td>zero-day vulnerabilities</td><td>1</td><td>null</td></tr><tr><td>2022</td><td>poor security</td><td>2</td><td>7700000</td></tr><tr><td>2022</td><td>ransomware hacked</td><td>1</td><td>1648922</td></tr><tr><td>2022</td><td>unknown</td><td>1</td><td>515000</td></tr><tr><td>2022</td><td>accidentally published</td><td>1</td><td>95000</td></tr></tbody></table></div>"
      ]
     },
     "metadata": {
      "application/vnd.databricks.v1+output": {
       "addedWidgets": {},
       "aggData": [],
       "aggError": "",
       "aggOverflow": false,
       "aggSchema": [],
       "aggSeriesLimitReached": false,
       "aggType": "",
       "arguments": {},
       "columnCustomDisplayInfos": {},
       "data": [
        [
         null,
         "hacked",
         3,
         2363000
        ],
        [
         2004,
         "inside job, hacked",
         1,
         92000000
        ],
        [
         2004,
         "inside job",
         1,
         510000
        ],
        [
         2005,
         "hacked",
         2,
         41400000
        ],
        [
         2005,
         "lost / stolen media",
         3,
         5300000
        ],
        [
         2005,
         "poor security",
         1,
         125000
        ],
        [
         2006,
         "lost / stolen computer",
         1,
         26500000
        ],
        [
         2006,
         "accidentally published",
         1,
         20000000
        ],
        [
         2006,
         "lost / stolen media",
         2,
         17200000
        ],
        [
         2006,
         "hacked",
         1,
         4000000
        ],
        [
         2006,
         "inside job",
         1,
         2600000
        ],
        [
         2006,
         "intentionally lost",
         1,
         960000
        ],
        [
         2007,
         "hacked",
         4,
         106100000
        ],
        [
         2007,
         "lost / stolen media",
         3,
         28160000
        ],
        [
         2007,
         "inside job",
         4,
         18226405
        ],
        [
         2007,
         "lost / stolen computer",
         1,
         800000
        ],
        [
         2008,
         "hacked",
         3,
         27500000
        ],
        [
         2008,
         "lost / stolen media",
         5,
         16534500
        ],
        [
         2008,
         "accidentally published",
         3,
         11550000
        ],
        [
         2008,
         "inside job",
         1,
         11100000
        ],
        [
         2008,
         "lost / stolen computer",
         4,
         2382000
        ],
        [
         2009,
         "hacked",
         7,
         176521778
        ],
        [
         2009,
         "lost / stolen media",
         4,
         77595209
        ],
        [
         2009,
         "lost / stolen computer",
         2,
         1351000
        ],
        [
         2010,
         "lost / stolen media",
         7,
         9108606
        ],
        [
         2010,
         "hacked",
         7,
         5820400
        ],
        [
         2010,
         "inside job",
         3,
         903000
        ],
        [
         2010,
         "lost / stolen computer",
         1,
         105470
        ],
        [
         2010,
         "accidentally published",
         1,
         43000
        ],
        [
         2011,
         "hacked",
         17,
         198735838
        ],
        [
         2011,
         "lost / stolen media",
         5,
         11391642
        ],
        [
         2011,
         "lost / stolen computer",
         4,
         10059196
        ],
        [
         2011,
         "accidentally published",
         4,
         4608461
        ],
        [
         2011,
         "inside job",
         1,
         2500000
        ],
        [
         2011,
         "poor security",
         3,
         493000
        ],
        [
         2012,
         "hacked",
         15,
         404440843
        ],
        [
         2012,
         "accidentally published",
         4,
         15083792
        ],
        [
         2012,
         "inside job",
         2,
         8200000
        ],
        [
         2012,
         "lost / stolen media",
         1,
         800000
        ],
        [
         2012,
         "poor security",
         1,
         315000
        ],
        [
         2013,
         "hacked",
         21,
         3460570298
        ],
        [
         2013,
         "accidentally published",
         2,
         6170000
        ],
        [
         2013,
         "inside job",
         1,
         2000000
        ],
        [
         2013,
         "lost / stolen media",
         1,
         344579
        ],
        [
         2013,
         "lost / stolen computer",
         2,
         200000
        ],
        [
         2013,
         "poor security",
         1,
         150000
        ],
        [
         2014,
         "hacked",
         21,
         830800000
        ],
        [
         2014,
         "inside job",
         1,
         20000000
        ],
        [
         2014,
         "poor security",
         3,
         178000
        ],
        [
         2015,
         "hacked",
         24,
         194420000
        ],
        [
         2015,
         "social engineering",
         1,
         6054459
        ],
        [
         2015,
         "inside job",
         1,
         680000
        ],
        [
         2015,
         "poor security",
         1,
         500000
        ],
        [
         2015,
         "accidentally published",
         1,
         null
        ],
        [
         2016,
         "poor security / hacked",
         1,
         412214295
        ],
        [
         2016,
         "hacked",
         15,
         73312116
        ],
        [
         2016,
         "poor security",
         1,
         30000
        ],
        [
         2016,
         "inside job",
         2,
         6700
        ],
        [
         2016,
         "lost / stolen computer",
         1,
         null
        ],
        [
         2017,
         "poor security",
         3,
         165019000
        ],
        [
         2017,
         "hacked",
         4,
         85747877
        ],
        [
         2017,
         "lost / stolen media",
         2,
         4000000
        ],
        [
         2018,
         "hacked",
         17,
         986975943
        ],
        [
         2018,
         "poor security",
         6,
         450590000
        ],
        [
         2018,
         "unknown",
         1,
         92283889
        ],
        [
         2019,
         "poor security",
         11,
         2617208000
        ],
        [
         2019,
         "hacked",
         10,
         341423631
        ],
        [
         2019,
         "unknown",
         1,
         299055000
        ],
        [
         2019,
         "data exposed by misconfiguration",
         1,
         250000000
        ],
        [
         2019,
         "unsecured S3 bucket",
         1,
         106000000
        ],
        [
         2019,
         "unprotected api",
         1,
         100000000
        ],
        [
         2019,
         "inside job",
         1,
         9700000
        ],
        [
         2019,
         "accidentally uploaded",
         1,
         1500000
        ],
        [
         2019,
         "poor security/inside job",
         1,
         14200
        ],
        [
         2019,
         "accidentally published",
         1,
         null
        ],
        [
         2020,
         "poor security",
         7,
         366944028
        ],
        [
         2020,
         "hacked",
         13,
         361510304
        ],
        [
         2020,
         "Poor security",
         1,
         201000000
        ],
        [
         2020,
         "accidentally published",
         1,
         200000000
        ],
        [
         2020,
         "unknown",
         3,
         56380000
        ],
        [
         2020,
         "publicly accessible Amazon Web Services (AWS) server",
         1,
         38000000
        ],
        [
         2020,
         "improper setting, hacked",
         2,
         21457751
        ],
        [
         2020,
         "poor security/inside job",
         1,
         5200000
        ],
        [
         2020,
         "accidentally exposed",
         1,
         900000
        ],
        [
         2020,
         "rogue contractor",
         1,
         30000
        ],
        [
         2021,
         "hacked",
         6,
         48138034
        ],
        [
         2021,
         "accidentally published",
         1,
         12367232
        ],
        [
         2021,
         "poor security",
         3,
         891000
        ],
        [
         2021,
         "hacked/misconfiguration",
         1,
         null
        ],
        [
         2021,
         "unknown",
         1,
         null
        ],
        [
         2021,
         "zero-day vulnerabilities",
         1,
         null
        ],
        [
         2022,
         "poor security",
         2,
         7700000
        ],
        [
         2022,
         "ransomware hacked",
         1,
         1648922
        ],
        [
         2022,
         "unknown",
         1,
         515000
        ],
        [
         2022,
         "accidentally published",
         1,
         95000
        ]
       ],
       "datasetInfos": [],
       "dbfsResultPath": null,
       "isJsonSchema": true,
       "metadata": {},
       "overflow": false,
       "plotOptions": {
        "customPlotOptions": {},
        "displayType": "table",
        "pivotAggregation": null,
        "pivotColumns": null,
        "xColumns": null,
        "yColumns": null
       },
       "removedWidgets": [],
       "schema": [
        {
         "metadata": "{}",
         "name": "Year",
         "type": "\"integer\""
        },
        {
         "metadata": "{}",
         "name": "Method_Name",
         "type": "\"string\""
        },
        {
         "metadata": "{}",
         "name": "ocorrencias",
         "type": "\"long\""
        },
        {
         "metadata": "{}",
         "name": "total_records",
         "type": "\"long\""
        }
       ],
       "type": "table"
      }
     },
     "output_type": "display_data"
    }
   ],
   "source": [
    "%sql\n",
    "-- 7. Como os métodos de ataque evoluíram ao longo do tempo?\n",
    "SELECT Year, m.Method_Name, COUNT(*) AS ocorrencias, SUM(f.Records) AS total_records\n",
    "FROM fatos_ocorrencias f\n",
    "JOIN dim_metodo m ON f.Method_ID = m.Method_ID\n",
    "GROUP BY Year, m.Method_Name\n",
    "ORDER BY Year ASC, total_records DESC;\n"
   ]
  },
  {
   "cell_type": "code",
   "execution_count": 0,
   "metadata": {
    "application/vnd.databricks.v1+cell": {
     "cellMetadata": {
      "byteLimit": 2048000,
      "implicitDf": true,
      "rowLimit": 10000
     },
     "inputWidgets": {},
     "nuid": "d7fa2479-0458-4c55-b443-8a8e16c69d15",
     "showTitle": false,
     "tableResultSettingsMap": {},
     "title": ""
    }
   },
   "outputs": [
    {
     "output_type": "display_data",
     "data": {
      "text/html": [
       "<style scoped>\n",
       "  .table-result-container {\n",
       "    max-height: 300px;\n",
       "    overflow: auto;\n",
       "  }\n",
       "  table, th, td {\n",
       "    border: 1px solid black;\n",
       "    border-collapse: collapse;\n",
       "  }\n",
       "  th, td {\n",
       "    padding: 5px;\n",
       "  }\n",
       "  th {\n",
       "    text-align: left;\n",
       "  }\n",
       "</style><div class='table-result-container'><table class='table-result'><thead style='background-color: white'><tr><th>Organization_Type</th><th>Method_Name</th><th>ocorrencias</th><th>total_records</th></tr></thead><tbody><tr><td>Clinical Laboratory</td><td>poor security</td><td>1</td><td>11900000</td></tr><tr><td>Consumer Goods</td><td>hacked</td><td>1</td><td>150000000</td></tr><tr><td>Information Security</td><td>hacked</td><td>1</td><td>null</td></tr><tr><td>Network Monitoring</td><td>hacked</td><td>1</td><td>null</td></tr><tr><td>QR code payment</td><td>improper setting, hacked</td><td>1</td><td>20076016</td></tr><tr><td>Question & Answer</td><td>hacked</td><td>1</td><td>100000000</td></tr><tr><td>Telephone directory</td><td>unknown</td><td>1</td><td>299055000</td></tr><tr><td>academic</td><td>hacked</td><td>9</td><td>2725540</td></tr><tr><td>academic</td><td>lost / stolen media</td><td>1</td><td>2200000</td></tr><tr><td>academic</td><td>lost / stolen computer</td><td>2</td><td>2172000</td></tr><tr><td>academic</td><td>accidentally published</td><td>1</td><td>43000</td></tr><tr><td>advertising</td><td>hacked</td><td>1</td><td>75000</td></tr><tr><td>arts group</td><td>poor security</td><td>1</td><td>null</td></tr><tr><td>background check</td><td>unknown</td><td>1</td><td>56000000</td></tr><tr><td>banking</td><td>poor security</td><td>1</td><td>90000</td></tr><tr><td>consulting, accounting</td><td>poor security</td><td>1</td><td>null</td></tr><tr><td>data broker</td><td>poor security</td><td>1</td><td>340000000</td></tr><tr><td>dating</td><td>hacked</td><td>1</td><td>null</td></tr><tr><td>educational services</td><td>hacked</td><td>1</td><td>35040000</td></tr><tr><td>energy</td><td>inside job</td><td>2</td><td>12900000</td></tr><tr><td>energy</td><td>poor security</td><td>1</td><td>1300000</td></tr><tr><td>energy</td><td>hacked</td><td>1</td><td>110000</td></tr><tr><td>fashion</td><td>hacked</td><td>1</td><td>123857</td></tr><tr><td>financial</td><td>hacked</td><td>19</td><td>443298083</td></tr><tr><td>financial</td><td>accidentally published</td><td>1</td><td>200000000</td></tr><tr><td>financial</td><td>unsecured S3 bucket</td><td>1</td><td>106000000</td></tr><tr><td>financial</td><td>inside job</td><td>6</td><td>44300000</td></tr><tr><td>financial</td><td>lost / stolen media</td><td>7</td><td>23734000</td></tr><tr><td>financial</td><td>intentionally lost</td><td>1</td><td>960000</td></tr><tr><td>financial</td><td>poor security</td><td>2</td><td>275000</td></tr><tr><td>financial</td><td>rogue contractor</td><td>1</td><td>30000</td></tr><tr><td>financial service company</td><td>poor security</td><td>1</td><td>885000000</td></tr><tr><td>financial, credit reporting</td><td>poor security</td><td>1</td><td>163119000</td></tr><tr><td>gambling</td><td>unknown</td><td>1</td><td>null</td></tr><tr><td>game</td><td>hacked</td><td>1</td><td>350000</td></tr><tr><td>gaming</td><td>hacked</td><td>11</td><td>172623989</td></tr><tr><td>genealogy</td><td>unknown</td><td>1</td><td>92283889</td></tr><tr><td>government</td><td>poor security</td><td>4</td><td>60240000</td></tr><tr><td>government</td><td>hacked</td><td>7</td><td>33290899</td></tr><tr><td>government</td><td>lost / stolen media</td><td>6</td><td>30634500</td></tr><tr><td>government</td><td>accidentally published</td><td>7</td><td>21673461</td></tr><tr><td>government</td><td>inside job</td><td>4</td><td>1412000</td></tr><tr><td>government</td><td>lost / stolen computer</td><td>1</td><td>100000</td></tr><tr><td>government, database</td><td>hacked</td><td>1</td><td>1500000</td></tr><tr><td>government, healthcare</td><td>hacked</td><td>2</td><td>9037378</td></tr><tr><td>government, military</td><td>lost / stolen computer</td><td>1</td><td>26500000</td></tr><tr><td>government, military</td><td>hacked</td><td>1</td><td>null</td></tr><tr><td>health</td><td>poor security</td><td>1</td><td>500000</td></tr><tr><td>healthcare</td><td>hacked</td><td>18</td><td>135763800</td></tr><tr><td>healthcare</td><td>lost / stolen media</td><td>14</td><td>20594036</td></tr><tr><td>healthcare</td><td>lost / stolen computer</td><td>6</td><td>6583234</td></tr><tr><td>healthcare</td><td>inside job</td><td>2</td><td>6406700</td></tr><tr><td>healthcare</td><td>poor security</td><td>5</td><td>1780600</td></tr><tr><td>healthcare</td><td>poor security/inside job</td><td>1</td><td>14200</td></tr><tr><td>healthcare</td><td>unknown</td><td>1</td><td>null</td></tr><tr><td>hosting provider</td><td>hacked</td><td>1</td><td>1107034</td></tr><tr><td>hotel</td><td>hacked</td><td>7</td><td>500363000</td></tr><tr><td>hotel</td><td>poor security/inside job</td><td>1</td><td>5200000</td></tr><tr><td>humanitarian</td><td>unknown</td><td>1</td><td>515000</td></tr><tr><td>information technology</td><td>hacked</td><td>1</td><td>null</td></tr><tr><td>local search</td><td>unprotected api</td><td>1</td><td>100000000</td></tr><tr><td>market analysis</td><td>poor security</td><td>1</td><td>120000000</td></tr><tr><td>media</td><td>hacked</td><td>3</td><td>1700000</td></tr><tr><td>messaging app</td><td>hacked</td><td>1</td><td>162000000</td></tr><tr><td>military</td><td>lost / stolen media</td><td>2</td><td>76072000</td></tr><tr><td>military</td><td>accidentally published</td><td>2</td><td>985000</td></tr><tr><td>military</td><td>inside job</td><td>1</td><td>260000</td></tr><tr><td>military</td><td>lost / stolen computer</td><td>1</td><td>131000</td></tr><tr><td>military</td><td>hacked</td><td>1</td><td>null</td></tr><tr><td>military, healthcare</td><td>lost / stolen computer</td><td>1</td><td>4901432</td></tr><tr><td>mobile carrier</td><td>accidentally exposed</td><td>1</td><td>900000</td></tr><tr><td>mobile carrier</td><td>hacked</td><td>1</td><td>null</td></tr><tr><td>online marketing</td><td>publicly accessible Amazon Web Services (AWS) server</td><td>1</td><td>38000000</td></tr><tr><td>online shopping</td><td>ransomware hacked</td><td>1</td><td>1648922</td></tr><tr><td>personal and demographic data about residents and their properties of US</td><td>Poor security</td><td>1</td><td>201000000</td></tr><tr><td>phone accessories</td><td>poor security</td><td>1</td><td>377428</td></tr><tr><td>publisher (magazine)</td><td>unknown</td><td>1</td><td>380000</td></tr><tr><td>restaurant</td><td>hacked</td><td>3</td><td>2000000</td></tr><tr><td>retail</td><td>hacked</td><td>22</td><td>362228335</td></tr><tr><td>retail</td><td>inside job</td><td>1</td><td>8637405</td></tr><tr><td>retail</td><td>lost / stolen computer</td><td>2</td><td>897000</td></tr><tr><td>retail</td><td>poor security</td><td>1</td><td>283000</td></tr><tr><td>retail</td><td>accidentally published</td><td>1</td><td>95000</td></tr><tr><td>shopping</td><td>inside job</td><td>1</td><td>510000</td></tr><tr><td>social media</td><td>poor security</td><td>2</td><td>46000000</td></tr><tr><td>social network</td><td>poor security</td><td>5</td><td>1057500000</td></tr><tr><td>social network</td><td>hacked</td><td>1</td><td>173000000</td></tr><tr><td>social network</td><td>accidentally published</td><td>1</td><td>6000000</td></tr><tr><td>social network</td><td>accidentally uploaded</td><td>1</td><td>1500000</td></tr><tr><td>social networking</td><td>hacked</td><td>1</td><td>14870304</td></tr><tr><td>software</td><td>zero-day vulnerabilities</td><td>1</td><td>null</td></tr><tr><td>special public corporation</td><td>hacked</td><td>1</td><td>1250000</td></tr><tr><td>tech</td><td>poor security</td><td>7</td><td>593050000</td></tr><tr><td>tech</td><td>data exposed by misconfiguration</td><td>1</td><td>250000000</td></tr><tr><td>tech</td><td>hacked</td><td>9</td><td>157848000</td></tr><tr><td>tech</td><td>hacked/misconfiguration</td><td>1</td><td>null</td></tr><tr><td>tech</td><td>lost / stolen computer</td><td>1</td><td>null</td></tr><tr><td>tech, retail</td><td>accidentally published</td><td>1</td><td>12367232</td></tr><tr><td>tech, retail</td><td>lost / stolen media</td><td>1</td><td>200000</td></tr><tr><td>tech, web</td><td>hacked</td><td>1</td><td>22000000</td></tr><tr><td>telecom</td><td>hacked</td><td>1</td><td>45000000</td></tr><tr><td>telecom</td><td>inside job</td><td>1</td><td>null</td></tr><tr><td>telecommunications</td><td>poor security</td><td>1</td><td>320000000</td></tr><tr><td>telecoms</td><td>hacked</td><td>7</td><td>29454000</td></tr><tr><td>telecoms</td><td>lost / stolen media</td><td>1</td><td>17000000</td></tr><tr><td>telecoms</td><td>inside job</td><td>1</td><td>2000000</td></tr><tr><td>telecoms</td><td>poor security</td><td>1</td><td>1900000</td></tr><tr><td>telecoms</td><td>accidentally published</td><td>1</td><td>170000</td></tr><tr><td>telecoms</td><td>lost / stolen computer</td><td>1</td><td>113000</td></tr><tr><td>ticket distribution</td><td>hacked</td><td>1</td><td>26151608</td></tr><tr><td>transport</td><td>hacked</td><td>5</td><td>66920000</td></tr><tr><td>transport</td><td>poor security</td><td>1</td><td>52000</td></tr><tr><td>transport</td><td>lost / stolen media</td><td>1</td><td>null</td></tr><tr><td>various</td><td>poor security</td><td>1</td><td>6400000</td></tr><tr><td>web</td><td>hacked</td><td>43</td><td>4663249235</td></tr><tr><td>web</td><td>poor security / hacked</td><td>1</td><td>412214295</td></tr><tr><td>web</td><td>inside job, hacked</td><td>1</td><td>92000000</td></tr><tr><td>web</td><td>accidentally published</td><td>4</td><td>28420000</td></tr><tr><td>web</td><td>social engineering</td><td>1</td><td>6054459</td></tr><tr><td>web</td><td>improper setting, hacked</td><td>1</td><td>1381735</td></tr><tr><td>web</td><td>poor security</td><td>2</td><td>376000</td></tr><tr><td>web, gaming</td><td>hacked</td><td>1</td><td>32000000</td></tr><tr><td>web, military</td><td>accidentally published</td><td>1</td><td>163792</td></tr><tr><td>web, tech</td><td>hacked</td><td>1</td><td>4700000</td></tr></tbody></table></div>"
      ]
     },
     "metadata": {
      "application/vnd.databricks.v1+output": {
       "addedWidgets": {},
       "aggData": [],
       "aggError": "",
       "aggOverflow": false,
       "aggSchema": [],
       "aggSeriesLimitReached": false,
       "aggType": "",
       "arguments": {},
       "columnCustomDisplayInfos": {},
       "data": [
        [
         "Clinical Laboratory",
         "poor security",
         1,
         11900000
        ],
        [
         "Consumer Goods",
         "hacked",
         1,
         150000000
        ],
        [
         "Information Security",
         "hacked",
         1,
         null
        ],
        [
         "Network Monitoring",
         "hacked",
         1,
         null
        ],
        [
         "QR code payment",
         "improper setting, hacked",
         1,
         20076016
        ],
        [
         "Question & Answer",
         "hacked",
         1,
         100000000
        ],
        [
         "Telephone directory",
         "unknown",
         1,
         299055000
        ],
        [
         "academic",
         "hacked",
         9,
         2725540
        ],
        [
         "academic",
         "lost / stolen media",
         1,
         2200000
        ],
        [
         "academic",
         "lost / stolen computer",
         2,
         2172000
        ],
        [
         "academic",
         "accidentally published",
         1,
         43000
        ],
        [
         "advertising",
         "hacked",
         1,
         75000
        ],
        [
         "arts group",
         "poor security",
         1,
         null
        ],
        [
         "background check",
         "unknown",
         1,
         56000000
        ],
        [
         "banking",
         "poor security",
         1,
         90000
        ],
        [
         "consulting, accounting",
         "poor security",
         1,
         null
        ],
        [
         "data broker",
         "poor security",
         1,
         340000000
        ],
        [
         "dating",
         "hacked",
         1,
         null
        ],
        [
         "educational services",
         "hacked",
         1,
         35040000
        ],
        [
         "energy",
         "inside job",
         2,
         12900000
        ],
        [
         "energy",
         "poor security",
         1,
         1300000
        ],
        [
         "energy",
         "hacked",
         1,
         110000
        ],
        [
         "fashion",
         "hacked",
         1,
         123857
        ],
        [
         "financial",
         "hacked",
         19,
         443298083
        ],
        [
         "financial",
         "accidentally published",
         1,
         200000000
        ],
        [
         "financial",
         "unsecured S3 bucket",
         1,
         106000000
        ],
        [
         "financial",
         "inside job",
         6,
         44300000
        ],
        [
         "financial",
         "lost / stolen media",
         7,
         23734000
        ],
        [
         "financial",
         "intentionally lost",
         1,
         960000
        ],
        [
         "financial",
         "poor security",
         2,
         275000
        ],
        [
         "financial",
         "rogue contractor",
         1,
         30000
        ],
        [
         "financial service company",
         "poor security",
         1,
         885000000
        ],
        [
         "financial, credit reporting",
         "poor security",
         1,
         163119000
        ],
        [
         "gambling",
         "unknown",
         1,
         null
        ],
        [
         "game",
         "hacked",
         1,
         350000
        ],
        [
         "gaming",
         "hacked",
         11,
         172623989
        ],
        [
         "genealogy",
         "unknown",
         1,
         92283889
        ],
        [
         "government",
         "poor security",
         4,
         60240000
        ],
        [
         "government",
         "hacked",
         7,
         33290899
        ],
        [
         "government",
         "lost / stolen media",
         6,
         30634500
        ],
        [
         "government",
         "accidentally published",
         7,
         21673461
        ],
        [
         "government",
         "inside job",
         4,
         1412000
        ],
        [
         "government",
         "lost / stolen computer",
         1,
         100000
        ],
        [
         "government, database",
         "hacked",
         1,
         1500000
        ],
        [
         "government, healthcare",
         "hacked",
         2,
         9037378
        ],
        [
         "government, military",
         "lost / stolen computer",
         1,
         26500000
        ],
        [
         "government, military",
         "hacked",
         1,
         null
        ],
        [
         "health",
         "poor security",
         1,
         500000
        ],
        [
         "healthcare",
         "hacked",
         18,
         135763800
        ],
        [
         "healthcare",
         "lost / stolen media",
         14,
         20594036
        ],
        [
         "healthcare",
         "lost / stolen computer",
         6,
         6583234
        ],
        [
         "healthcare",
         "inside job",
         2,
         6406700
        ],
        [
         "healthcare",
         "poor security",
         5,
         1780600
        ],
        [
         "healthcare",
         "poor security/inside job",
         1,
         14200
        ],
        [
         "healthcare",
         "unknown",
         1,
         null
        ],
        [
         "hosting provider",
         "hacked",
         1,
         1107034
        ],
        [
         "hotel",
         "hacked",
         7,
         500363000
        ],
        [
         "hotel",
         "poor security/inside job",
         1,
         5200000
        ],
        [
         "humanitarian",
         "unknown",
         1,
         515000
        ],
        [
         "information technology",
         "hacked",
         1,
         null
        ],
        [
         "local search",
         "unprotected api",
         1,
         100000000
        ],
        [
         "market analysis",
         "poor security",
         1,
         120000000
        ],
        [
         "media",
         "hacked",
         3,
         1700000
        ],
        [
         "messaging app",
         "hacked",
         1,
         162000000
        ],
        [
         "military",
         "lost / stolen media",
         2,
         76072000
        ],
        [
         "military",
         "accidentally published",
         2,
         985000
        ],
        [
         "military",
         "inside job",
         1,
         260000
        ],
        [
         "military",
         "lost / stolen computer",
         1,
         131000
        ],
        [
         "military",
         "hacked",
         1,
         null
        ],
        [
         "military, healthcare",
         "lost / stolen computer",
         1,
         4901432
        ],
        [
         "mobile carrier",
         "accidentally exposed",
         1,
         900000
        ],
        [
         "mobile carrier",
         "hacked",
         1,
         null
        ],
        [
         "online marketing",
         "publicly accessible Amazon Web Services (AWS) server",
         1,
         38000000
        ],
        [
         "online shopping",
         "ransomware hacked",
         1,
         1648922
        ],
        [
         "personal and demographic data about residents and their properties of US",
         "Poor security",
         1,
         201000000
        ],
        [
         "phone accessories",
         "poor security",
         1,
         377428
        ],
        [
         "publisher (magazine)",
         "unknown",
         1,
         380000
        ],
        [
         "restaurant",
         "hacked",
         3,
         2000000
        ],
        [
         "retail",
         "hacked",
         22,
         362228335
        ],
        [
         "retail",
         "inside job",
         1,
         8637405
        ],
        [
         "retail",
         "lost / stolen computer",
         2,
         897000
        ],
        [
         "retail",
         "poor security",
         1,
         283000
        ],
        [
         "retail",
         "accidentally published",
         1,
         95000
        ],
        [
         "shopping",
         "inside job",
         1,
         510000
        ],
        [
         "social media",
         "poor security",
         2,
         46000000
        ],
        [
         "social network",
         "poor security",
         5,
         1057500000
        ],
        [
         "social network",
         "hacked",
         1,
         173000000
        ],
        [
         "social network",
         "accidentally published",
         1,
         6000000
        ],
        [
         "social network",
         "accidentally uploaded",
         1,
         1500000
        ],
        [
         "social networking",
         "hacked",
         1,
         14870304
        ],
        [
         "software",
         "zero-day vulnerabilities",
         1,
         null
        ],
        [
         "special public corporation",
         "hacked",
         1,
         1250000
        ],
        [
         "tech",
         "poor security",
         7,
         593050000
        ],
        [
         "tech",
         "data exposed by misconfiguration",
         1,
         250000000
        ],
        [
         "tech",
         "hacked",
         9,
         157848000
        ],
        [
         "tech",
         "hacked/misconfiguration",
         1,
         null
        ],
        [
         "tech",
         "lost / stolen computer",
         1,
         null
        ],
        [
         "tech, retail",
         "accidentally published",
         1,
         12367232
        ],
        [
         "tech, retail",
         "lost / stolen media",
         1,
         200000
        ],
        [
         "tech, web",
         "hacked",
         1,
         22000000
        ],
        [
         "telecom",
         "hacked",
         1,
         45000000
        ],
        [
         "telecom",
         "inside job",
         1,
         null
        ],
        [
         "telecommunications",
         "poor security",
         1,
         320000000
        ],
        [
         "telecoms",
         "hacked",
         7,
         29454000
        ],
        [
         "telecoms",
         "lost / stolen media",
         1,
         17000000
        ],
        [
         "telecoms",
         "inside job",
         1,
         2000000
        ],
        [
         "telecoms",
         "poor security",
         1,
         1900000
        ],
        [
         "telecoms",
         "accidentally published",
         1,
         170000
        ],
        [
         "telecoms",
         "lost / stolen computer",
         1,
         113000
        ],
        [
         "ticket distribution",
         "hacked",
         1,
         26151608
        ],
        [
         "transport",
         "hacked",
         5,
         66920000
        ],
        [
         "transport",
         "poor security",
         1,
         52000
        ],
        [
         "transport",
         "lost / stolen media",
         1,
         null
        ],
        [
         "various",
         "poor security",
         1,
         6400000
        ],
        [
         "web",
         "hacked",
         43,
         4663249235
        ],
        [
         "web",
         "poor security / hacked",
         1,
         412214295
        ],
        [
         "web",
         "inside job, hacked",
         1,
         92000000
        ],
        [
         "web",
         "accidentally published",
         4,
         28420000
        ],
        [
         "web",
         "social engineering",
         1,
         6054459
        ],
        [
         "web",
         "improper setting, hacked",
         1,
         1381735
        ],
        [
         "web",
         "poor security",
         2,
         376000
        ],
        [
         "web, gaming",
         "hacked",
         1,
         32000000
        ],
        [
         "web, military",
         "accidentally published",
         1,
         163792
        ],
        [
         "web, tech",
         "hacked",
         1,
         4700000
        ]
       ],
       "datasetInfos": [],
       "dbfsResultPath": null,
       "isJsonSchema": true,
       "metadata": {},
       "overflow": false,
       "plotOptions": {
        "customPlotOptions": {},
        "displayType": "table",
        "pivotAggregation": null,
        "pivotColumns": null,
        "xColumns": null,
        "yColumns": null
       },
       "removedWidgets": [],
       "schema": [
        {
         "metadata": "{}",
         "name": "Organization_Type",
         "type": "\"string\""
        },
        {
         "metadata": "{}",
         "name": "Method_Name",
         "type": "\"string\""
        },
        {
         "metadata": "{}",
         "name": "ocorrencias",
         "type": "\"long\""
        },
        {
         "metadata": "{}",
         "name": "total_records",
         "type": "\"long\""
        }
       ],
       "type": "table"
      }
     },
     "output_type": "display_data"
    }
   ],
   "source": [
    "%sql\n",
    "-- 8. Quais métodos de ataque afetam mais cada setor?\n",
    "SELECT o.Organization_Type, m.Method_Name, COUNT(*) AS ocorrencias, SUM(f.Records) AS total_records\n",
    "FROM fatos_ocorrencias f\n",
    "JOIN dim_organizacao o ON f.Organization_ID = o.Organization_ID\n",
    "JOIN dim_metodo m ON f.Method_ID = m.Method_ID\n",
    "GROUP BY o.Organization_Type, m.Method_Name\n",
    "ORDER BY o.Organization_Type, total_records DESC;\n"
   ]
  },
  {
   "cell_type": "code",
   "execution_count": 0,
   "metadata": {
    "application/vnd.databricks.v1+cell": {
     "cellMetadata": {
      "byteLimit": 2048000,
      "implicitDf": true,
      "rowLimit": 10000
     },
     "inputWidgets": {},
     "nuid": "296d3b7d-9903-4243-b95f-2aa522db611a",
     "showTitle": false,
     "tableResultSettingsMap": {},
     "title": ""
    }
   },
   "outputs": [
    {
     "output_type": "display_data",
     "data": {
      "text/html": [
       "<style scoped>\n",
       "  .table-result-container {\n",
       "    max-height: 300px;\n",
       "    overflow: auto;\n",
       "  }\n",
       "  table, th, td {\n",
       "    border: 1px solid black;\n",
       "    border-collapse: collapse;\n",
       "  }\n",
       "  th, td {\n",
       "    padding: 5px;\n",
       "  }\n",
       "  th {\n",
       "    text-align: left;\n",
       "  }\n",
       "</style><div class='table-result-container'><table class='table-result'><thead style='background-color: white'><tr><th>Source_Details</th><th>ocorrencias</th><th>total_records</th></tr></thead><tbody><tr><td>[395][396]</td><td>1</td><td>3000000000</td></tr><tr><td>[153]</td><td>1</td><td>885000000</td></tr><tr><td>[146][147]</td><td>1</td><td>540000000</td></tr><tr><td>[234]</td><td>1</td><td>500000000</td></tr><tr><td>[397][398][399][400][401]</td><td>1</td><td>500000000</td></tr><tr><td>[157][158]</td><td>1</td><td>412214295</td></tr><tr><td>[134]</td><td>1</td><td>340000000</td></tr><tr><td>[18]</td><td>1</td><td>320000000</td></tr><tr><td>[341][342]</td><td>1</td><td>299055000</td></tr><tr><td>[248]</td><td>1</td><td>275000000</td></tr><tr><td>[384]</td><td>1</td><td>270000000</td></tr><tr><td>[149][150]</td><td>1</td><td>267000000</td></tr><tr><td>[240]</td><td>1</td><td>250000000</td></tr><tr><td>[201]</td><td>3</td><td>246000000</td></tr><tr><td>[247]</td><td>1</td><td>202000000</td></tr><tr><td>[162]</td><td>1</td><td>201000000</td></tr><tr><td>[408]</td><td>1</td><td>200000000</td></tr><tr><td>[406][407]</td><td>1</td><td>173000000</td></tr><tr><td>[128][129]</td><td>1</td><td>163119000</td></tr><tr><td>[116][7]</td><td>1</td><td>162000000</td></tr><tr><td>[236]</td><td>1</td><td>160000000</td></tr><tr><td>[10]</td><td>1</td><td>152000000</td></tr><tr><td>[358]</td><td>1</td><td>150000000</td></tr><tr><td>[121]</td><td>1</td><td>145000000</td></tr><tr><td>[67][68][69]</td><td>1</td><td>140000000</td></tr><tr><td>[188][189]</td><td>1</td><td>130000000</td></tr><tr><td>[333]</td><td>1</td><td>120000000</td></tr><tr><td>[323][324]</td><td>1</td><td>110000000</td></tr><tr><td>[125]</td><td>1</td><td>108000000</td></tr><tr><td>[71][72]</td><td>1</td><td>106000000</td></tr><tr><td>[280]</td><td>1</td><td>100000000</td></tr><tr><td>[214]</td><td>1</td><td>100000000</td></tr><tr><td>[281][282]</td><td>1</td><td>98167935</td></tr><tr><td>[336][337]</td><td>1</td><td>94000000</td></tr><tr><td>[252]</td><td>1</td><td>92283889</td></tr><tr><td>[28][29]</td><td>1</td><td>92000000</td></tr><tr><td>[26][27]</td><td>1</td><td>80000000</td></tr><tr><td>[306]</td><td>1</td><td>77000000</td></tr><tr><td>[372]</td><td>1</td><td>76000000</td></tr><tr><td>[213]</td><td>1</td><td>76000000</td></tr><tr><td>[113]</td><td>1</td><td>68648009</td></tr><tr><td>[345]</td><td>1</td><td>65469298</td></tr><tr><td>[363]</td><td>1</td><td>60000000</td></tr><tr><td>[350]</td><td>1</td><td>57000000</td></tr><tr><td>[196]</td><td>1</td><td>56000000</td></tr><tr><td>[80]</td><td>1</td><td>56000000</td></tr><tr><td>[132][133]</td><td>1</td><td>50000000</td></tr><tr><td>[140][141][142][143][144][145]</td><td>1</td><td>50000000</td></tr><tr><td>[229][230]</td><td>1</td><td>50000000</td></tr><tr><td>[24]</td><td>1</td><td>46000000</td></tr><tr><td>[340]</td><td>1</td><td>45000000</td></tr><tr><td>[386][387]</td><td>1</td><td>43430316</td></tr><tr><td>[73][74]</td><td>1</td><td>40000000</td></tr><tr><td>[376]</td><td>1</td><td>38000000</td></tr><tr><td>[51]</td><td>1</td><td>35040000</td></tr><tr><td>[314]</td><td>1</td><td>35000000</td></tr><tr><td>[286]</td><td>1</td><td>32000000</td></tr><tr><td>[35]</td><td>1</td><td>32000000</td></tr><tr><td>[385]</td><td>1</td><td>30000000</td></tr><tr><td>[36]</td><td>25</td><td>28842210</td></tr><tr><td>[322]</td><td>1</td><td>28722877</td></tr><tr><td>[181][182][183]</td><td>1</td><td>28517244</td></tr><tr><td>[335]</td><td>1</td><td>28000000</td></tr><tr><td>[366]</td><td>1</td><td>26500000</td></tr><tr><td>[334]</td><td>1</td><td>26151608</td></tr><tr><td>[356]</td><td>1</td><td>25000000</td></tr><tr><td>[302][303]</td><td>1</td><td>24600000</td></tr><tr><td>[405]</td><td>1</td><td>24000000</td></tr><tr><td>[402]</td><td>1</td><td>22000000</td></tr><tr><td>[270][271]</td><td>1</td><td>21500000</td></tr><tr><td>[276]</td><td>2</td><td>21457751</td></tr><tr><td>[219]</td><td>1</td><td>20000000</td></tr><tr><td>[321]</td><td>1</td><td>20000000</td></tr><tr><td>[30]</td><td>1</td><td>20000000</td></tr><tr><td>[39]</td><td>1</td><td>18000000</td></tr><tr><td>[338][339]</td><td>1</td><td>17000000</td></tr><tr><td>[225]</td><td>1</td><td>15000000</td></tr><tr><td>[136][137]</td><td>1</td><td>15000000</td></tr><tr><td>[7]</td><td>1</td><td>14870304</td></tr><tr><td>[57][58]</td><td>1</td><td>14000000</td></tr><tr><td>[262]</td><td>1</td><td>13200000</td></tr><tr><td>[45]</td><td>1</td><td>12500000</td></tr><tr><td>[32]</td><td>1</td><td>12367232</td></tr><tr><td>[279]</td><td>1</td><td>11900000</td></tr><tr><td>[176][177]</td><td>1</td><td>11100000</td></tr><tr><td>[278]</td><td>1</td><td>11000000</td></tr><tr><td>[135]</td><td>1</td><td>10000000</td></tr><tr><td>[82]</td><td>1</td><td>10000000</td></tr><tr><td>[109]</td><td>1</td><td>9700000</td></tr><tr><td>[75]</td><td>2</td><td>9400000</td></tr><tr><td>[172]</td><td>1</td><td>9000000</td></tr><tr><td>[220][221]</td><td>1</td><td>8700000</td></tr><tr><td>[100]</td><td>1</td><td>8637405</td></tr><tr><td>[152]</td><td>1</td><td>8500000</td></tr><tr><td>[263]</td><td>1</td><td>8300000</td></tr><tr><td>[163]</td><td>1</td><td>8000000</td></tr><tr><td>[101]</td><td>1</td><td>8000000</td></tr><tr><td>[227][228]</td><td>1</td><td>8000000</td></tr><tr><td>[55][56]</td><td>1</td><td>7633234</td></tr><tr><td>[11][12]</td><td>1</td><td>7500000</td></tr><tr><td>[167]</td><td>1</td><td>7000000</td></tr><tr><td>[315]</td><td>1</td><td>6800000</td></tr><tr><td>[272]</td><td>1</td><td>6500000</td></tr><tr><td>[410] [411]</td><td>1</td><td>6400000</td></tr><tr><td>[124][308]</td><td>1</td><td>6400000</td></tr><tr><td>[328]</td><td>1</td><td>6300000</td></tr><tr><td>[394]</td><td>1</td><td>6054459</td></tr><tr><td>[243][244]</td><td>1</td><td>6000000</td></tr><tr><td>[81]</td><td>1</td><td>6000000</td></tr><tr><td>[139]</td><td>1</td><td>6000000</td></tr><tr><td>[235]</td><td>1</td><td>5200000</td></tr><tr><td>[79]</td><td>1</td><td>5000000</td></tr><tr><td>[168]</td><td>1</td><td>5000000</td></tr><tr><td>[380]</td><td>1</td><td>5000000</td></tr><tr><td>[111]</td><td>1</td><td>4900000</td></tr><tr><td>[300]</td><td>1</td><td>4700000</td></tr><tr><td>[290]</td><td>1</td><td>4600000</td></tr><tr><td>[91]</td><td>1</td><td>4500000</td></tr><tr><td>[353]</td><td>1</td><td>4500000</td></tr><tr><td>[124][318]</td><td>1</td><td>4243434</td></tr><tr><td>[180]</td><td>1</td><td>4200000</td></tr><tr><td>[215]</td><td>1</td><td>4000000</td></tr><tr><td>[13][14]</td><td>1</td><td>4000000</td></tr><tr><td>[267]</td><td>1</td><td>3950000</td></tr><tr><td>[83]</td><td>1</td><td>3900000</td></tr><tr><td>[237]</td><td>1</td><td>3900000</td></tr><tr><td>[313]</td><td>1</td><td>3500000</td></tr><tr><td>[124]</td><td>5</td><td>3442330</td></tr><tr><td>[123]</td><td>1</td><td>3300000</td></tr><tr><td>[117][118]</td><td>3</td><td>3000000</td></tr><tr><td>[112]</td><td>1</td><td>3000000</td></tr><tr><td>[239]</td><td>1</td><td>3000000</td></tr><tr><td>[208]</td><td>1</td><td>3000000</td></tr><tr><td>[212]</td><td>1</td><td>2600000</td></tr><tr><td>[159][160]</td><td>1</td><td>2500000</td></tr><tr><td>[93]</td><td>1</td><td>2500000</td></tr><tr><td>[319][320]</td><td>1</td><td>2434899</td></tr><tr><td>[31]</td><td>1</td><td>2400000</td></tr><tr><td>[275]</td><td>1</td><td>2300000</td></tr><tr><td>[5][6]</td><td>1</td><td>2200000</td></tr><tr><td>[122]</td><td>1</td><td>2000000</td></tr><tr><td>[379]</td><td>1</td><td>2000000</td></tr><tr><td>[352]</td><td>1</td><td>2000000</td></tr><tr><td>[185]</td><td>1</td><td>1900000</td></tr><tr><td>[49]</td><td>1</td><td>1900000</td></tr><tr><td>[355]</td><td>1</td><td>1700000</td></tr><tr><td>[250]</td><td>1</td><td>1648922</td></tr><tr><td>[36][211]</td><td>1</td><td>1600000</td></tr><tr><td>[255]</td><td>1</td><td>1600000</td></tr><tr><td>[249]</td><td>1</td><td>1600000</td></tr><tr><td>[283]</td><td>1</td><td>1500000</td></tr><tr><td>[266]</td><td>1</td><td>1500000</td></tr><tr><td>[375]</td><td>1</td><td>1500000</td></tr><tr><td>[148]</td><td>1</td><td>1500000</td></tr><tr><td>[217]</td><td>1</td><td>1500000</td></tr><tr><td>[297]</td><td>1</td><td>1500000</td></tr><tr><td>[165][166]</td><td>1</td><td>1500000</td></tr><tr><td>[151]</td><td>2</td><td>1421091</td></tr><tr><td>[115]</td><td>1</td><td>1400000</td></tr><tr><td>[200]</td><td>1</td><td>1300000</td></tr><tr><td>[97]</td><td>2</td><td>1300000</td></tr><tr><td>[294]</td><td>1</td><td>1290755</td></tr><tr><td>[381]</td><td>1</td><td>1270000</td></tr><tr><td>[209]</td><td>1</td><td>1250000</td></tr><tr><td>[43]</td><td>1</td><td>1220000</td></tr><tr><td>[46]</td><td>1</td><td>1200000</td></tr><tr><td>[357]</td><td>1</td><td>1164540</td></tr><tr><td>[98][99]</td><td>1</td><td>1107034</td></tr><tr><td>[256][257]</td><td>1</td><td>1100000</td></tr><tr><td>[76]</td><td>1</td><td>1100000</td></tr><tr><td>[124][258]</td><td>1</td><td>1055489</td></tr><tr><td>[59]</td><td>1</td><td>1023209</td></tr><tr><td>[114]</td><td>1</td><td>1000000</td></tr><tr><td>[304]</td><td>1</td><td>1000000</td></tr><tr><td>[36][92]</td><td>1</td><td>1000000</td></tr><tr><td>[316]</td><td>1</td><td>935000</td></tr><tr><td>[377][378]</td><td>1</td><td>900000</td></tr><tr><td>[273]</td><td>1</td><td>880000</td></tr><tr><td>[231]</td><td>1</td><td>860000</td></tr><tr><td>[186]</td><td>1</td><td>808000</td></tr><tr><td>[164]</td><td>1</td><td>800000</td></tr><tr><td>[36][66]</td><td>1</td><td>800000</td></tr><tr><td>[70]</td><td>2</td><td>780000</td></tr><tr><td>[202][203]</td><td>1</td><td>720000</td></tr><tr><td>[288]</td><td>1</td><td>680000</td></tr><tr><td>[110]</td><td>1</td><td>600000</td></tr><tr><td>[259][260]</td><td>1</td><td>573000</td></tr><tr><td>[204][205][206]</td><td>1</td><td>515000</td></tr><tr><td>[210]</td><td>1</td><td>510000</td></tr><tr><td>[298]</td><td>1</td><td>500000</td></tr><tr><td>[184]</td><td>1</td><td>500000</td></tr><tr><td>[103]</td><td>1</td><td>500000</td></tr><tr><td>[169][170][171]</td><td>1</td><td>500000</td></tr><tr><td>[291][292]</td><td>1</td><td>500000</td></tr><tr><td>[61][62][63]</td><td>1</td><td>500000</td></tr><tr><td>[403][404]</td><td>1</td><td>450000</td></tr><tr><td>[161]</td><td>1</td><td>420000</td></tr><tr><td>[124][309]</td><td>1</td><td>400000</td></tr><tr><td>[365]</td><td>1</td><td>392000</td></tr><tr><td>[409]</td><td>1</td><td>391250</td></tr><tr><td>[224]</td><td>1</td><td>380000</td></tr><tr><td>[299]</td><td>1</td><td>377428</td></tr><tr><td>[194][195]</td><td>1</td><td>363000</td></tr><tr><td>[84]</td><td>1</td><td>360083</td></tr><tr><td>[16][17]</td><td>1</td><td>344579</td></tr><tr><td>[23]</td><td>1</td><td>300000</td></tr><tr><td>[361]</td><td>1</td><td>300000</td></tr><tr><td>[197]</td><td>1</td><td>283000</td></tr><tr><td>[33]</td><td>1</td><td>275000</td></tr><tr><td>[329][330]</td><td>1</td><td>260000</td></tr><tr><td>[373]</td><td>1</td><td>260000</td></tr><tr><td>[126]</td><td>1</td><td>251000</td></tr><tr><td>[44]</td><td>1</td><td>250000</td></tr><tr><td>[348]</td><td>1</td><td>250000</td></tr><tr><td>[264]</td><td>1</td><td>240000</td></tr><tr><td>[124][293]</td><td>1</td><td>231400</td></tr><tr><td>[78]</td><td>2</td><td>210000</td></tr><tr><td>[52]</td><td>1</td><td>200000</td></tr><tr><td>[193]</td><td>1</td><td>200000</td></tr><tr><td>[22]</td><td>1</td><td>200000</td></tr><tr><td>[124][127]</td><td>1</td><td>180111</td></tr><tr><td>[289]</td><td>1</td><td>180000</td></tr><tr><td>[8][9]</td><td>1</td><td>175350</td></tr><tr><td>[331][332]</td><td>1</td><td>170000</td></tr><tr><td>[242]</td><td>1</td><td>163792</td></tr><tr><td>[359]</td><td>1</td><td>160000</td></tr><tr><td>[265]</td><td>1</td><td>160000</td></tr><tr><td>[382][383]</td><td>1</td><td>160000</td></tr><tr><td>[86]</td><td>1</td><td>160000</td></tr><tr><td>[25]</td><td>1</td><td>156000</td></tr><tr><td>[85]</td><td>1</td><td>150000</td></tr><tr><td>[124][226]</td><td>1</td><td>130495</td></tr><tr><td>[374]</td><td>1</td><td>130000</td></tr><tr><td>[42]</td><td>1</td><td>125000</td></tr><tr><td>[78][216]</td><td>1</td><td>125000</td></tr><tr><td>[277]</td><td>1</td><td>123857</td></tr><tr><td>[371]</td><td>1</td><td>123461</td></tr><tr><td>[37]</td><td>1</td><td>114000</td></tr><tr><td>[90]</td><td>1</td><td>105470</td></tr><tr><td>[238][124]</td><td>1</td><td>102153</td></tr><tr><td>[78][96]</td><td>1</td><td>100000</td></tr><tr><td>[50]</td><td>1</td><td>100000</td></tr><tr><td>[390]</td><td>1</td><td>98000</td></tr><tr><td>[412]</td><td>1</td><td>95000</td></tr><tr><td>[34]</td><td>1</td><td>91000</td></tr><tr><td>[60]</td><td>1</td><td>90000</td></tr><tr><td>[354]</td><td>1</td><td>84000</td></tr><tr><td>[360]</td><td>1</td><td>80000</td></tr><tr><td>[251]</td><td>1</td><td>76000</td></tr><tr><td>[15]</td><td>1</td><td>75000</td></tr><tr><td>[94]</td><td>1</td><td>75000</td></tr><tr><td>[36][310]</td><td>1</td><td>72000</td></tr><tr><td>[362]</td><td>1</td><td>63000</td></tr><tr><td>[393]</td><td>1</td><td>62000</td></tr><tr><td>[77]</td><td>1</td><td>60000</td></tr><tr><td>[261]</td><td>1</td><td>52000</td></tr><tr><td>[295]</td><td>1</td><td>50500</td></tr><tr><td>[349]</td><td>1</td><td>50000</td></tr><tr><td>[95]</td><td>1</td><td>40000</td></tr><tr><td>[268]</td><td>1</td><td>30000</td></tr><tr><td>[107][108]</td><td>1</td><td>30000</td></tr><tr><td>[173][174][175]</td><td>1</td><td>25000</td></tr><tr><td>[19]</td><td>1</td><td>20000</td></tr><tr><td>[307]</td><td>1</td><td>16000</td></tr><tr><td>[245][246]</td><td>1</td><td>14200</td></tr><tr><td>[325][326][327]</td><td>1</td><td>8800</td></tr><tr><td>[207]</td><td>1</td><td>6700</td></tr><tr><td>[154][155][156]</td><td>1</td><td>null</td></tr><tr><td>[367][368][369][370]</td><td>1</td><td>null</td></tr><tr><td>[130][131]</td><td>1</td><td>null</td></tr><tr><td>[20][21]</td><td>1</td><td>null</td></tr><tr><td>[138]</td><td>1</td><td>null</td></tr><tr><td>[54]</td><td>1</td><td>null</td></tr><tr><td>[253]</td><td>1</td><td>null</td></tr><tr><td>[87][88][89]</td><td>1</td><td>null</td></tr><tr><td>[287]</td><td>1</td><td>null</td></tr><tr><td>[388][389]</td><td>1</td><td>null</td></tr><tr><td>[347]</td><td>1</td><td>null</td></tr><tr><td>[222][223]</td><td>1</td><td>null</td></tr><tr><td>[41]</td><td>1</td><td>null</td></tr><tr><td>[346]</td><td>1</td><td>null</td></tr><tr><td>[232][233]</td><td>1</td><td>null</td></tr><tr><td>[64]</td><td>1</td><td>null</td></tr><tr><td>[65]</td><td>1</td><td>null</td></tr><tr><td>[104][105]</td><td>1</td><td>null</td></tr><tr><td>[198][199]</td><td>1</td><td>null</td></tr><tr><td>[301]</td><td>1</td><td>null</td></tr><tr><td>[311][312]</td><td>1</td><td>null</td></tr><tr><td>[351]</td><td>1</td><td>null</td></tr><tr><td>[102]</td><td>1</td><td>null</td></tr><tr><td>[47][48]</td><td>1</td><td>null</td></tr><tr><td>[38]</td><td>1</td><td>null</td></tr><tr><td>[178][179]</td><td>1</td><td>null</td></tr><tr><td>[391]</td><td>1</td><td>null</td></tr><tr><td>[269]</td><td>1</td><td>null</td></tr><tr><td>[218]</td><td>1</td><td>null</td></tr><tr><td>[305]</td><td>1</td><td>null</td></tr><tr><td>[190][191][192]</td><td>1</td><td>null</td></tr><tr><td>[241]</td><td>1</td><td>null</td></tr><tr><td>[296]</td><td>1</td><td>null</td></tr><tr><td>[343][344]</td><td>1</td><td>null</td></tr><tr><td>[254]</td><td>1</td><td>null</td></tr><tr><td>[187]</td><td>1</td><td>null</td></tr><tr><td>[284][285]</td><td>1</td><td>null</td></tr><tr><td>[40]</td><td>1</td><td>null</td></tr><tr><td>[317]</td><td>1</td><td>null</td></tr><tr><td>[274]</td><td>1</td><td>null</td></tr><tr><td>[119][120]</td><td>1</td><td>null</td></tr><tr><td>[364]</td><td>1</td><td>null</td></tr></tbody></table></div>"
      ]
     },
     "metadata": {
      "application/vnd.databricks.v1+output": {
       "addedWidgets": {},
       "aggData": [],
       "aggError": "",
       "aggOverflow": false,
       "aggSchema": [],
       "aggSeriesLimitReached": false,
       "aggType": "",
       "arguments": {},
       "columnCustomDisplayInfos": {},
       "data": [
        [
         "[395][396]",
         1,
         3000000000
        ],
        [
         "[153]",
         1,
         885000000
        ],
        [
         "[146][147]",
         1,
         540000000
        ],
        [
         "[234]",
         1,
         500000000
        ],
        [
         "[397][398][399][400][401]",
         1,
         500000000
        ],
        [
         "[157][158]",
         1,
         412214295
        ],
        [
         "[134]",
         1,
         340000000
        ],
        [
         "[18]",
         1,
         320000000
        ],
        [
         "[341][342]",
         1,
         299055000
        ],
        [
         "[248]",
         1,
         275000000
        ],
        [
         "[384]",
         1,
         270000000
        ],
        [
         "[149][150]",
         1,
         267000000
        ],
        [
         "[240]",
         1,
         250000000
        ],
        [
         "[201]",
         3,
         246000000
        ],
        [
         "[247]",
         1,
         202000000
        ],
        [
         "[162]",
         1,
         201000000
        ],
        [
         "[408]",
         1,
         200000000
        ],
        [
         "[406][407]",
         1,
         173000000
        ],
        [
         "[128][129]",
         1,
         163119000
        ],
        [
         "[116][7]",
         1,
         162000000
        ],
        [
         "[236]",
         1,
         160000000
        ],
        [
         "[10]",
         1,
         152000000
        ],
        [
         "[358]",
         1,
         150000000
        ],
        [
         "[121]",
         1,
         145000000
        ],
        [
         "[67][68][69]",
         1,
         140000000
        ],
        [
         "[188][189]",
         1,
         130000000
        ],
        [
         "[333]",
         1,
         120000000
        ],
        [
         "[323][324]",
         1,
         110000000
        ],
        [
         "[125]",
         1,
         108000000
        ],
        [
         "[71][72]",
         1,
         106000000
        ],
        [
         "[280]",
         1,
         100000000
        ],
        [
         "[214]",
         1,
         100000000
        ],
        [
         "[281][282]",
         1,
         98167935
        ],
        [
         "[336][337]",
         1,
         94000000
        ],
        [
         "[252]",
         1,
         92283889
        ],
        [
         "[28][29]",
         1,
         92000000
        ],
        [
         "[26][27]",
         1,
         80000000
        ],
        [
         "[306]",
         1,
         77000000
        ],
        [
         "[372]",
         1,
         76000000
        ],
        [
         "[213]",
         1,
         76000000
        ],
        [
         "[113]",
         1,
         68648009
        ],
        [
         "[345]",
         1,
         65469298
        ],
        [
         "[363]",
         1,
         60000000
        ],
        [
         "[350]",
         1,
         57000000
        ],
        [
         "[196]",
         1,
         56000000
        ],
        [
         "[80]",
         1,
         56000000
        ],
        [
         "[132][133]",
         1,
         50000000
        ],
        [
         "[140][141][142][143][144][145]",
         1,
         50000000
        ],
        [
         "[229][230]",
         1,
         50000000
        ],
        [
         "[24]",
         1,
         46000000
        ],
        [
         "[340]",
         1,
         45000000
        ],
        [
         "[386][387]",
         1,
         43430316
        ],
        [
         "[73][74]",
         1,
         40000000
        ],
        [
         "[376]",
         1,
         38000000
        ],
        [
         "[51]",
         1,
         35040000
        ],
        [
         "[314]",
         1,
         35000000
        ],
        [
         "[286]",
         1,
         32000000
        ],
        [
         "[35]",
         1,
         32000000
        ],
        [
         "[385]",
         1,
         30000000
        ],
        [
         "[36]",
         25,
         28842210
        ],
        [
         "[322]",
         1,
         28722877
        ],
        [
         "[181][182][183]",
         1,
         28517244
        ],
        [
         "[335]",
         1,
         28000000
        ],
        [
         "[366]",
         1,
         26500000
        ],
        [
         "[334]",
         1,
         26151608
        ],
        [
         "[356]",
         1,
         25000000
        ],
        [
         "[302][303]",
         1,
         24600000
        ],
        [
         "[405]",
         1,
         24000000
        ],
        [
         "[402]",
         1,
         22000000
        ],
        [
         "[270][271]",
         1,
         21500000
        ],
        [
         "[276]",
         2,
         21457751
        ],
        [
         "[219]",
         1,
         20000000
        ],
        [
         "[321]",
         1,
         20000000
        ],
        [
         "[30]",
         1,
         20000000
        ],
        [
         "[39]",
         1,
         18000000
        ],
        [
         "[338][339]",
         1,
         17000000
        ],
        [
         "[225]",
         1,
         15000000
        ],
        [
         "[136][137]",
         1,
         15000000
        ],
        [
         "[7]",
         1,
         14870304
        ],
        [
         "[57][58]",
         1,
         14000000
        ],
        [
         "[262]",
         1,
         13200000
        ],
        [
         "[45]",
         1,
         12500000
        ],
        [
         "[32]",
         1,
         12367232
        ],
        [
         "[279]",
         1,
         11900000
        ],
        [
         "[176][177]",
         1,
         11100000
        ],
        [
         "[278]",
         1,
         11000000
        ],
        [
         "[135]",
         1,
         10000000
        ],
        [
         "[82]",
         1,
         10000000
        ],
        [
         "[109]",
         1,
         9700000
        ],
        [
         "[75]",
         2,
         9400000
        ],
        [
         "[172]",
         1,
         9000000
        ],
        [
         "[220][221]",
         1,
         8700000
        ],
        [
         "[100]",
         1,
         8637405
        ],
        [
         "[152]",
         1,
         8500000
        ],
        [
         "[263]",
         1,
         8300000
        ],
        [
         "[163]",
         1,
         8000000
        ],
        [
         "[101]",
         1,
         8000000
        ],
        [
         "[227][228]",
         1,
         8000000
        ],
        [
         "[55][56]",
         1,
         7633234
        ],
        [
         "[11][12]",
         1,
         7500000
        ],
        [
         "[167]",
         1,
         7000000
        ],
        [
         "[315]",
         1,
         6800000
        ],
        [
         "[272]",
         1,
         6500000
        ],
        [
         "[410] [411]",
         1,
         6400000
        ],
        [
         "[124][308]",
         1,
         6400000
        ],
        [
         "[328]",
         1,
         6300000
        ],
        [
         "[394]",
         1,
         6054459
        ],
        [
         "[243][244]",
         1,
         6000000
        ],
        [
         "[81]",
         1,
         6000000
        ],
        [
         "[139]",
         1,
         6000000
        ],
        [
         "[235]",
         1,
         5200000
        ],
        [
         "[79]",
         1,
         5000000
        ],
        [
         "[168]",
         1,
         5000000
        ],
        [
         "[380]",
         1,
         5000000
        ],
        [
         "[111]",
         1,
         4900000
        ],
        [
         "[300]",
         1,
         4700000
        ],
        [
         "[290]",
         1,
         4600000
        ],
        [
         "[91]",
         1,
         4500000
        ],
        [
         "[353]",
         1,
         4500000
        ],
        [
         "[124][318]",
         1,
         4243434
        ],
        [
         "[180]",
         1,
         4200000
        ],
        [
         "[215]",
         1,
         4000000
        ],
        [
         "[13][14]",
         1,
         4000000
        ],
        [
         "[267]",
         1,
         3950000
        ],
        [
         "[83]",
         1,
         3900000
        ],
        [
         "[237]",
         1,
         3900000
        ],
        [
         "[313]",
         1,
         3500000
        ],
        [
         "[124]",
         5,
         3442330
        ],
        [
         "[123]",
         1,
         3300000
        ],
        [
         "[117][118]",
         3,
         3000000
        ],
        [
         "[112]",
         1,
         3000000
        ],
        [
         "[239]",
         1,
         3000000
        ],
        [
         "[208]",
         1,
         3000000
        ],
        [
         "[212]",
         1,
         2600000
        ],
        [
         "[159][160]",
         1,
         2500000
        ],
        [
         "[93]",
         1,
         2500000
        ],
        [
         "[319][320]",
         1,
         2434899
        ],
        [
         "[31]",
         1,
         2400000
        ],
        [
         "[275]",
         1,
         2300000
        ],
        [
         "[5][6]",
         1,
         2200000
        ],
        [
         "[122]",
         1,
         2000000
        ],
        [
         "[379]",
         1,
         2000000
        ],
        [
         "[352]",
         1,
         2000000
        ],
        [
         "[185]",
         1,
         1900000
        ],
        [
         "[49]",
         1,
         1900000
        ],
        [
         "[355]",
         1,
         1700000
        ],
        [
         "[250]",
         1,
         1648922
        ],
        [
         "[36][211]",
         1,
         1600000
        ],
        [
         "[255]",
         1,
         1600000
        ],
        [
         "[249]",
         1,
         1600000
        ],
        [
         "[283]",
         1,
         1500000
        ],
        [
         "[266]",
         1,
         1500000
        ],
        [
         "[375]",
         1,
         1500000
        ],
        [
         "[148]",
         1,
         1500000
        ],
        [
         "[217]",
         1,
         1500000
        ],
        [
         "[297]",
         1,
         1500000
        ],
        [
         "[165][166]",
         1,
         1500000
        ],
        [
         "[151]",
         2,
         1421091
        ],
        [
         "[115]",
         1,
         1400000
        ],
        [
         "[200]",
         1,
         1300000
        ],
        [
         "[97]",
         2,
         1300000
        ],
        [
         "[294]",
         1,
         1290755
        ],
        [
         "[381]",
         1,
         1270000
        ],
        [
         "[209]",
         1,
         1250000
        ],
        [
         "[43]",
         1,
         1220000
        ],
        [
         "[46]",
         1,
         1200000
        ],
        [
         "[357]",
         1,
         1164540
        ],
        [
         "[98][99]",
         1,
         1107034
        ],
        [
         "[256][257]",
         1,
         1100000
        ],
        [
         "[76]",
         1,
         1100000
        ],
        [
         "[124][258]",
         1,
         1055489
        ],
        [
         "[59]",
         1,
         1023209
        ],
        [
         "[114]",
         1,
         1000000
        ],
        [
         "[304]",
         1,
         1000000
        ],
        [
         "[36][92]",
         1,
         1000000
        ],
        [
         "[316]",
         1,
         935000
        ],
        [
         "[377][378]",
         1,
         900000
        ],
        [
         "[273]",
         1,
         880000
        ],
        [
         "[231]",
         1,
         860000
        ],
        [
         "[186]",
         1,
         808000
        ],
        [
         "[164]",
         1,
         800000
        ],
        [
         "[36][66]",
         1,
         800000
        ],
        [
         "[70]",
         2,
         780000
        ],
        [
         "[202][203]",
         1,
         720000
        ],
        [
         "[288]",
         1,
         680000
        ],
        [
         "[110]",
         1,
         600000
        ],
        [
         "[259][260]",
         1,
         573000
        ],
        [
         "[204][205][206]",
         1,
         515000
        ],
        [
         "[210]",
         1,
         510000
        ],
        [
         "[298]",
         1,
         500000
        ],
        [
         "[184]",
         1,
         500000
        ],
        [
         "[103]",
         1,
         500000
        ],
        [
         "[169][170][171]",
         1,
         500000
        ],
        [
         "[291][292]",
         1,
         500000
        ],
        [
         "[61][62][63]",
         1,
         500000
        ],
        [
         "[403][404]",
         1,
         450000
        ],
        [
         "[161]",
         1,
         420000
        ],
        [
         "[124][309]",
         1,
         400000
        ],
        [
         "[365]",
         1,
         392000
        ],
        [
         "[409]",
         1,
         391250
        ],
        [
         "[224]",
         1,
         380000
        ],
        [
         "[299]",
         1,
         377428
        ],
        [
         "[194][195]",
         1,
         363000
        ],
        [
         "[84]",
         1,
         360083
        ],
        [
         "[16][17]",
         1,
         344579
        ],
        [
         "[23]",
         1,
         300000
        ],
        [
         "[361]",
         1,
         300000
        ],
        [
         "[197]",
         1,
         283000
        ],
        [
         "[33]",
         1,
         275000
        ],
        [
         "[329][330]",
         1,
         260000
        ],
        [
         "[373]",
         1,
         260000
        ],
        [
         "[126]",
         1,
         251000
        ],
        [
         "[44]",
         1,
         250000
        ],
        [
         "[348]",
         1,
         250000
        ],
        [
         "[264]",
         1,
         240000
        ],
        [
         "[124][293]",
         1,
         231400
        ],
        [
         "[78]",
         2,
         210000
        ],
        [
         "[52]",
         1,
         200000
        ],
        [
         "[193]",
         1,
         200000
        ],
        [
         "[22]",
         1,
         200000
        ],
        [
         "[124][127]",
         1,
         180111
        ],
        [
         "[289]",
         1,
         180000
        ],
        [
         "[8][9]",
         1,
         175350
        ],
        [
         "[331][332]",
         1,
         170000
        ],
        [
         "[242]",
         1,
         163792
        ],
        [
         "[359]",
         1,
         160000
        ],
        [
         "[265]",
         1,
         160000
        ],
        [
         "[382][383]",
         1,
         160000
        ],
        [
         "[86]",
         1,
         160000
        ],
        [
         "[25]",
         1,
         156000
        ],
        [
         "[85]",
         1,
         150000
        ],
        [
         "[124][226]",
         1,
         130495
        ],
        [
         "[374]",
         1,
         130000
        ],
        [
         "[42]",
         1,
         125000
        ],
        [
         "[78][216]",
         1,
         125000
        ],
        [
         "[277]",
         1,
         123857
        ],
        [
         "[371]",
         1,
         123461
        ],
        [
         "[37]",
         1,
         114000
        ],
        [
         "[90]",
         1,
         105470
        ],
        [
         "[238][124]",
         1,
         102153
        ],
        [
         "[78][96]",
         1,
         100000
        ],
        [
         "[50]",
         1,
         100000
        ],
        [
         "[390]",
         1,
         98000
        ],
        [
         "[412]",
         1,
         95000
        ],
        [
         "[34]",
         1,
         91000
        ],
        [
         "[60]",
         1,
         90000
        ],
        [
         "[354]",
         1,
         84000
        ],
        [
         "[360]",
         1,
         80000
        ],
        [
         "[251]",
         1,
         76000
        ],
        [
         "[15]",
         1,
         75000
        ],
        [
         "[94]",
         1,
         75000
        ],
        [
         "[36][310]",
         1,
         72000
        ],
        [
         "[362]",
         1,
         63000
        ],
        [
         "[393]",
         1,
         62000
        ],
        [
         "[77]",
         1,
         60000
        ],
        [
         "[261]",
         1,
         52000
        ],
        [
         "[295]",
         1,
         50500
        ],
        [
         "[349]",
         1,
         50000
        ],
        [
         "[95]",
         1,
         40000
        ],
        [
         "[268]",
         1,
         30000
        ],
        [
         "[107][108]",
         1,
         30000
        ],
        [
         "[173][174][175]",
         1,
         25000
        ],
        [
         "[19]",
         1,
         20000
        ],
        [
         "[307]",
         1,
         16000
        ],
        [
         "[245][246]",
         1,
         14200
        ],
        [
         "[325][326][327]",
         1,
         8800
        ],
        [
         "[207]",
         1,
         6700
        ],
        [
         "[154][155][156]",
         1,
         null
        ],
        [
         "[367][368][369][370]",
         1,
         null
        ],
        [
         "[130][131]",
         1,
         null
        ],
        [
         "[20][21]",
         1,
         null
        ],
        [
         "[138]",
         1,
         null
        ],
        [
         "[54]",
         1,
         null
        ],
        [
         "[253]",
         1,
         null
        ],
        [
         "[87][88][89]",
         1,
         null
        ],
        [
         "[287]",
         1,
         null
        ],
        [
         "[388][389]",
         1,
         null
        ],
        [
         "[347]",
         1,
         null
        ],
        [
         "[222][223]",
         1,
         null
        ],
        [
         "[41]",
         1,
         null
        ],
        [
         "[346]",
         1,
         null
        ],
        [
         "[232][233]",
         1,
         null
        ],
        [
         "[64]",
         1,
         null
        ],
        [
         "[65]",
         1,
         null
        ],
        [
         "[104][105]",
         1,
         null
        ],
        [
         "[198][199]",
         1,
         null
        ],
        [
         "[301]",
         1,
         null
        ],
        [
         "[311][312]",
         1,
         null
        ],
        [
         "[351]",
         1,
         null
        ],
        [
         "[102]",
         1,
         null
        ],
        [
         "[47][48]",
         1,
         null
        ],
        [
         "[38]",
         1,
         null
        ],
        [
         "[178][179]",
         1,
         null
        ],
        [
         "[391]",
         1,
         null
        ],
        [
         "[269]",
         1,
         null
        ],
        [
         "[218]",
         1,
         null
        ],
        [
         "[305]",
         1,
         null
        ],
        [
         "[190][191][192]",
         1,
         null
        ],
        [
         "[241]",
         1,
         null
        ],
        [
         "[296]",
         1,
         null
        ],
        [
         "[343][344]",
         1,
         null
        ],
        [
         "[254]",
         1,
         null
        ],
        [
         "[187]",
         1,
         null
        ],
        [
         "[284][285]",
         1,
         null
        ],
        [
         "[40]",
         1,
         null
        ],
        [
         "[317]",
         1,
         null
        ],
        [
         "[274]",
         1,
         null
        ],
        [
         "[119][120]",
         1,
         null
        ],
        [
         "[364]",
         1,
         null
        ]
       ],
       "datasetInfos": [],
       "dbfsResultPath": null,
       "isJsonSchema": true,
       "metadata": {},
       "overflow": false,
       "plotOptions": {
        "customPlotOptions": {},
        "displayType": "table",
        "pivotAggregation": null,
        "pivotColumns": null,
        "xColumns": null,
        "yColumns": null
       },
       "removedWidgets": [],
       "schema": [
        {
         "metadata": "{}",
         "name": "Source_Details",
         "type": "\"string\""
        },
        {
         "metadata": "{}",
         "name": "ocorrencias",
         "type": "\"long\""
        },
        {
         "metadata": "{}",
         "name": "total_records",
         "type": "\"long\""
        }
       ],
       "type": "table"
      }
     },
     "output_type": "display_data"
    }
   ],
   "source": [
    "%sql\n",
    "-- 9. Quais são as principais fontes de vazamento de dados?\n",
    "SELECT s.Source_Details, COUNT(*) AS ocorrencias, SUM(f.Records) AS total_records\n",
    "FROM fatos_ocorrencias f\n",
    "JOIN dim_fonte s ON f.Source_ID = s.Source_ID\n",
    "GROUP BY s.Source_Details\n",
    "ORDER BY total_records DESC;\n"
   ]
  },
  {
   "cell_type": "code",
   "execution_count": 0,
   "metadata": {
    "application/vnd.databricks.v1+cell": {
     "cellMetadata": {
      "byteLimit": 2048000,
      "implicitDf": true,
      "rowLimit": 10000
     },
     "inputWidgets": {},
     "nuid": "4f5e38f4-53a6-46bf-90a4-7d93bf69e3ba",
     "showTitle": false,
     "tableResultSettingsMap": {},
     "title": ""
    }
   },
   "outputs": [
    {
     "output_type": "display_data",
     "data": {
      "text/html": [
       "<style scoped>\n",
       "  .table-result-container {\n",
       "    max-height: 300px;\n",
       "    overflow: auto;\n",
       "  }\n",
       "  table, th, td {\n",
       "    border: 1px solid black;\n",
       "    border-collapse: collapse;\n",
       "  }\n",
       "  th, td {\n",
       "    padding: 5px;\n",
       "  }\n",
       "  th {\n",
       "    text-align: left;\n",
       "  }\n",
       "</style><div class='table-result-container'><table class='table-result'><thead style='background-color: white'><tr><th>Organization_Type</th><th>Source_Details</th><th>ocorrencias</th><th>total_records</th></tr></thead><tbody><tr><td>Clinical Laboratory</td><td>[279]</td><td>1</td><td>11900000</td></tr><tr><td>Consumer Goods</td><td>[358]</td><td>1</td><td>150000000</td></tr><tr><td>Information Security</td><td>[154][155][156]</td><td>1</td><td>null</td></tr><tr><td>Network Monitoring</td><td>[301]</td><td>1</td><td>null</td></tr><tr><td>QR code payment</td><td>[276]</td><td>1</td><td>20076016</td></tr><tr><td>Question & Answer</td><td>[280]</td><td>1</td><td>100000000</td></tr><tr><td>Telephone directory</td><td>[341][342]</td><td>1</td><td>299055000</td></tr><tr><td>academic</td><td>[36]</td><td>5</td><td>5176000</td></tr><tr><td>academic</td><td>[357]</td><td>1</td><td>1164540</td></tr><tr><td>academic</td><td>[361]</td><td>1</td><td>300000</td></tr><tr><td>academic</td><td>[359]</td><td>1</td><td>160000</td></tr><tr><td>academic</td><td>[78][216]</td><td>1</td><td>125000</td></tr><tr><td>academic</td><td>[360]</td><td>1</td><td>80000</td></tr><tr><td>academic</td><td>[36][310]</td><td>1</td><td>72000</td></tr><tr><td>academic</td><td>[362]</td><td>1</td><td>63000</td></tr><tr><td>academic</td><td>[41]</td><td>1</td><td>null</td></tr><tr><td>advertising</td><td>[15]</td><td>1</td><td>75000</td></tr><tr><td>arts group</td><td>[391]</td><td>1</td><td>null</td></tr><tr><td>background check</td><td>[80]</td><td>1</td><td>56000000</td></tr><tr><td>banking</td><td>[60]</td><td>1</td><td>90000</td></tr><tr><td>consulting, accounting</td><td>[104][105]</td><td>1</td><td>null</td></tr><tr><td>data broker</td><td>[134]</td><td>1</td><td>340000000</td></tr><tr><td>dating</td><td>[38]</td><td>1</td><td>null</td></tr><tr><td>educational services</td><td>[51]</td><td>1</td><td>35040000</td></tr><tr><td>energy</td><td>[176][177]</td><td>1</td><td>11100000</td></tr><tr><td>energy</td><td>[36]</td><td>1</td><td>1800000</td></tr><tr><td>energy</td><td>[200]</td><td>1</td><td>1300000</td></tr><tr><td>energy</td><td>[78]</td><td>1</td><td>110000</td></tr><tr><td>fashion</td><td>[277]</td><td>1</td><td>123857</td></tr><tr><td>financial</td><td>[408]</td><td>1</td><td>200000000</td></tr><tr><td>financial</td><td>[236]</td><td>1</td><td>160000000</td></tr><tr><td>financial</td><td>[188][189]</td><td>1</td><td>130000000</td></tr><tr><td>financial</td><td>[71][72]</td><td>1</td><td>106000000</td></tr><tr><td>financial</td><td>[213]</td><td>1</td><td>76000000</td></tr><tr><td>financial</td><td>[73][74]</td><td>1</td><td>40000000</td></tr><tr><td>financial</td><td>[219]</td><td>1</td><td>20000000</td></tr><tr><td>financial</td><td>[45]</td><td>1</td><td>12500000</td></tr><tr><td>financial</td><td>[109]</td><td>1</td><td>9700000</td></tr><tr><td>financial</td><td>[152]</td><td>1</td><td>8500000</td></tr><tr><td>financial</td><td>[101]</td><td>1</td><td>8000000</td></tr><tr><td>financial</td><td>[167]</td><td>1</td><td>7000000</td></tr><tr><td>financial</td><td>[328]</td><td>1</td><td>6300000</td></tr><tr><td>financial</td><td>[79]</td><td>1</td><td>5000000</td></tr><tr><td>financial</td><td>[290]</td><td>1</td><td>4600000</td></tr><tr><td>financial</td><td>[83]</td><td>1</td><td>3900000</td></tr><tr><td>financial</td><td>[123]</td><td>1</td><td>3300000</td></tr><tr><td>financial</td><td>[36]</td><td>3</td><td>3034000</td></tr><tr><td>financial</td><td>[208]</td><td>1</td><td>3000000</td></tr><tr><td>financial</td><td>[212]</td><td>1</td><td>2600000</td></tr><tr><td>financial</td><td>[93]</td><td>1</td><td>2500000</td></tr><tr><td>financial</td><td>[283]</td><td>1</td><td>1500000</td></tr><tr><td>financial</td><td>[46]</td><td>1</td><td>1200000</td></tr><tr><td>financial</td><td>[36][92]</td><td>1</td><td>1000000</td></tr><tr><td>financial</td><td>[151]</td><td>1</td><td>960000</td></tr><tr><td>financial</td><td>[202][203]</td><td>1</td><td>720000</td></tr><tr><td>financial</td><td>[84]</td><td>1</td><td>360083</td></tr><tr><td>financial</td><td>[329][330]</td><td>1</td><td>260000</td></tr><tr><td>financial</td><td>[22]</td><td>1</td><td>200000</td></tr><tr><td>financial</td><td>[85]</td><td>1</td><td>150000</td></tr><tr><td>financial</td><td>[42]</td><td>1</td><td>125000</td></tr><tr><td>financial</td><td>[390]</td><td>1</td><td>98000</td></tr><tr><td>financial</td><td>[77]</td><td>1</td><td>60000</td></tr><tr><td>financial</td><td>[268]</td><td>1</td><td>30000</td></tr><tr><td>financial</td><td>[253]</td><td>1</td><td>null</td></tr><tr><td>financial</td><td>[130][131]</td><td>1</td><td>null</td></tr><tr><td>financial service company</td><td>[153]</td><td>1</td><td>885000000</td></tr><tr><td>financial, credit reporting</td><td>[128][129]</td><td>1</td><td>163119000</td></tr><tr><td>gambling</td><td>[54]</td><td>1</td><td>null</td></tr><tr><td>game</td><td>[70]</td><td>1</td><td>350000</td></tr><tr><td>gaming</td><td>[306]</td><td>1</td><td>77000000</td></tr><tr><td>gaming</td><td>[24]</td><td>1</td><td>46000000</td></tr><tr><td>gaming</td><td>[302][303]</td><td>1</td><td>24600000</td></tr><tr><td>gaming</td><td>[57][58]</td><td>1</td><td>14000000</td></tr><tr><td>gaming</td><td>[55][56]</td><td>1</td><td>7633234</td></tr><tr><td>gaming</td><td>[266]</td><td>1</td><td>1500000</td></tr><tr><td>gaming</td><td>[294]</td><td>1</td><td>1290755</td></tr><tr><td>gaming</td><td>[264]</td><td>1</td><td>240000</td></tr><tr><td>gaming</td><td>[52]</td><td>1</td><td>200000</td></tr><tr><td>gaming</td><td>[265]</td><td>1</td><td>160000</td></tr><tr><td>gaming</td><td>[351]</td><td>1</td><td>null</td></tr><tr><td>genealogy</td><td>[252]</td><td>1</td><td>92283889</td></tr><tr><td>government</td><td>[363]</td><td>1</td><td>60000000</td></tr><tr><td>government</td><td>[356]</td><td>1</td><td>25000000</td></tr><tr><td>government</td><td>[270][271]</td><td>1</td><td>21500000</td></tr><tr><td>government</td><td>[172]</td><td>1</td><td>9000000</td></tr><tr><td>government</td><td>[272]</td><td>1</td><td>6500000</td></tr><tr><td>government</td><td>[243][244]</td><td>1</td><td>6000000</td></tr><tr><td>government</td><td>[267]</td><td>1</td><td>3950000</td></tr><tr><td>government</td><td>[313]</td><td>1</td><td>3500000</td></tr><tr><td>government</td><td>[112]</td><td>1</td><td>3000000</td></tr><tr><td>government</td><td>[319][320]</td><td>1</td><td>2434899</td></tr><tr><td>government</td><td>[355]</td><td>1</td><td>1700000</td></tr><tr><td>government</td><td>[36][211]</td><td>1</td><td>1600000</td></tr><tr><td>government</td><td>[36][66]</td><td>1</td><td>800000</td></tr><tr><td>government</td><td>[288]</td><td>1</td><td>680000</td></tr><tr><td>government</td><td>[365]</td><td>1</td><td>392000</td></tr><tr><td>government</td><td>[36]</td><td>3</td><td>299000</td></tr><tr><td>government</td><td>[126]</td><td>1</td><td>251000</td></tr><tr><td>government</td><td>[289]</td><td>1</td><td>180000</td></tr><tr><td>government</td><td>[382][383]</td><td>1</td><td>160000</td></tr><tr><td>government</td><td>[371]</td><td>1</td><td>123461</td></tr><tr><td>government</td><td>[78]</td><td>1</td><td>100000</td></tr><tr><td>government</td><td>[354]</td><td>1</td><td>84000</td></tr><tr><td>government</td><td>[295]</td><td>1</td><td>50500</td></tr><tr><td>government</td><td>[107][108]</td><td>1</td><td>30000</td></tr><tr><td>government</td><td>[307]</td><td>1</td><td>16000</td></tr><tr><td>government</td><td>[65]</td><td>1</td><td>null</td></tr><tr><td>government</td><td>[40]</td><td>1</td><td>null</td></tr><tr><td>government, database</td><td>[297]</td><td>1</td><td>1500000</td></tr><tr><td>government, healthcare</td><td>[36]</td><td>2</td><td>9037378</td></tr><tr><td>government, military</td><td>[366]</td><td>1</td><td>26500000</td></tr><tr><td>government, military</td><td>[367][368][369][370]</td><td>1</td><td>null</td></tr><tr><td>health</td><td>[103]</td><td>1</td><td>500000</td></tr><tr><td>healthcare</td><td>[26][27]</td><td>1</td><td>80000000</td></tr><tr><td>healthcare</td><td>[225]</td><td>1</td><td>15000000</td></tr><tr><td>healthcare</td><td>[278]</td><td>1</td><td>11000000</td></tr><tr><td>healthcare</td><td>[135]</td><td>1</td><td>10000000</td></tr><tr><td>healthcare</td><td>[263]</td><td>1</td><td>8300000</td></tr><tr><td>healthcare</td><td>[124][308]</td><td>1</td><td>6400000</td></tr><tr><td>healthcare</td><td>[91]</td><td>1</td><td>4500000</td></tr><tr><td>healthcare</td><td>[353]</td><td>1</td><td>4500000</td></tr><tr><td>healthcare</td><td>[124][318]</td><td>1</td><td>4243434</td></tr><tr><td>healthcare</td><td>[13][14]</td><td>1</td><td>4000000</td></tr><tr><td>healthcare</td><td>[237]</td><td>1</td><td>3900000</td></tr><tr><td>healthcare</td><td>[124]</td><td>5</td><td>3442330</td></tr><tr><td>healthcare</td><td>[5][6]</td><td>1</td><td>2200000</td></tr><tr><td>healthcare</td><td>[185]</td><td>1</td><td>1900000</td></tr><tr><td>healthcare</td><td>[36]</td><td>3</td><td>1631400</td></tr><tr><td>healthcare</td><td>[255]</td><td>1</td><td>1600000</td></tr><tr><td>healthcare</td><td>[43]</td><td>1</td><td>1220000</td></tr><tr><td>healthcare</td><td>[76]</td><td>1</td><td>1100000</td></tr><tr><td>healthcare</td><td>[124][258]</td><td>1</td><td>1055489</td></tr><tr><td>healthcare</td><td>[59]</td><td>1</td><td>1023209</td></tr><tr><td>healthcare</td><td>[186]</td><td>1</td><td>808000</td></tr><tr><td>healthcare</td><td>[184]</td><td>1</td><td>500000</td></tr><tr><td>healthcare</td><td>[124][309]</td><td>1</td><td>400000</td></tr><tr><td>healthcare</td><td>[409]</td><td>1</td><td>391250</td></tr><tr><td>healthcare</td><td>[16][17]</td><td>1</td><td>344579</td></tr><tr><td>healthcare</td><td>[124][293]</td><td>1</td><td>231400</td></tr><tr><td>healthcare</td><td>[124][127]</td><td>1</td><td>180111</td></tr><tr><td>healthcare</td><td>[8][9]</td><td>1</td><td>175350</td></tr><tr><td>healthcare</td><td>[86]</td><td>1</td><td>160000</td></tr><tr><td>healthcare</td><td>[25]</td><td>1</td><td>156000</td></tr><tr><td>healthcare</td><td>[124][226]</td><td>1</td><td>130495</td></tr><tr><td>healthcare</td><td>[374]</td><td>1</td><td>130000</td></tr><tr><td>healthcare</td><td>[90]</td><td>1</td><td>105470</td></tr><tr><td>healthcare</td><td>[238][124]</td><td>1</td><td>102153</td></tr><tr><td>healthcare</td><td>[78][96]</td><td>1</td><td>100000</td></tr><tr><td>healthcare</td><td>[34]</td><td>1</td><td>91000</td></tr><tr><td>healthcare</td><td>[94]</td><td>1</td><td>75000</td></tr><tr><td>healthcare</td><td>[173][174][175]</td><td>1</td><td>25000</td></tr><tr><td>healthcare</td><td>[245][246]</td><td>1</td><td>14200</td></tr><tr><td>healthcare</td><td>[207]</td><td>1</td><td>6700</td></tr><tr><td>healthcare</td><td>[187]</td><td>1</td><td>null</td></tr><tr><td>hosting provider</td><td>[98][99]</td><td>1</td><td>1107034</td></tr><tr><td>hotel</td><td>[234]</td><td>1</td><td>500000000</td></tr><tr><td>hotel</td><td>[235]</td><td>1</td><td>5200000</td></tr><tr><td>hotel</td><td>[194][195]</td><td>1</td><td>363000</td></tr><tr><td>hotel</td><td>[198][199]</td><td>1</td><td>null</td></tr><tr><td>hotel</td><td>[343][344]</td><td>1</td><td>null</td></tr><tr><td>hotel</td><td>[287]</td><td>1</td><td>null</td></tr><tr><td>hotel</td><td>[232][233]</td><td>1</td><td>null</td></tr><tr><td>hotel</td><td>[311][312]</td><td>1</td><td>null</td></tr><tr><td>humanitarian</td><td>[204][205][206]</td><td>1</td><td>515000</td></tr><tr><td>information technology</td><td>[87][88][89]</td><td>1</td><td>null</td></tr><tr><td>local search</td><td>[214]</td><td>1</td><td>100000000</td></tr><tr><td>market analysis</td><td>[333]</td><td>1</td><td>120000000</td></tr><tr><td>media</td><td>[381]</td><td>1</td><td>1270000</td></tr><tr><td>media</td><td>[70]</td><td>1</td><td>430000</td></tr><tr><td>media</td><td>[305]</td><td>1</td><td>null</td></tr><tr><td>messaging app</td><td>[116][7]</td><td>1</td><td>162000000</td></tr><tr><td>military</td><td>[372]</td><td>1</td><td>76000000</td></tr><tr><td>military</td><td>[316]</td><td>1</td><td>935000</td></tr><tr><td>military</td><td>[373]</td><td>1</td><td>260000</td></tr><tr><td>military</td><td>[36]</td><td>3</td><td>253000</td></tr><tr><td>military</td><td>[102]</td><td>1</td><td>null</td></tr><tr><td>military, healthcare</td><td>[36]</td><td>1</td><td>4901432</td></tr><tr><td>mobile carrier</td><td>[377][378]</td><td>1</td><td>900000</td></tr><tr><td>mobile carrier</td><td>[218]</td><td>1</td><td>null</td></tr><tr><td>online marketing</td><td>[376]</td><td>1</td><td>38000000</td></tr><tr><td>online shopping</td><td>[250]</td><td>1</td><td>1648922</td></tr><tr><td>personal and demographic data about residents and their properties of US</td><td>[162]</td><td>1</td><td>201000000</td></tr><tr><td>phone accessories</td><td>[299]</td><td>1</td><td>377428</td></tr><tr><td>publisher (magazine)</td><td>[224]</td><td>1</td><td>380000</td></tr><tr><td>restaurant</td><td>[122]</td><td>1</td><td>2000000</td></tr><tr><td>restaurant</td><td>[388][389]</td><td>1</td><td>null</td></tr><tr><td>restaurant</td><td>[222][223]</td><td>1</td><td>null</td></tr><tr><td>retail</td><td>[323][324]</td><td>1</td><td>110000000</td></tr><tr><td>retail</td><td>[336][337]</td><td>1</td><td>94000000</td></tr><tr><td>retail</td><td>[196]</td><td>1</td><td>56000000</td></tr><tr><td>retail</td><td>[385]</td><td>1</td><td>30000000</td></tr><tr><td>retail</td><td>[181][182][183]</td><td>1</td><td>28517244</td></tr><tr><td>retail</td><td>[321]</td><td>1</td><td>20000000</td></tr><tr><td>retail</td><td>[100]</td><td>1</td><td>8637405</td></tr><tr><td>retail</td><td>[315]</td><td>1</td><td>6800000</td></tr><tr><td>retail</td><td>[380]</td><td>1</td><td>5000000</td></tr><tr><td>retail</td><td>[180]</td><td>1</td><td>4200000</td></tr><tr><td>retail</td><td>[239]</td><td>1</td><td>3000000</td></tr><tr><td>retail</td><td>[115]</td><td>1</td><td>1400000</td></tr><tr><td>retail</td><td>[97]</td><td>2</td><td>1300000</td></tr><tr><td>retail</td><td>[256][257]</td><td>1</td><td>1100000</td></tr><tr><td>retail</td><td>[164]</td><td>1</td><td>800000</td></tr><tr><td>retail</td><td>[151]</td><td>1</td><td>461091</td></tr><tr><td>retail</td><td>[36]</td><td>2</td><td>297000</td></tr><tr><td>retail</td><td>[197]</td><td>1</td><td>283000</td></tr><tr><td>retail</td><td>[44]</td><td>1</td><td>250000</td></tr><tr><td>retail</td><td>[412]</td><td>1</td><td>95000</td></tr><tr><td>retail</td><td>[254]</td><td>1</td><td>null</td></tr><tr><td>retail</td><td>[317]</td><td>1</td><td>null</td></tr><tr><td>retail</td><td>[364]</td><td>1</td><td>null</td></tr><tr><td>retail</td><td>[47][48]</td><td>1</td><td>null</td></tr><tr><td>retail</td><td>[64]</td><td>1</td><td>null</td></tr><tr><td>shopping</td><td>[210]</td><td>1</td><td>510000</td></tr><tr><td>social media</td><td>[201]</td><td>2</td><td>46000000</td></tr><tr><td>social network</td><td>[146][147]</td><td>1</td><td>540000000</td></tr><tr><td>social network</td><td>[149][150]</td><td>1</td><td>267000000</td></tr><tr><td>social network</td><td>[201]</td><td>1</td><td>200000000</td></tr><tr><td>social network</td><td>[406][407]</td><td>1</td><td>173000000</td></tr><tr><td>social network</td><td>[140][141][142][143][144][145]</td><td>1</td><td>50000000</td></tr><tr><td>social network</td><td>[139]</td><td>1</td><td>6000000</td></tr><tr><td>social network</td><td>[148]</td><td>1</td><td>1500000</td></tr><tr><td>social network</td><td>[169][170][171]</td><td>1</td><td>500000</td></tr><tr><td>social networking</td><td>[7]</td><td>1</td><td>14870304</td></tr><tr><td>software</td><td>[241]</td><td>1</td><td>null</td></tr><tr><td>special public corporation</td><td>[209]</td><td>1</td><td>1250000</td></tr><tr><td>tech</td><td>[248]</td><td>1</td><td>275000000</td></tr><tr><td>tech</td><td>[240]</td><td>1</td><td>250000000</td></tr><tr><td>tech</td><td>[247]</td><td>1</td><td>202000000</td></tr><tr><td>tech</td><td>[10]</td><td>1</td><td>152000000</td></tr><tr><td>tech</td><td>[125]</td><td>1</td><td>108000000</td></tr><tr><td>tech</td><td>[11][12]</td><td>1</td><td>7500000</td></tr><tr><td>tech</td><td>[117][118]</td><td>3</td><td>3000000</td></tr><tr><td>tech</td><td>[352]</td><td>1</td><td>2000000</td></tr><tr><td>tech</td><td>[259][260]</td><td>1</td><td>573000</td></tr><tr><td>tech</td><td>[298]</td><td>1</td><td>500000</td></tr><tr><td>tech</td><td>[33]</td><td>1</td><td>275000</td></tr><tr><td>tech</td><td>[349]</td><td>1</td><td>50000</td></tr><tr><td>tech</td><td>[296]</td><td>1</td><td>null</td></tr><tr><td>tech</td><td>[346]</td><td>1</td><td>null</td></tr><tr><td>tech</td><td>[347]</td><td>1</td><td>null</td></tr><tr><td>tech</td><td>[138]</td><td>1</td><td>null</td></tr><tr><td>tech</td><td>[75]</td><td>1</td><td>null</td></tr><tr><td>tech, retail</td><td>[32]</td><td>1</td><td>12367232</td></tr><tr><td>tech, retail</td><td>[193]</td><td>1</td><td>200000</td></tr><tr><td>tech, web</td><td>[402]</td><td>1</td><td>22000000</td></tr><tr><td>telecom</td><td>[340]</td><td>1</td><td>45000000</td></tr><tr><td>telecom</td><td>[269]</td><td>1</td><td>null</td></tr><tr><td>telecommunications</td><td>[18]</td><td>1</td><td>320000000</td></tr><tr><td>telecoms</td><td>[338][339]</td><td>1</td><td>17000000</td></tr><tr><td>telecoms</td><td>[136][137]</td><td>1</td><td>15000000</td></tr><tr><td>telecoms</td><td>[220][221]</td><td>1</td><td>8700000</td></tr><tr><td>telecoms</td><td>[215]</td><td>1</td><td>4000000</td></tr><tr><td>telecoms</td><td>[379]</td><td>1</td><td>2000000</td></tr><tr><td>telecoms</td><td>[49]</td><td>1</td><td>1900000</td></tr><tr><td>telecoms</td><td>[375]</td><td>1</td><td>1500000</td></tr><tr><td>telecoms</td><td>[331][332]</td><td>1</td><td>170000</td></tr><tr><td>telecoms</td><td>[37]</td><td>1</td><td>114000</td></tr><tr><td>telecoms</td><td>[36]</td><td>1</td><td>113000</td></tr><tr><td>telecoms</td><td>[50]</td><td>1</td><td>100000</td></tr><tr><td>telecoms</td><td>[95]</td><td>1</td><td>40000</td></tr><tr><td>ticket distribution</td><td>[334]</td><td>1</td><td>26151608</td></tr><tr><td>transport</td><td>[350]</td><td>1</td><td>57000000</td></tr><tr><td>transport</td><td>[75]</td><td>1</td><td>9400000</td></tr><tr><td>transport</td><td>[61][62][63]</td><td>1</td><td>500000</td></tr><tr><td>transport</td><td>[261]</td><td>1</td><td>52000</td></tr><tr><td>transport</td><td>[19]</td><td>1</td><td>20000</td></tr><tr><td>transport</td><td>[119][120]</td><td>1</td><td>null</td></tr><tr><td>transport</td><td>[190][191][192]</td><td>1</td><td>null</td></tr><tr><td>various</td><td>[410] [411]</td><td>1</td><td>6400000</td></tr><tr><td>web</td><td>[395][396]</td><td>1</td><td>3000000000</td></tr><tr><td>web</td><td>[397][398][399][400][401]</td><td>1</td><td>500000000</td></tr><tr><td>web</td><td>[157][158]</td><td>1</td><td>412214295</td></tr><tr><td>web</td><td>[384]</td><td>1</td><td>270000000</td></tr><tr><td>web</td><td>[121]</td><td>1</td><td>145000000</td></tr><tr><td>web</td><td>[67][68][69]</td><td>1</td><td>140000000</td></tr><tr><td>web</td><td>[281][282]</td><td>1</td><td>98167935</td></tr><tr><td>web</td><td>[28][29]</td><td>1</td><td>92000000</td></tr><tr><td>web</td><td>[113]</td><td>1</td><td>68648009</td></tr><tr><td>web</td><td>[345]</td><td>1</td><td>65469298</td></tr><tr><td>web</td><td>[132][133]</td><td>1</td><td>50000000</td></tr><tr><td>web</td><td>[229][230]</td><td>1</td><td>50000000</td></tr><tr><td>web</td><td>[386][387]</td><td>1</td><td>43430316</td></tr><tr><td>web</td><td>[314]</td><td>1</td><td>35000000</td></tr><tr><td>web</td><td>[35]</td><td>1</td><td>32000000</td></tr><tr><td>web</td><td>[322]</td><td>1</td><td>28722877</td></tr><tr><td>web</td><td>[335]</td><td>1</td><td>28000000</td></tr><tr><td>web</td><td>[405]</td><td>1</td><td>24000000</td></tr><tr><td>web</td><td>[30]</td><td>1</td><td>20000000</td></tr><tr><td>web</td><td>[39]</td><td>1</td><td>18000000</td></tr><tr><td>web</td><td>[262]</td><td>1</td><td>13200000</td></tr><tr><td>web</td><td>[82]</td><td>1</td><td>10000000</td></tr><tr><td>web</td><td>[163]</td><td>1</td><td>8000000</td></tr><tr><td>web</td><td>[227][228]</td><td>1</td><td>8000000</td></tr><tr><td>web</td><td>[394]</td><td>1</td><td>6054459</td></tr><tr><td>web</td><td>[81]</td><td>1</td><td>6000000</td></tr><tr><td>web</td><td>[168]</td><td>1</td><td>5000000</td></tr><tr><td>web</td><td>[111]</td><td>1</td><td>4900000</td></tr><tr><td>web</td><td>[159][160]</td><td>1</td><td>2500000</td></tr><tr><td>web</td><td>[31]</td><td>1</td><td>2400000</td></tr><tr><td>web</td><td>[275]</td><td>1</td><td>2300000</td></tr><tr><td>web</td><td>[36]</td><td>1</td><td>2300000</td></tr><tr><td>web</td><td>[249]</td><td>1</td><td>1600000</td></tr><tr><td>web</td><td>[165][166]</td><td>1</td><td>1500000</td></tr><tr><td>web</td><td>[217]</td><td>1</td><td>1500000</td></tr><tr><td>web</td><td>[276]</td><td>1</td><td>1381735</td></tr><tr><td>web</td><td>[304]</td><td>1</td><td>1000000</td></tr><tr><td>web</td><td>[114]</td><td>1</td><td>1000000</td></tr><tr><td>web</td><td>[273]</td><td>1</td><td>880000</td></tr><tr><td>web</td><td>[231]</td><td>1</td><td>860000</td></tr><tr><td>web</td><td>[110]</td><td>1</td><td>600000</td></tr><tr><td>web</td><td>[291][292]</td><td>1</td><td>500000</td></tr><tr><td>web</td><td>[403][404]</td><td>1</td><td>450000</td></tr><tr><td>web</td><td>[161]</td><td>1</td><td>420000</td></tr><tr><td>web</td><td>[23]</td><td>1</td><td>300000</td></tr><tr><td>web</td><td>[348]</td><td>1</td><td>250000</td></tr><tr><td>web</td><td>[251]</td><td>1</td><td>76000</td></tr><tr><td>web</td><td>[393]</td><td>1</td><td>62000</td></tr><tr><td>web</td><td>[325][326][327]</td><td>1</td><td>8800</td></tr><tr><td>web</td><td>[274]</td><td>1</td><td>null</td></tr><tr><td>web</td><td>[178][179]</td><td>1</td><td>null</td></tr><tr><td>web</td><td>[20][21]</td><td>1</td><td>null</td></tr><tr><td>web</td><td>[284][285]</td><td>1</td><td>null</td></tr><tr><td>web, gaming</td><td>[286]</td><td>1</td><td>32000000</td></tr><tr><td>web, military</td><td>[242]</td><td>1</td><td>163792</td></tr><tr><td>web, tech</td><td>[300]</td><td>1</td><td>4700000</td></tr></tbody></table></div>"
      ]
     },
     "metadata": {
      "application/vnd.databricks.v1+output": {
       "addedWidgets": {},
       "aggData": [],
       "aggError": "",
       "aggOverflow": false,
       "aggSchema": [],
       "aggSeriesLimitReached": false,
       "aggType": "",
       "arguments": {},
       "columnCustomDisplayInfos": {},
       "data": [
        [
         "Clinical Laboratory",
         "[279]",
         1,
         11900000
        ],
        [
         "Consumer Goods",
         "[358]",
         1,
         150000000
        ],
        [
         "Information Security",
         "[154][155][156]",
         1,
         null
        ],
        [
         "Network Monitoring",
         "[301]",
         1,
         null
        ],
        [
         "QR code payment",
         "[276]",
         1,
         20076016
        ],
        [
         "Question & Answer",
         "[280]",
         1,
         100000000
        ],
        [
         "Telephone directory",
         "[341][342]",
         1,
         299055000
        ],
        [
         "academic",
         "[36]",
         5,
         5176000
        ],
        [
         "academic",
         "[357]",
         1,
         1164540
        ],
        [
         "academic",
         "[361]",
         1,
         300000
        ],
        [
         "academic",
         "[359]",
         1,
         160000
        ],
        [
         "academic",
         "[78][216]",
         1,
         125000
        ],
        [
         "academic",
         "[360]",
         1,
         80000
        ],
        [
         "academic",
         "[36][310]",
         1,
         72000
        ],
        [
         "academic",
         "[362]",
         1,
         63000
        ],
        [
         "academic",
         "[41]",
         1,
         null
        ],
        [
         "advertising",
         "[15]",
         1,
         75000
        ],
        [
         "arts group",
         "[391]",
         1,
         null
        ],
        [
         "background check",
         "[80]",
         1,
         56000000
        ],
        [
         "banking",
         "[60]",
         1,
         90000
        ],
        [
         "consulting, accounting",
         "[104][105]",
         1,
         null
        ],
        [
         "data broker",
         "[134]",
         1,
         340000000
        ],
        [
         "dating",
         "[38]",
         1,
         null
        ],
        [
         "educational services",
         "[51]",
         1,
         35040000
        ],
        [
         "energy",
         "[176][177]",
         1,
         11100000
        ],
        [
         "energy",
         "[36]",
         1,
         1800000
        ],
        [
         "energy",
         "[200]",
         1,
         1300000
        ],
        [
         "energy",
         "[78]",
         1,
         110000
        ],
        [
         "fashion",
         "[277]",
         1,
         123857
        ],
        [
         "financial",
         "[408]",
         1,
         200000000
        ],
        [
         "financial",
         "[236]",
         1,
         160000000
        ],
        [
         "financial",
         "[188][189]",
         1,
         130000000
        ],
        [
         "financial",
         "[71][72]",
         1,
         106000000
        ],
        [
         "financial",
         "[213]",
         1,
         76000000
        ],
        [
         "financial",
         "[73][74]",
         1,
         40000000
        ],
        [
         "financial",
         "[219]",
         1,
         20000000
        ],
        [
         "financial",
         "[45]",
         1,
         12500000
        ],
        [
         "financial",
         "[109]",
         1,
         9700000
        ],
        [
         "financial",
         "[152]",
         1,
         8500000
        ],
        [
         "financial",
         "[101]",
         1,
         8000000
        ],
        [
         "financial",
         "[167]",
         1,
         7000000
        ],
        [
         "financial",
         "[328]",
         1,
         6300000
        ],
        [
         "financial",
         "[79]",
         1,
         5000000
        ],
        [
         "financial",
         "[290]",
         1,
         4600000
        ],
        [
         "financial",
         "[83]",
         1,
         3900000
        ],
        [
         "financial",
         "[123]",
         1,
         3300000
        ],
        [
         "financial",
         "[36]",
         3,
         3034000
        ],
        [
         "financial",
         "[208]",
         1,
         3000000
        ],
        [
         "financial",
         "[212]",
         1,
         2600000
        ],
        [
         "financial",
         "[93]",
         1,
         2500000
        ],
        [
         "financial",
         "[283]",
         1,
         1500000
        ],
        [
         "financial",
         "[46]",
         1,
         1200000
        ],
        [
         "financial",
         "[36][92]",
         1,
         1000000
        ],
        [
         "financial",
         "[151]",
         1,
         960000
        ],
        [
         "financial",
         "[202][203]",
         1,
         720000
        ],
        [
         "financial",
         "[84]",
         1,
         360083
        ],
        [
         "financial",
         "[329][330]",
         1,
         260000
        ],
        [
         "financial",
         "[22]",
         1,
         200000
        ],
        [
         "financial",
         "[85]",
         1,
         150000
        ],
        [
         "financial",
         "[42]",
         1,
         125000
        ],
        [
         "financial",
         "[390]",
         1,
         98000
        ],
        [
         "financial",
         "[77]",
         1,
         60000
        ],
        [
         "financial",
         "[268]",
         1,
         30000
        ],
        [
         "financial",
         "[253]",
         1,
         null
        ],
        [
         "financial",
         "[130][131]",
         1,
         null
        ],
        [
         "financial service company",
         "[153]",
         1,
         885000000
        ],
        [
         "financial, credit reporting",
         "[128][129]",
         1,
         163119000
        ],
        [
         "gambling",
         "[54]",
         1,
         null
        ],
        [
         "game",
         "[70]",
         1,
         350000
        ],
        [
         "gaming",
         "[306]",
         1,
         77000000
        ],
        [
         "gaming",
         "[24]",
         1,
         46000000
        ],
        [
         "gaming",
         "[302][303]",
         1,
         24600000
        ],
        [
         "gaming",
         "[57][58]",
         1,
         14000000
        ],
        [
         "gaming",
         "[55][56]",
         1,
         7633234
        ],
        [
         "gaming",
         "[266]",
         1,
         1500000
        ],
        [
         "gaming",
         "[294]",
         1,
         1290755
        ],
        [
         "gaming",
         "[264]",
         1,
         240000
        ],
        [
         "gaming",
         "[52]",
         1,
         200000
        ],
        [
         "gaming",
         "[265]",
         1,
         160000
        ],
        [
         "gaming",
         "[351]",
         1,
         null
        ],
        [
         "genealogy",
         "[252]",
         1,
         92283889
        ],
        [
         "government",
         "[363]",
         1,
         60000000
        ],
        [
         "government",
         "[356]",
         1,
         25000000
        ],
        [
         "government",
         "[270][271]",
         1,
         21500000
        ],
        [
         "government",
         "[172]",
         1,
         9000000
        ],
        [
         "government",
         "[272]",
         1,
         6500000
        ],
        [
         "government",
         "[243][244]",
         1,
         6000000
        ],
        [
         "government",
         "[267]",
         1,
         3950000
        ],
        [
         "government",
         "[313]",
         1,
         3500000
        ],
        [
         "government",
         "[112]",
         1,
         3000000
        ],
        [
         "government",
         "[319][320]",
         1,
         2434899
        ],
        [
         "government",
         "[355]",
         1,
         1700000
        ],
        [
         "government",
         "[36][211]",
         1,
         1600000
        ],
        [
         "government",
         "[36][66]",
         1,
         800000
        ],
        [
         "government",
         "[288]",
         1,
         680000
        ],
        [
         "government",
         "[365]",
         1,
         392000
        ],
        [
         "government",
         "[36]",
         3,
         299000
        ],
        [
         "government",
         "[126]",
         1,
         251000
        ],
        [
         "government",
         "[289]",
         1,
         180000
        ],
        [
         "government",
         "[382][383]",
         1,
         160000
        ],
        [
         "government",
         "[371]",
         1,
         123461
        ],
        [
         "government",
         "[78]",
         1,
         100000
        ],
        [
         "government",
         "[354]",
         1,
         84000
        ],
        [
         "government",
         "[295]",
         1,
         50500
        ],
        [
         "government",
         "[107][108]",
         1,
         30000
        ],
        [
         "government",
         "[307]",
         1,
         16000
        ],
        [
         "government",
         "[65]",
         1,
         null
        ],
        [
         "government",
         "[40]",
         1,
         null
        ],
        [
         "government, database",
         "[297]",
         1,
         1500000
        ],
        [
         "government, healthcare",
         "[36]",
         2,
         9037378
        ],
        [
         "government, military",
         "[366]",
         1,
         26500000
        ],
        [
         "government, military",
         "[367][368][369][370]",
         1,
         null
        ],
        [
         "health",
         "[103]",
         1,
         500000
        ],
        [
         "healthcare",
         "[26][27]",
         1,
         80000000
        ],
        [
         "healthcare",
         "[225]",
         1,
         15000000
        ],
        [
         "healthcare",
         "[278]",
         1,
         11000000
        ],
        [
         "healthcare",
         "[135]",
         1,
         10000000
        ],
        [
         "healthcare",
         "[263]",
         1,
         8300000
        ],
        [
         "healthcare",
         "[124][308]",
         1,
         6400000
        ],
        [
         "healthcare",
         "[91]",
         1,
         4500000
        ],
        [
         "healthcare",
         "[353]",
         1,
         4500000
        ],
        [
         "healthcare",
         "[124][318]",
         1,
         4243434
        ],
        [
         "healthcare",
         "[13][14]",
         1,
         4000000
        ],
        [
         "healthcare",
         "[237]",
         1,
         3900000
        ],
        [
         "healthcare",
         "[124]",
         5,
         3442330
        ],
        [
         "healthcare",
         "[5][6]",
         1,
         2200000
        ],
        [
         "healthcare",
         "[185]",
         1,
         1900000
        ],
        [
         "healthcare",
         "[36]",
         3,
         1631400
        ],
        [
         "healthcare",
         "[255]",
         1,
         1600000
        ],
        [
         "healthcare",
         "[43]",
         1,
         1220000
        ],
        [
         "healthcare",
         "[76]",
         1,
         1100000
        ],
        [
         "healthcare",
         "[124][258]",
         1,
         1055489
        ],
        [
         "healthcare",
         "[59]",
         1,
         1023209
        ],
        [
         "healthcare",
         "[186]",
         1,
         808000
        ],
        [
         "healthcare",
         "[184]",
         1,
         500000
        ],
        [
         "healthcare",
         "[124][309]",
         1,
         400000
        ],
        [
         "healthcare",
         "[409]",
         1,
         391250
        ],
        [
         "healthcare",
         "[16][17]",
         1,
         344579
        ],
        [
         "healthcare",
         "[124][293]",
         1,
         231400
        ],
        [
         "healthcare",
         "[124][127]",
         1,
         180111
        ],
        [
         "healthcare",
         "[8][9]",
         1,
         175350
        ],
        [
         "healthcare",
         "[86]",
         1,
         160000
        ],
        [
         "healthcare",
         "[25]",
         1,
         156000
        ],
        [
         "healthcare",
         "[124][226]",
         1,
         130495
        ],
        [
         "healthcare",
         "[374]",
         1,
         130000
        ],
        [
         "healthcare",
         "[90]",
         1,
         105470
        ],
        [
         "healthcare",
         "[238][124]",
         1,
         102153
        ],
        [
         "healthcare",
         "[78][96]",
         1,
         100000
        ],
        [
         "healthcare",
         "[34]",
         1,
         91000
        ],
        [
         "healthcare",
         "[94]",
         1,
         75000
        ],
        [
         "healthcare",
         "[173][174][175]",
         1,
         25000
        ],
        [
         "healthcare",
         "[245][246]",
         1,
         14200
        ],
        [
         "healthcare",
         "[207]",
         1,
         6700
        ],
        [
         "healthcare",
         "[187]",
         1,
         null
        ],
        [
         "hosting provider",
         "[98][99]",
         1,
         1107034
        ],
        [
         "hotel",
         "[234]",
         1,
         500000000
        ],
        [
         "hotel",
         "[235]",
         1,
         5200000
        ],
        [
         "hotel",
         "[194][195]",
         1,
         363000
        ],
        [
         "hotel",
         "[198][199]",
         1,
         null
        ],
        [
         "hotel",
         "[343][344]",
         1,
         null
        ],
        [
         "hotel",
         "[287]",
         1,
         null
        ],
        [
         "hotel",
         "[232][233]",
         1,
         null
        ],
        [
         "hotel",
         "[311][312]",
         1,
         null
        ],
        [
         "humanitarian",
         "[204][205][206]",
         1,
         515000
        ],
        [
         "information technology",
         "[87][88][89]",
         1,
         null
        ],
        [
         "local search",
         "[214]",
         1,
         100000000
        ],
        [
         "market analysis",
         "[333]",
         1,
         120000000
        ],
        [
         "media",
         "[381]",
         1,
         1270000
        ],
        [
         "media",
         "[70]",
         1,
         430000
        ],
        [
         "media",
         "[305]",
         1,
         null
        ],
        [
         "messaging app",
         "[116][7]",
         1,
         162000000
        ],
        [
         "military",
         "[372]",
         1,
         76000000
        ],
        [
         "military",
         "[316]",
         1,
         935000
        ],
        [
         "military",
         "[373]",
         1,
         260000
        ],
        [
         "military",
         "[36]",
         3,
         253000
        ],
        [
         "military",
         "[102]",
         1,
         null
        ],
        [
         "military, healthcare",
         "[36]",
         1,
         4901432
        ],
        [
         "mobile carrier",
         "[377][378]",
         1,
         900000
        ],
        [
         "mobile carrier",
         "[218]",
         1,
         null
        ],
        [
         "online marketing",
         "[376]",
         1,
         38000000
        ],
        [
         "online shopping",
         "[250]",
         1,
         1648922
        ],
        [
         "personal and demographic data about residents and their properties of US",
         "[162]",
         1,
         201000000
        ],
        [
         "phone accessories",
         "[299]",
         1,
         377428
        ],
        [
         "publisher (magazine)",
         "[224]",
         1,
         380000
        ],
        [
         "restaurant",
         "[122]",
         1,
         2000000
        ],
        [
         "restaurant",
         "[388][389]",
         1,
         null
        ],
        [
         "restaurant",
         "[222][223]",
         1,
         null
        ],
        [
         "retail",
         "[323][324]",
         1,
         110000000
        ],
        [
         "retail",
         "[336][337]",
         1,
         94000000
        ],
        [
         "retail",
         "[196]",
         1,
         56000000
        ],
        [
         "retail",
         "[385]",
         1,
         30000000
        ],
        [
         "retail",
         "[181][182][183]",
         1,
         28517244
        ],
        [
         "retail",
         "[321]",
         1,
         20000000
        ],
        [
         "retail",
         "[100]",
         1,
         8637405
        ],
        [
         "retail",
         "[315]",
         1,
         6800000
        ],
        [
         "retail",
         "[380]",
         1,
         5000000
        ],
        [
         "retail",
         "[180]",
         1,
         4200000
        ],
        [
         "retail",
         "[239]",
         1,
         3000000
        ],
        [
         "retail",
         "[115]",
         1,
         1400000
        ],
        [
         "retail",
         "[97]",
         2,
         1300000
        ],
        [
         "retail",
         "[256][257]",
         1,
         1100000
        ],
        [
         "retail",
         "[164]",
         1,
         800000
        ],
        [
         "retail",
         "[151]",
         1,
         461091
        ],
        [
         "retail",
         "[36]",
         2,
         297000
        ],
        [
         "retail",
         "[197]",
         1,
         283000
        ],
        [
         "retail",
         "[44]",
         1,
         250000
        ],
        [
         "retail",
         "[412]",
         1,
         95000
        ],
        [
         "retail",
         "[254]",
         1,
         null
        ],
        [
         "retail",
         "[317]",
         1,
         null
        ],
        [
         "retail",
         "[364]",
         1,
         null
        ],
        [
         "retail",
         "[47][48]",
         1,
         null
        ],
        [
         "retail",
         "[64]",
         1,
         null
        ],
        [
         "shopping",
         "[210]",
         1,
         510000
        ],
        [
         "social media",
         "[201]",
         2,
         46000000
        ],
        [
         "social network",
         "[146][147]",
         1,
         540000000
        ],
        [
         "social network",
         "[149][150]",
         1,
         267000000
        ],
        [
         "social network",
         "[201]",
         1,
         200000000
        ],
        [
         "social network",
         "[406][407]",
         1,
         173000000
        ],
        [
         "social network",
         "[140][141][142][143][144][145]",
         1,
         50000000
        ],
        [
         "social network",
         "[139]",
         1,
         6000000
        ],
        [
         "social network",
         "[148]",
         1,
         1500000
        ],
        [
         "social network",
         "[169][170][171]",
         1,
         500000
        ],
        [
         "social networking",
         "[7]",
         1,
         14870304
        ],
        [
         "software",
         "[241]",
         1,
         null
        ],
        [
         "special public corporation",
         "[209]",
         1,
         1250000
        ],
        [
         "tech",
         "[248]",
         1,
         275000000
        ],
        [
         "tech",
         "[240]",
         1,
         250000000
        ],
        [
         "tech",
         "[247]",
         1,
         202000000
        ],
        [
         "tech",
         "[10]",
         1,
         152000000
        ],
        [
         "tech",
         "[125]",
         1,
         108000000
        ],
        [
         "tech",
         "[11][12]",
         1,
         7500000
        ],
        [
         "tech",
         "[117][118]",
         3,
         3000000
        ],
        [
         "tech",
         "[352]",
         1,
         2000000
        ],
        [
         "tech",
         "[259][260]",
         1,
         573000
        ],
        [
         "tech",
         "[298]",
         1,
         500000
        ],
        [
         "tech",
         "[33]",
         1,
         275000
        ],
        [
         "tech",
         "[349]",
         1,
         50000
        ],
        [
         "tech",
         "[296]",
         1,
         null
        ],
        [
         "tech",
         "[346]",
         1,
         null
        ],
        [
         "tech",
         "[347]",
         1,
         null
        ],
        [
         "tech",
         "[138]",
         1,
         null
        ],
        [
         "tech",
         "[75]",
         1,
         null
        ],
        [
         "tech, retail",
         "[32]",
         1,
         12367232
        ],
        [
         "tech, retail",
         "[193]",
         1,
         200000
        ],
        [
         "tech, web",
         "[402]",
         1,
         22000000
        ],
        [
         "telecom",
         "[340]",
         1,
         45000000
        ],
        [
         "telecom",
         "[269]",
         1,
         null
        ],
        [
         "telecommunications",
         "[18]",
         1,
         320000000
        ],
        [
         "telecoms",
         "[338][339]",
         1,
         17000000
        ],
        [
         "telecoms",
         "[136][137]",
         1,
         15000000
        ],
        [
         "telecoms",
         "[220][221]",
         1,
         8700000
        ],
        [
         "telecoms",
         "[215]",
         1,
         4000000
        ],
        [
         "telecoms",
         "[379]",
         1,
         2000000
        ],
        [
         "telecoms",
         "[49]",
         1,
         1900000
        ],
        [
         "telecoms",
         "[375]",
         1,
         1500000
        ],
        [
         "telecoms",
         "[331][332]",
         1,
         170000
        ],
        [
         "telecoms",
         "[37]",
         1,
         114000
        ],
        [
         "telecoms",
         "[36]",
         1,
         113000
        ],
        [
         "telecoms",
         "[50]",
         1,
         100000
        ],
        [
         "telecoms",
         "[95]",
         1,
         40000
        ],
        [
         "ticket distribution",
         "[334]",
         1,
         26151608
        ],
        [
         "transport",
         "[350]",
         1,
         57000000
        ],
        [
         "transport",
         "[75]",
         1,
         9400000
        ],
        [
         "transport",
         "[61][62][63]",
         1,
         500000
        ],
        [
         "transport",
         "[261]",
         1,
         52000
        ],
        [
         "transport",
         "[19]",
         1,
         20000
        ],
        [
         "transport",
         "[119][120]",
         1,
         null
        ],
        [
         "transport",
         "[190][191][192]",
         1,
         null
        ],
        [
         "various",
         "[410] [411]",
         1,
         6400000
        ],
        [
         "web",
         "[395][396]",
         1,
         3000000000
        ],
        [
         "web",
         "[397][398][399][400][401]",
         1,
         500000000
        ],
        [
         "web",
         "[157][158]",
         1,
         412214295
        ],
        [
         "web",
         "[384]",
         1,
         270000000
        ],
        [
         "web",
         "[121]",
         1,
         145000000
        ],
        [
         "web",
         "[67][68][69]",
         1,
         140000000
        ],
        [
         "web",
         "[281][282]",
         1,
         98167935
        ],
        [
         "web",
         "[28][29]",
         1,
         92000000
        ],
        [
         "web",
         "[113]",
         1,
         68648009
        ],
        [
         "web",
         "[345]",
         1,
         65469298
        ],
        [
         "web",
         "[132][133]",
         1,
         50000000
        ],
        [
         "web",
         "[229][230]",
         1,
         50000000
        ],
        [
         "web",
         "[386][387]",
         1,
         43430316
        ],
        [
         "web",
         "[314]",
         1,
         35000000
        ],
        [
         "web",
         "[35]",
         1,
         32000000
        ],
        [
         "web",
         "[322]",
         1,
         28722877
        ],
        [
         "web",
         "[335]",
         1,
         28000000
        ],
        [
         "web",
         "[405]",
         1,
         24000000
        ],
        [
         "web",
         "[30]",
         1,
         20000000
        ],
        [
         "web",
         "[39]",
         1,
         18000000
        ],
        [
         "web",
         "[262]",
         1,
         13200000
        ],
        [
         "web",
         "[82]",
         1,
         10000000
        ],
        [
         "web",
         "[163]",
         1,
         8000000
        ],
        [
         "web",
         "[227][228]",
         1,
         8000000
        ],
        [
         "web",
         "[394]",
         1,
         6054459
        ],
        [
         "web",
         "[81]",
         1,
         6000000
        ],
        [
         "web",
         "[168]",
         1,
         5000000
        ],
        [
         "web",
         "[111]",
         1,
         4900000
        ],
        [
         "web",
         "[159][160]",
         1,
         2500000
        ],
        [
         "web",
         "[31]",
         1,
         2400000
        ],
        [
         "web",
         "[275]",
         1,
         2300000
        ],
        [
         "web",
         "[36]",
         1,
         2300000
        ],
        [
         "web",
         "[249]",
         1,
         1600000
        ],
        [
         "web",
         "[165][166]",
         1,
         1500000
        ],
        [
         "web",
         "[217]",
         1,
         1500000
        ],
        [
         "web",
         "[276]",
         1,
         1381735
        ],
        [
         "web",
         "[304]",
         1,
         1000000
        ],
        [
         "web",
         "[114]",
         1,
         1000000
        ],
        [
         "web",
         "[273]",
         1,
         880000
        ],
        [
         "web",
         "[231]",
         1,
         860000
        ],
        [
         "web",
         "[110]",
         1,
         600000
        ],
        [
         "web",
         "[291][292]",
         1,
         500000
        ],
        [
         "web",
         "[403][404]",
         1,
         450000
        ],
        [
         "web",
         "[161]",
         1,
         420000
        ],
        [
         "web",
         "[23]",
         1,
         300000
        ],
        [
         "web",
         "[348]",
         1,
         250000
        ],
        [
         "web",
         "[251]",
         1,
         76000
        ],
        [
         "web",
         "[393]",
         1,
         62000
        ],
        [
         "web",
         "[325][326][327]",
         1,
         8800
        ],
        [
         "web",
         "[274]",
         1,
         null
        ],
        [
         "web",
         "[178][179]",
         1,
         null
        ],
        [
         "web",
         "[20][21]",
         1,
         null
        ],
        [
         "web",
         "[284][285]",
         1,
         null
        ],
        [
         "web, gaming",
         "[286]",
         1,
         32000000
        ],
        [
         "web, military",
         "[242]",
         1,
         163792
        ],
        [
         "web, tech",
         "[300]",
         1,
         4700000
        ]
       ],
       "datasetInfos": [],
       "dbfsResultPath": null,
       "isJsonSchema": true,
       "metadata": {},
       "overflow": false,
       "plotOptions": {
        "customPlotOptions": {},
        "displayType": "table",
        "pivotAggregation": null,
        "pivotColumns": null,
        "xColumns": null,
        "yColumns": null
       },
       "removedWidgets": [],
       "schema": [
        {
         "metadata": "{}",
         "name": "Organization_Type",
         "type": "\"string\""
        },
        {
         "metadata": "{}",
         "name": "Source_Details",
         "type": "\"string\""
        },
        {
         "metadata": "{}",
         "name": "ocorrencias",
         "type": "\"long\""
        },
        {
         "metadata": "{}",
         "name": "total_records",
         "type": "\"long\""
        }
       ],
       "type": "table"
      }
     },
     "output_type": "display_data"
    }
   ],
   "source": [
    "%sql\n",
    "-- 10. Fontes de vazamento mais relevantes por setor\n",
    "SELECT o.Organization_Type, s.Source_Details, COUNT(*) AS ocorrencias, SUM(f.Records) AS total_records\n",
    "FROM fatos_ocorrencias f\n",
    "JOIN dim_organizacao o ON f.Organization_ID = o.Organization_ID\n",
    "JOIN dim_fonte s ON f.Source_ID = s.Source_ID\n",
    "GROUP BY o.Organization_Type, s.Source_Details\n",
    "ORDER BY o.Organization_Type, total_records DESC;\n"
   ]
  },
  {
   "cell_type": "code",
   "execution_count": 0,
   "metadata": {
    "application/vnd.databricks.v1+cell": {
     "cellMetadata": {
      "byteLimit": 2048000,
      "implicitDf": true,
      "rowLimit": 10000
     },
     "inputWidgets": {},
     "nuid": "1ab11bdc-7b30-43bd-95f6-3b1619206325",
     "showTitle": false,
     "tableResultSettingsMap": {},
     "title": ""
    }
   },
   "outputs": [
    {
     "output_type": "display_data",
     "data": {
      "text/html": [
       "<style scoped>\n",
       "  .table-result-container {\n",
       "    max-height: 300px;\n",
       "    overflow: auto;\n",
       "  }\n",
       "  table, th, td {\n",
       "    border: 1px solid black;\n",
       "    border-collapse: collapse;\n",
       "  }\n",
       "  th, td {\n",
       "    padding: 5px;\n",
       "  }\n",
       "  th {\n",
       "    text-align: left;\n",
       "  }\n",
       "</style><div class='table-result-container'><table class='table-result'><thead style='background-color: white'><tr><th>Year</th><th>Method_Name</th><th>total_records</th><th>crescimento</th></tr></thead><tbody><tr><td>2013</td><td>hacked</td><td>3460570298</td><td>3056129455</td></tr><tr><td>2019</td><td>poor security</td><td>2617208000</td><td>2166618000</td></tr><tr><td>2018</td><td>hacked</td><td>986975943</td><td>901228066</td></tr><tr><td>2018</td><td>poor security</td><td>450590000</td><td>285571000</td></tr><tr><td>2019</td><td>unknown</td><td>299055000</td><td>206771111</td></tr><tr><td>2012</td><td>hacked</td><td>404440843</td><td>205705005</td></tr><tr><td>2011</td><td>hacked</td><td>198735838</td><td>192915438</td></tr><tr><td>2017</td><td>poor security</td><td>165019000</td><td>164989000</td></tr><tr><td>2009</td><td>hacked</td><td>176521778</td><td>149021778</td></tr><tr><td>2007</td><td>hacked</td><td>106100000</td><td>102100000</td></tr><tr><td>2009</td><td>lost / stolen media</td><td>77595209</td><td>61060709</td></tr><tr><td>2005</td><td>hacked</td><td>41400000</td><td>39037000</td></tr><tr><td>2020</td><td>hacked</td><td>361510304</td><td>20086673</td></tr><tr><td>2014</td><td>inside job</td><td>20000000</td><td>18000000</td></tr><tr><td>2007</td><td>inside job</td><td>18226405</td><td>15626405</td></tr><tr><td>2017</td><td>hacked</td><td>85747877</td><td>12435761</td></tr><tr><td>2006</td><td>lost / stolen media</td><td>17200000</td><td>11900000</td></tr><tr><td>2007</td><td>lost / stolen media</td><td>28160000</td><td>10960000</td></tr><tr><td>2012</td><td>accidentally published</td><td>15083792</td><td>10475331</td></tr><tr><td>2011</td><td>lost / stolen computer</td><td>10059196</td><td>9953726</td></tr><tr><td>2019</td><td>inside job</td><td>9700000</td><td>9693300</td></tr><tr><td>2022</td><td>poor security</td><td>7700000</td><td>6809000</td></tr><tr><td>2012</td><td>inside job</td><td>8200000</td><td>5700000</td></tr><tr><td>2020</td><td>poor security/inside job</td><td>5200000</td><td>5185800</td></tr><tr><td>2011</td><td>accidentally published</td><td>4608461</td><td>4565461</td></tr><tr><td>2017</td><td>lost / stolen media</td><td>4000000</td><td>3655421</td></tr><tr><td>2011</td><td>lost / stolen media</td><td>11391642</td><td>2283036</td></tr><tr><td>2006</td><td>inside job</td><td>2600000</td><td>2090000</td></tr><tr><td>2011</td><td>inside job</td><td>2500000</td><td>1597000</td></tr><tr><td>2008</td><td>lost / stolen computer</td><td>2382000</td><td>1582000</td></tr><tr><td>2011</td><td>poor security</td><td>493000</td><td>368000</td></tr><tr><td>2015</td><td>poor security</td><td>500000</td><td>322000</td></tr><tr><td>2014</td><td>poor security</td><td>178000</td><td>28000</td></tr><tr><td>2013</td><td>poor security</td><td>150000</td><td>-165000</td></tr><tr><td>2012</td><td>poor security</td><td>315000</td><td>-178000</td></tr><tr><td>2013</td><td>lost / stolen media</td><td>344579</td><td>-455421</td></tr><tr><td>2016</td><td>poor security</td><td>30000</td><td>-470000</td></tr><tr><td>2016</td><td>inside job</td><td>6700</td><td>-673300</td></tr><tr><td>2009</td><td>lost / stolen computer</td><td>1351000</td><td>-1031000</td></tr><tr><td>2010</td><td>lost / stolen computer</td><td>105470</td><td>-1245530</td></tr><tr><td>2013</td><td>inside job</td><td>2000000</td><td>-6200000</td></tr><tr><td>2008</td><td>inside job</td><td>11100000</td><td>-7126405</td></tr><tr><td>2008</td><td>accidentally published</td><td>11550000</td><td>-8450000</td></tr><tr><td>2013</td><td>accidentally published</td><td>6170000</td><td>-8913792</td></tr><tr><td>2013</td><td>lost / stolen computer</td><td>200000</td><td>-9859196</td></tr><tr><td>2010</td><td>inside job</td><td>903000</td><td>-10197000</td></tr><tr><td>2012</td><td>lost / stolen media</td><td>800000</td><td>-10591642</td></tr><tr><td>2010</td><td>accidentally published</td><td>43000</td><td>-11507000</td></tr><tr><td>2008</td><td>lost / stolen media</td><td>16534500</td><td>-11625500</td></tr><tr><td>2022</td><td>accidentally published</td><td>95000</td><td>-12272232</td></tr><tr><td>2015</td><td>inside job</td><td>680000</td><td>-19320000</td></tr><tr><td>2007</td><td>lost / stolen computer</td><td>800000</td><td>-25700000</td></tr><tr><td>2006</td><td>hacked</td><td>4000000</td><td>-37400000</td></tr><tr><td>2010</td><td>lost / stolen media</td><td>9108606</td><td>-68486603</td></tr><tr><td>2008</td><td>hacked</td><td>27500000</td><td>-78600000</td></tr><tr><td>2016</td><td>hacked</td><td>73312116</td><td>-121107884</td></tr><tr><td>2010</td><td>hacked</td><td>5820400</td><td>-170701378</td></tr><tr><td>2021</td><td>accidentally published</td><td>12367232</td><td>-187632768</td></tr><tr><td>2020</td><td>unknown</td><td>56380000</td><td>-242675000</td></tr><tr><td>2021</td><td>hacked</td><td>48138034</td><td>-313372270</td></tr><tr><td>2021</td><td>poor security</td><td>891000</td><td>-366053028</td></tr><tr><td>2015</td><td>hacked</td><td>194420000</td><td>-636380000</td></tr><tr><td>2019</td><td>hacked</td><td>341423631</td><td>-645552312</td></tr><tr><td>2020</td><td>poor security</td><td>366944028</td><td>-2250263972</td></tr><tr><td>2014</td><td>hacked</td><td>830800000</td><td>-2629770298</td></tr><tr><td>2015</td><td>accidentally published</td><td>null</td><td>null</td></tr><tr><td>2016</td><td>lost / stolen computer</td><td>null</td><td>null</td></tr><tr><td>2021</td><td>unknown</td><td>null</td><td>null</td></tr></tbody></table></div>"
      ]
     },
     "metadata": {
      "application/vnd.databricks.v1+output": {
       "addedWidgets": {},
       "aggData": [],
       "aggError": "",
       "aggOverflow": false,
       "aggSchema": [],
       "aggSeriesLimitReached": false,
       "aggType": "",
       "arguments": {},
       "columnCustomDisplayInfos": {},
       "data": [
        [
         2013,
         "hacked",
         3460570298,
         3056129455
        ],
        [
         2019,
         "poor security",
         2617208000,
         2166618000
        ],
        [
         2018,
         "hacked",
         986975943,
         901228066
        ],
        [
         2018,
         "poor security",
         450590000,
         285571000
        ],
        [
         2019,
         "unknown",
         299055000,
         206771111
        ],
        [
         2012,
         "hacked",
         404440843,
         205705005
        ],
        [
         2011,
         "hacked",
         198735838,
         192915438
        ],
        [
         2017,
         "poor security",
         165019000,
         164989000
        ],
        [
         2009,
         "hacked",
         176521778,
         149021778
        ],
        [
         2007,
         "hacked",
         106100000,
         102100000
        ],
        [
         2009,
         "lost / stolen media",
         77595209,
         61060709
        ],
        [
         2005,
         "hacked",
         41400000,
         39037000
        ],
        [
         2020,
         "hacked",
         361510304,
         20086673
        ],
        [
         2014,
         "inside job",
         20000000,
         18000000
        ],
        [
         2007,
         "inside job",
         18226405,
         15626405
        ],
        [
         2017,
         "hacked",
         85747877,
         12435761
        ],
        [
         2006,
         "lost / stolen media",
         17200000,
         11900000
        ],
        [
         2007,
         "lost / stolen media",
         28160000,
         10960000
        ],
        [
         2012,
         "accidentally published",
         15083792,
         10475331
        ],
        [
         2011,
         "lost / stolen computer",
         10059196,
         9953726
        ],
        [
         2019,
         "inside job",
         9700000,
         9693300
        ],
        [
         2022,
         "poor security",
         7700000,
         6809000
        ],
        [
         2012,
         "inside job",
         8200000,
         5700000
        ],
        [
         2020,
         "poor security/inside job",
         5200000,
         5185800
        ],
        [
         2011,
         "accidentally published",
         4608461,
         4565461
        ],
        [
         2017,
         "lost / stolen media",
         4000000,
         3655421
        ],
        [
         2011,
         "lost / stolen media",
         11391642,
         2283036
        ],
        [
         2006,
         "inside job",
         2600000,
         2090000
        ],
        [
         2011,
         "inside job",
         2500000,
         1597000
        ],
        [
         2008,
         "lost / stolen computer",
         2382000,
         1582000
        ],
        [
         2011,
         "poor security",
         493000,
         368000
        ],
        [
         2015,
         "poor security",
         500000,
         322000
        ],
        [
         2014,
         "poor security",
         178000,
         28000
        ],
        [
         2013,
         "poor security",
         150000,
         -165000
        ],
        [
         2012,
         "poor security",
         315000,
         -178000
        ],
        [
         2013,
         "lost / stolen media",
         344579,
         -455421
        ],
        [
         2016,
         "poor security",
         30000,
         -470000
        ],
        [
         2016,
         "inside job",
         6700,
         -673300
        ],
        [
         2009,
         "lost / stolen computer",
         1351000,
         -1031000
        ],
        [
         2010,
         "lost / stolen computer",
         105470,
         -1245530
        ],
        [
         2013,
         "inside job",
         2000000,
         -6200000
        ],
        [
         2008,
         "inside job",
         11100000,
         -7126405
        ],
        [
         2008,
         "accidentally published",
         11550000,
         -8450000
        ],
        [
         2013,
         "accidentally published",
         6170000,
         -8913792
        ],
        [
         2013,
         "lost / stolen computer",
         200000,
         -9859196
        ],
        [
         2010,
         "inside job",
         903000,
         -10197000
        ],
        [
         2012,
         "lost / stolen media",
         800000,
         -10591642
        ],
        [
         2010,
         "accidentally published",
         43000,
         -11507000
        ],
        [
         2008,
         "lost / stolen media",
         16534500,
         -11625500
        ],
        [
         2022,
         "accidentally published",
         95000,
         -12272232
        ],
        [
         2015,
         "inside job",
         680000,
         -19320000
        ],
        [
         2007,
         "lost / stolen computer",
         800000,
         -25700000
        ],
        [
         2006,
         "hacked",
         4000000,
         -37400000
        ],
        [
         2010,
         "lost / stolen media",
         9108606,
         -68486603
        ],
        [
         2008,
         "hacked",
         27500000,
         -78600000
        ],
        [
         2016,
         "hacked",
         73312116,
         -121107884
        ],
        [
         2010,
         "hacked",
         5820400,
         -170701378
        ],
        [
         2021,
         "accidentally published",
         12367232,
         -187632768
        ],
        [
         2020,
         "unknown",
         56380000,
         -242675000
        ],
        [
         2021,
         "hacked",
         48138034,
         -313372270
        ],
        [
         2021,
         "poor security",
         891000,
         -366053028
        ],
        [
         2015,
         "hacked",
         194420000,
         -636380000
        ],
        [
         2019,
         "hacked",
         341423631,
         -645552312
        ],
        [
         2020,
         "poor security",
         366944028,
         -2250263972
        ],
        [
         2014,
         "hacked",
         830800000,
         -2629770298
        ],
        [
         2015,
         "accidentally published",
         null,
         null
        ],
        [
         2016,
         "lost / stolen computer",
         null,
         null
        ],
        [
         2021,
         "unknown",
         null,
         null
        ]
       ],
       "datasetInfos": [],
       "dbfsResultPath": null,
       "isJsonSchema": true,
       "metadata": {},
       "overflow": false,
       "plotOptions": {
        "customPlotOptions": {},
        "displayType": "table",
        "pivotAggregation": null,
        "pivotColumns": null,
        "xColumns": null,
        "yColumns": null
       },
       "removedWidgets": [],
       "schema": [
        {
         "metadata": "{}",
         "name": "Year",
         "type": "\"integer\""
        },
        {
         "metadata": "{}",
         "name": "Method_Name",
         "type": "\"string\""
        },
        {
         "metadata": "{}",
         "name": "total_records",
         "type": "\"long\""
        },
        {
         "metadata": "{}",
         "name": "crescimento",
         "type": "\"long\""
        }
       ],
       "type": "table"
      }
     },
     "output_type": "display_data"
    }
   ],
   "source": [
    "%sql\n",
    "-- 11. Quais métodos de ataque estão crescendo mais rápido?\n",
    "WITH metodo_crescimento AS (\n",
    "    SELECT Year, m.Method_Name, SUM(f.Records) AS total_records,\n",
    "           LAG(SUM(f.Records)) OVER (PARTITION BY m.Method_Name ORDER BY Year) AS prev_year_records\n",
    "    FROM fatos_ocorrencias f\n",
    "    JOIN dim_metodo m ON f.Method_ID = m.Method_ID\n",
    "    GROUP BY Year, m.Method_Name\n",
    ")\n",
    "SELECT Year, Method_Name, total_records, (total_records - prev_year_records) AS crescimento\n",
    "FROM metodo_crescimento\n",
    "WHERE prev_year_records IS NOT NULL\n",
    "ORDER BY crescimento DESC;\n"
   ]
  }
 ],
 "metadata": {
  "application/vnd.databricks.v1+notebook": {
   "computePreferences": null,
   "dashboards": [],
   "environmentMetadata": {
    "base_environment": "",
    "environment_version": "1"
   },
   "inputWidgetPreferences": null,
   "language": "python",
   "notebookMetadata": {
    "mostRecentlyExecutedCommandWithImplicitDF": {
     "commandId": 1710980536431282,
     "dataframes": [
      "_sqldf"
     ]
    },
    "pythonIndentUnit": 4
   },
   "notebookName": "Cyberleaks DW MVP1",
   "widgets": {}
  }
 },
 "nbformat": 4,
 "nbformat_minor": 0
}